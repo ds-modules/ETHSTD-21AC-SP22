{
 "cells": [
  {
   "cell_type": "code",
   "execution_count": 1,
   "metadata": {
    "cell_id": "34e4d49d-9687-4e5b-a27a-a0dcd1c4d570",
    "deepnote_cell_height": 171,
    "deepnote_cell_type": "code",
    "deepnote_to_be_reexecuted": false,
    "execution_millis": 2617,
    "execution_start": 1649696010920,
    "source_hash": "c2aea1fe",
    "tags": []
   },
   "outputs": [],
   "source": [
    "# Run this cell to set up your notebook\n",
    "import numpy as np\n",
    "import pandas as pd\n",
    "import matplotlib.pyplot as plt\n",
    "import seaborn as sns\n",
    "from otter import Notebook"
   ]
  },
  {
   "cell_type": "markdown",
   "metadata": {
    "cell_id": "4ff38d7170c64e9f820c04a4228daaca",
    "deepnote_cell_height": 248.78125,
    "deepnote_cell_type": "markdown",
    "owner_user_id": "f002be3a-ffea-4f50-b514-adb6f2c4b8ee",
    "tags": []
   },
   "source": [
    "**------**\n",
    "\n",
    "**For any additional support needed for this assignment, please use any/all of these resources:**\n",
    "* Data Peer Consulting ([Virtual Drop-In 12-4pm Monday-Friday](https://data.berkeley.edu/academics/campus-resources/data-peer-consulting))\n",
    "    * They are trained and familiar with Jupyter Notebooks and this material, and love answering your questions!\n",
    "* Email Skye with any questions at sabrinaskyepickett@berkeley.edu\n",
    "* Come to Skye and Caitlin's Office Hour(s) -- stay tuned for an announcement from your Professor\n",
    "    * Sunday 4/17 7-8pm: \n",
    "        https://berkeley.zoom.us/j/94497745159\n",
    "\n",
    "    * Thursday 4/21 6-7pm:\n",
    "        https://berkeley.zoom.us/j/95687602545\n",
    "        \n",
    "**------**"
   ]
  },
  {
   "cell_type": "markdown",
   "metadata": {
    "cell_id": "0e9a8bc78cf64b93a1ccfaa42573d411",
    "deepnote_cell_type": "text-cell-h1",
    "is_collapsed": false,
    "tags": []
   },
   "source": [
    "# COVID-19 in Prisons"
   ]
  },
  {
   "cell_type": "markdown",
   "metadata": {
    "cell_id": "64f8ab9eb6f043978466b386f702e6f3",
    "deepnote_cell_height": 119.59375,
    "deepnote_cell_type": "markdown",
    "tags": []
   },
   "source": [
    "In California, during the early months of the COVID-19 pandemic, Coronavirus spread most quickly through state prisons. Due to the close proximity of roommates, poor living conditions, and uncertainty of the transmissibility of the virus, it became extremely difficult to contain outbreaks. The data we'll be analyzing comes from California's open data portal. Feel free to read more about the data on the [CDCR's website](https://data.ca.gov/dataset/cdcr-population-covid-19-tracking)."
   ]
  },
  {
   "cell_type": "code",
   "execution_count": 2,
   "metadata": {
    "cell_id": "f7a61363f1664ce6a296b6c31b1dfb43",
    "deepnote_cell_height": 636,
    "deepnote_cell_type": "code",
    "deepnote_table_loading": false,
    "deepnote_table_state": {
     "filters": [],
     "pageIndex": 2575,
     "pageSize": 10,
     "sortBy": []
    },
    "deepnote_to_be_reexecuted": false,
    "execution_millis": 226,
    "execution_start": 1649696013544,
    "source_hash": "64e7318e",
    "tags": []
   },
   "outputs": [
    {
     "data": {
      "text/html": [
       "<div>\n",
       "<style scoped>\n",
       "    .dataframe tbody tr th:only-of-type {\n",
       "        vertical-align: middle;\n",
       "    }\n",
       "\n",
       "    .dataframe tbody tr th {\n",
       "        vertical-align: top;\n",
       "    }\n",
       "\n",
       "    .dataframe thead th {\n",
       "        text-align: right;\n",
       "    }\n",
       "</style>\n",
       "<table border=\"1\" class=\"dataframe\">\n",
       "  <thead>\n",
       "    <tr style=\"text-align: right;\">\n",
       "      <th></th>\n",
       "      <th>Date</th>\n",
       "      <th>InstitutionName</th>\n",
       "      <th>Latitude</th>\n",
       "      <th>Longitude</th>\n",
       "      <th>TotalConfirmed</th>\n",
       "      <th>TotalDeaths</th>\n",
       "      <th>DistinctPatientsTested</th>\n",
       "      <th>NewInTheLast14Days</th>\n",
       "    </tr>\n",
       "  </thead>\n",
       "  <tbody>\n",
       "    <tr>\n",
       "      <th>0</th>\n",
       "      <td>2020-03-10</td>\n",
       "      <td>Avenal State Prison (ASP)</td>\n",
       "      <td>35.930766</td>\n",
       "      <td>-120.100570</td>\n",
       "      <td>0</td>\n",
       "      <td>0</td>\n",
       "      <td>0</td>\n",
       "      <td>0</td>\n",
       "    </tr>\n",
       "    <tr>\n",
       "      <th>1</th>\n",
       "      <td>2020-03-10</td>\n",
       "      <td>California City Correctional Facility (CAC)</td>\n",
       "      <td>35.139327</td>\n",
       "      <td>-117.914730</td>\n",
       "      <td>0</td>\n",
       "      <td>0</td>\n",
       "      <td>1</td>\n",
       "      <td>0</td>\n",
       "    </tr>\n",
       "    <tr>\n",
       "      <th>2</th>\n",
       "      <td>2020-03-10</td>\n",
       "      <td>Calipatria State Prison (CAL)</td>\n",
       "      <td>33.131764</td>\n",
       "      <td>-115.512080</td>\n",
       "      <td>0</td>\n",
       "      <td>0</td>\n",
       "      <td>0</td>\n",
       "      <td>0</td>\n",
       "    </tr>\n",
       "    <tr>\n",
       "      <th>3</th>\n",
       "      <td>2020-03-10</td>\n",
       "      <td>California Correctional Center (CCC)</td>\n",
       "      <td>40.446063</td>\n",
       "      <td>-120.664132</td>\n",
       "      <td>0</td>\n",
       "      <td>0</td>\n",
       "      <td>0</td>\n",
       "      <td>0</td>\n",
       "    </tr>\n",
       "    <tr>\n",
       "      <th>4</th>\n",
       "      <td>2020-03-10</td>\n",
       "      <td>California Correctional Institution (CCI)</td>\n",
       "      <td>35.132673</td>\n",
       "      <td>-118.507810</td>\n",
       "      <td>0</td>\n",
       "      <td>0</td>\n",
       "      <td>0</td>\n",
       "      <td>0</td>\n",
       "    </tr>\n",
       "    <tr>\n",
       "      <th>...</th>\n",
       "      <td>...</td>\n",
       "      <td>...</td>\n",
       "      <td>...</td>\n",
       "      <td>...</td>\n",
       "      <td>...</td>\n",
       "      <td>...</td>\n",
       "      <td>...</td>\n",
       "      <td>...</td>\n",
       "    </tr>\n",
       "    <tr>\n",
       "      <th>25755</th>\n",
       "      <td>2022-01-06</td>\n",
       "      <td>Salinas Valley State Prison (SVSP)</td>\n",
       "      <td>36.518179</td>\n",
       "      <td>-121.425570</td>\n",
       "      <td>689</td>\n",
       "      <td>6</td>\n",
       "      <td>63</td>\n",
       "      <td>5</td>\n",
       "    </tr>\n",
       "    <tr>\n",
       "      <th>25756</th>\n",
       "      <td>2022-01-06</td>\n",
       "      <td>Valley State Prison (VSP)</td>\n",
       "      <td>37.127525</td>\n",
       "      <td>-120.505740</td>\n",
       "      <td>1783</td>\n",
       "      <td>2</td>\n",
       "      <td>161</td>\n",
       "      <td>20</td>\n",
       "    </tr>\n",
       "    <tr>\n",
       "      <th>25757</th>\n",
       "      <td>2022-01-06</td>\n",
       "      <td>Wasco State Prison (WSP)</td>\n",
       "      <td>35.605045</td>\n",
       "      <td>-119.371430</td>\n",
       "      <td>2441</td>\n",
       "      <td>2</td>\n",
       "      <td>306</td>\n",
       "      <td>471</td>\n",
       "    </tr>\n",
       "    <tr>\n",
       "      <th>25758</th>\n",
       "      <td>2022-01-07</td>\n",
       "      <td>Avenal State Prison (ASP)</td>\n",
       "      <td>35.930766</td>\n",
       "      <td>-120.100570</td>\n",
       "      <td>3145</td>\n",
       "      <td>8</td>\n",
       "      <td>122</td>\n",
       "      <td>8</td>\n",
       "    </tr>\n",
       "    <tr>\n",
       "      <th>25759</th>\n",
       "      <td>2022-01-07</td>\n",
       "      <td>California City Correctional Facility (CAC)</td>\n",
       "      <td>35.139327</td>\n",
       "      <td>-117.914730</td>\n",
       "      <td>1080</td>\n",
       "      <td>2</td>\n",
       "      <td>210</td>\n",
       "      <td>64</td>\n",
       "    </tr>\n",
       "  </tbody>\n",
       "</table>\n",
       "<p>25760 rows × 8 columns</p>\n",
       "</div>"
      ],
      "text/plain": [
       "             Date                              InstitutionName   Latitude  \\\n",
       "0      2020-03-10                    Avenal State Prison (ASP)  35.930766   \n",
       "1      2020-03-10  California City Correctional Facility (CAC)  35.139327   \n",
       "2      2020-03-10                Calipatria State Prison (CAL)  33.131764   \n",
       "3      2020-03-10         California Correctional Center (CCC)  40.446063   \n",
       "4      2020-03-10    California Correctional Institution (CCI)  35.132673   \n",
       "...           ...                                          ...        ...   \n",
       "25755  2022-01-06           Salinas Valley State Prison (SVSP)  36.518179   \n",
       "25756  2022-01-06                    Valley State Prison (VSP)  37.127525   \n",
       "25757  2022-01-06                     Wasco State Prison (WSP)  35.605045   \n",
       "25758  2022-01-07                    Avenal State Prison (ASP)  35.930766   \n",
       "25759  2022-01-07  California City Correctional Facility (CAC)  35.139327   \n",
       "\n",
       "        Longitude  TotalConfirmed  TotalDeaths  DistinctPatientsTested  \\\n",
       "0     -120.100570               0            0                       0   \n",
       "1     -117.914730               0            0                       1   \n",
       "2     -115.512080               0            0                       0   \n",
       "3     -120.664132               0            0                       0   \n",
       "4     -118.507810               0            0                       0   \n",
       "...           ...             ...          ...                     ...   \n",
       "25755 -121.425570             689            6                      63   \n",
       "25756 -120.505740            1783            2                     161   \n",
       "25757 -119.371430            2441            2                     306   \n",
       "25758 -120.100570            3145            8                     122   \n",
       "25759 -117.914730            1080            2                     210   \n",
       "\n",
       "       NewInTheLast14Days  \n",
       "0                       0  \n",
       "1                       0  \n",
       "2                       0  \n",
       "3                       0  \n",
       "4                       0  \n",
       "...                   ...  \n",
       "25755                   5  \n",
       "25756                  20  \n",
       "25757                 471  \n",
       "25758                   8  \n",
       "25759                  64  \n",
       "\n",
       "[25760 rows x 8 columns]"
      ]
     },
     "execution_count": 2,
     "metadata": {},
     "output_type": "execute_result"
    }
   ],
   "source": [
    "# load the data\n",
    "covid_in_prisons = pd.read_csv('covid19dashboard.csv')\n",
    "covid_in_prisons"
   ]
  },
  {
   "cell_type": "markdown",
   "metadata": {
    "cell_id": "8f488392c61e4d468ac3e2dc785110c5",
    "deepnote_cell_type": "text-cell-h3",
    "is_collapsed": false,
    "tags": []
   },
   "source": [
    "### About the Data"
   ]
  },
  {
   "cell_type": "markdown",
   "metadata": {
    "cell_id": "1fdeb83d60044e65abdc6265d52a563f",
    "deepnote_cell_height": 169.984375,
    "deepnote_cell_type": "markdown",
    "tags": []
   },
   "source": [
    "Before we jump into any data analysis, it's important to familiarize ourselves with the dataset. \n",
    "\n",
    "Recall that the 'prisons' dataset was a Table. Here, the covid_in_prisons dataset is a DataFrame. (If you'd like to know more, read through the documentation of [DataFrames](https://pandas.pydata.org/docs/reference/api/pandas.DataFrame.html).) It looks just like a table did and has very similar features, but slightly different ways to walk through them.\n",
    "\n",
    "<!-- BEGIN QUESTION --> \n",
    "\n",
    "\n",
    "<font color = #d14d0f>**QUESTION 1**:</font> Scroll through the prisons dataset above. What do you notice? What do the rows and columns mean?"
   ]
  },
  {
   "cell_type": "markdown",
   "metadata": {
    "cell_id": "cae531ea4cee4c75b81a63681fc7bb36",
    "deepnote_cell_height": 52.390625,
    "deepnote_cell_type": "markdown",
    "tags": []
   },
   "source": [
    "*Replace this text with your response!*"
   ]
  },
  {
   "cell_type": "markdown",
   "metadata": {
    "cell_id": "eaf6c670257141308b3126775d15c92e",
    "deepnote_cell_height": 111.1875,
    "deepnote_cell_type": "markdown",
    "tags": []
   },
   "source": [
    "<!-- END QUESTION -->\n",
    "In this notebook, we are focusing less on the technicalities of code writing and more on the common techniques that are used to manipulate data that we have already seen.  \n",
    "\n",
    "Below, display the different column names."
   ]
  },
  {
   "cell_type": "code",
   "execution_count": 3,
   "metadata": {
    "cell_id": "e0357e41c0e64391a5bd8ff4906450f2",
    "deepnote_cell_height": 156.578125,
    "deepnote_cell_type": "code",
    "deepnote_output_heights": [
     59.578125
    ],
    "deepnote_to_be_reexecuted": false,
    "execution_millis": 62,
    "execution_start": 1649696013772,
    "source_hash": "3fc533b",
    "tags": []
   },
   "outputs": [
    {
     "data": {
      "text/plain": [
       "Index(['Date', 'InstitutionName', 'Latitude', 'Longitude', 'TotalConfirmed',\n",
       "       'TotalDeaths', 'DistinctPatientsTested', 'NewInTheLast14Days'],\n",
       "      dtype='object')"
      ]
     },
     "execution_count": 3,
     "metadata": {},
     "output_type": "execute_result"
    }
   ],
   "source": [
    "covid_in_prisons.columns"
   ]
  },
  {
   "cell_type": "markdown",
   "metadata": {
    "cell_id": "fa5f6b63da174b2d9cb4380f410019a6",
    "deepnote_cell_height": 97.1875,
    "deepnote_cell_type": "markdown",
    "tags": []
   },
   "source": [
    "Each row represents a prison or detention center on a particular day. The data starts March 10, 2020 and ends January 7, 2022. Below, display the different prisons and detention centers represented in the data using the *unique()* function of DataFrames."
   ]
  },
  {
   "cell_type": "code",
   "execution_count": 4,
   "metadata": {
    "cell_id": "2baf41b86a2f4ead90ce734a5d7b2999",
    "deepnote_cell_height": 712.046875,
    "deepnote_cell_type": "code",
    "deepnote_output_heights": [
     597.046875
    ],
    "deepnote_to_be_reexecuted": false,
    "execution_millis": 104,
    "execution_start": 1649696013832,
    "source_hash": "8a698056",
    "tags": []
   },
   "outputs": [
    {
     "data": {
      "text/plain": [
       "array(['Avenal State Prison (ASP)',\n",
       "       'California City Correctional Facility (CAC)',\n",
       "       'Calipatria State Prison (CAL)',\n",
       "       'California Correctional Center (CCC)',\n",
       "       'California Correctional Institution (CCI)',\n",
       "       \"Central California Women's Facility (CCWF)\",\n",
       "       'California State Prison-Centinela (CEN)',\n",
       "       'California Health Care Facility (CHCF)',\n",
       "       'California Institution for Men (CIM)',\n",
       "       'California Institution for Women (CIW)',\n",
       "       \"California Men's Colony (CMC)\",\n",
       "       'California Medical Facility (CMF)',\n",
       "       'California State Prison-Corcoran (COR)',\n",
       "       'California Rehabilitation Center (CRC)',\n",
       "       'Correctional Training Facility (CTF)',\n",
       "       'Chuckawalla Valley State Prison (CVSP)',\n",
       "       'Deuel Vocational Institution (DVI)', 'Folsom State Prison (FSP)',\n",
       "       'High Desert State Prison (HDSP)', 'Ironwood State Prison (ISP)',\n",
       "       'Kern Valley State Prison (KVSP)',\n",
       "       'California State Prison-Los Angeles County (LAC)',\n",
       "       'Mule Creek State Prison (MCSP)', 'North Kern State Prison (NKSP)',\n",
       "       'Pelican Bay State Prison (PBSP)',\n",
       "       'Pleasant Valley State Prison (PVSP)',\n",
       "       'Richard J. Donovan Correctional Facility (RJD)',\n",
       "       'California State Prison-Sacramento (SAC)',\n",
       "       'Substance Abuse Treatment Facility (SATF)',\n",
       "       'Sierra Conservation Center (SCC)',\n",
       "       'California State Prison-Solano (SOL)',\n",
       "       'San Quentin State Prison (SQ)',\n",
       "       'Salinas Valley State Prison (SVSP)', 'Valley State Prison (VSP)',\n",
       "       'Wasco State Prison (WSP)'], dtype=object)"
      ]
     },
     "execution_count": 4,
     "metadata": {},
     "output_type": "execute_result"
    }
   ],
   "source": [
    "institution_names = covid_in_prisons['InstitutionName'].unique()\n",
    "institution_names"
   ]
  },
  {
   "cell_type": "markdown",
   "metadata": {
    "cell_id": "0b816f50189245c3b4646b4d921e3f2b",
    "deepnote_cell_height": 52.390625,
    "deepnote_cell_type": "markdown",
    "tags": []
   },
   "source": [
    "Based on the following cell's code, we can see that there are 35 institutions represented in the covid_in_prisons DataFrame."
   ]
  },
  {
   "cell_type": "code",
   "execution_count": 5,
   "metadata": {
    "cell_id": "d0d8d1697b404c34a87386a1c50bdbf4",
    "deepnote_cell_height": 136.1875,
    "deepnote_cell_type": "code",
    "deepnote_output_heights": [
     21.1875
    ],
    "deepnote_to_be_reexecuted": false,
    "execution_millis": 2,
    "execution_start": 1649696013937,
    "source_hash": "e5d768d6",
    "tags": []
   },
   "outputs": [
    {
     "data": {
      "text/plain": [
       "35"
      ]
     },
     "execution_count": 5,
     "metadata": {},
     "output_type": "execute_result"
    }
   ],
   "source": [
    "# len() is a function that takes the length of an array/list (in this case, institution_names)\n",
    "len(institution_names)"
   ]
  },
  {
   "cell_type": "markdown",
   "metadata": {
    "cell_id": "cd69a577234c4d61acafa6ac26a2e3f9",
    "deepnote_cell_height": 111.1875,
    "deepnote_cell_type": "markdown",
    "tags": []
   },
   "source": [
    "To see how many rows/records there are for any Institution in our DataFrame, we take the sum of the amount of rows that have the given Institution Name in its 'InstitutionName' column.\n",
    "\n",
    "Written in code, this is *sum(covid_in_prisons['InstitutionName'] == 'Example Prison')*. "
   ]
  },
  {
   "cell_type": "markdown",
   "metadata": {
    "cell_id": "8069eda15bd9410d90f7783cde618be5",
    "deepnote_cell_height": 74.796875,
    "deepnote_cell_type": "markdown",
    "tags": []
   },
   "source": [
    "In the below cell, we've found the total number of rows/records from Avenal State Prison that exist in the covid_in_prisons DataFrame."
   ]
  },
  {
   "cell_type": "code",
   "execution_count": 6,
   "metadata": {
    "cell_id": "a9b17e92035e4f0d8809b307c6886913",
    "deepnote_cell_height": 118.1875,
    "deepnote_cell_type": "code",
    "deepnote_output_heights": [
     21.1875
    ],
    "deepnote_to_be_reexecuted": false,
    "execution_millis": 50,
    "execution_start": 1649696013937,
    "source_hash": "9b2e12c4",
    "tags": []
   },
   "outputs": [
    {
     "data": {
      "text/plain": [
       "736"
      ]
     },
     "execution_count": 6,
     "metadata": {},
     "output_type": "execute_result"
    }
   ],
   "source": [
    "sum(covid_in_prisons['InstitutionName'] == 'Avenal State Prison (ASP)')"
   ]
  },
  {
   "cell_type": "markdown",
   "metadata": {
    "cell_id": "c5ec4204b10745cc95b47acc370a4f95",
    "deepnote_cell_height": 133.59375,
    "deepnote_cell_type": "markdown",
    "tags": []
   },
   "source": [
    "<!-- BEGIN QUESTION --> \n",
    "\n",
    "\n",
    "<font color = #d14d0f>**QUESTION 2**:</font> Replicate the code from the cell above to find the amount of rows/records from San Quentin State Prison. (Feel free to copy & paste the above cell.)\n",
    "\n",
    "*Note: For your code to work, the prison name needs to be written identically to how it is represented in institution_names (including spaces, capitalization, and parenthesis). **It is written in institution_names as: 'San Quentin State Prison (SQ)'***"
   ]
  },
  {
   "cell_type": "code",
   "execution_count": 7,
   "metadata": {
    "cell_id": "8aac2e6b77c54e84bfbfb356fe05fde2",
    "deepnote_cell_height": 154.1875,
    "deepnote_cell_type": "code",
    "deepnote_output_heights": [
     21.1875
    ],
    "deepnote_to_be_reexecuted": false,
    "execution_millis": 7,
    "execution_start": 1649696013981,
    "source_hash": "eedc5680",
    "tags": []
   },
   "outputs": [
    {
     "data": {
      "text/plain": [
       "Ellipsis"
      ]
     },
     "execution_count": 7,
     "metadata": {},
     "output_type": "execute_result"
    }
   ],
   "source": [
    "... # Delete this comment and write your line of code here\n",
    "# (copy and paste the cell above then modify the prison name!)"
   ]
  },
  {
   "cell_type": "markdown",
   "metadata": {
    "cell_id": "cab0d40bff094cc8bdbcf69c1fca8d71",
    "deepnote_cell_height": 133.59375,
    "deepnote_cell_type": "markdown",
    "tags": []
   },
   "source": [
    "Your answer should again be 736!\n",
    "<!-- END QUESTION --> \n",
    "We can actually see that there are the same number (736) of records/rows for each Institution in our DataFrame by running the following cell. (There will be more discussion on how this doesn't imply that the data from each Institution is collected in the same ways.)"
   ]
  },
  {
   "cell_type": "code",
   "execution_count": 8,
   "metadata": {
    "cell_id": "c68481a996f246b583ba0ef88abb964d",
    "deepnote_cell_height": 708,
    "deepnote_cell_type": "code",
    "deepnote_output_heights": [
     611
    ],
    "deepnote_to_be_reexecuted": false,
    "execution_millis": 49,
    "execution_start": 1649696013981,
    "source_hash": "db58018e",
    "tags": []
   },
   "outputs": [
    {
     "data": {
      "text/plain": [
       "InstitutionName\n",
       "Avenal State Prison (ASP)                           736\n",
       "California City Correctional Facility (CAC)         736\n",
       "California Correctional Center (CCC)                736\n",
       "California Correctional Institution (CCI)           736\n",
       "California Health Care Facility (CHCF)              736\n",
       "California Institution for Men (CIM)                736\n",
       "California Institution for Women (CIW)              736\n",
       "California Medical Facility (CMF)                   736\n",
       "California Men's Colony (CMC)                       736\n",
       "California Rehabilitation Center (CRC)              736\n",
       "California State Prison-Centinela (CEN)             736\n",
       "California State Prison-Corcoran (COR)              736\n",
       "California State Prison-Los Angeles County (LAC)    736\n",
       "California State Prison-Sacramento (SAC)            736\n",
       "California State Prison-Solano (SOL)                736\n",
       "Calipatria State Prison (CAL)                       736\n",
       "Central California Women's Facility (CCWF)          736\n",
       "Chuckawalla Valley State Prison (CVSP)              736\n",
       "Correctional Training Facility (CTF)                736\n",
       "Deuel Vocational Institution (DVI)                  736\n",
       "Folsom State Prison (FSP)                           736\n",
       "High Desert State Prison (HDSP)                     736\n",
       "Ironwood State Prison (ISP)                         736\n",
       "Kern Valley State Prison (KVSP)                     736\n",
       "Mule Creek State Prison (MCSP)                      736\n",
       "North Kern State Prison (NKSP)                      736\n",
       "Pelican Bay State Prison (PBSP)                     736\n",
       "Pleasant Valley State Prison (PVSP)                 736\n",
       "Richard J. Donovan Correctional Facility (RJD)      736\n",
       "Salinas Valley State Prison (SVSP)                  736\n",
       "San Quentin State Prison (SQ)                       736\n",
       "Sierra Conservation Center (SCC)                    736\n",
       "Substance Abuse Treatment Facility (SATF)           736\n",
       "Valley State Prison (VSP)                           736\n",
       "Wasco State Prison (WSP)                            736\n",
       "dtype: int64"
      ]
     },
     "execution_count": 8,
     "metadata": {},
     "output_type": "execute_result"
    }
   ],
   "source": [
    "covid_in_prisons.groupby('InstitutionName').size()"
   ]
  },
  {
   "cell_type": "markdown",
   "metadata": {
    "cell_id": "96d12cc53e854fab8e964368be707e52",
    "deepnote_cell_height": 52.390625,
    "deepnote_cell_type": "markdown",
    "tags": []
   },
   "source": [
    "Now, let's start our EDA (exploratory data analysis). "
   ]
  },
  {
   "cell_type": "markdown",
   "metadata": {
    "cell_id": "cdb1bf709be74b62ac0bb371c2e7e349",
    "deepnote_cell_type": "text-cell-h3",
    "is_collapsed": false,
    "tags": []
   },
   "source": [
    "### Exploratory Data Analysis (EDA)"
   ]
  },
  {
   "cell_type": "markdown",
   "metadata": {
    "cell_id": "31644d2a7d1d4ef58dfa6885c4459d3f",
    "deepnote_cell_height": 133.59375,
    "deepnote_cell_type": "markdown",
    "tags": []
   },
   "source": [
    "**IMPORTANT NOTE:** the columns *TotalConfirmed* and *TotalDeaths* in the prisons dataset are **cummulative**. \n",
    "\n",
    "For example, if we take row 9992 in the covid_in_prisons dataset and look at the number in the 'TotalConfirmed' column, 111 represented the TOTAL number of confirmed cases at Ironwood State Prison (ISP) up until 10/13/20. It's important to recognize that there were not 111 new cases at ISP on this day, rather 111 total confirmed cases at ISP up until 10/13/20."
   ]
  },
  {
   "cell_type": "code",
   "execution_count": 9,
   "metadata": {
    "cell_id": "9670c13aaf7e431b9a1022935eb17ab1",
    "deepnote_cell_height": 307.75,
    "deepnote_cell_type": "code",
    "deepnote_output_heights": [
     174.75
    ],
    "deepnote_to_be_reexecuted": false,
    "execution_millis": 5,
    "execution_start": 1649696014025,
    "source_hash": "18049605",
    "tags": []
   },
   "outputs": [
    {
     "data": {
      "text/plain": [
       "Date                                       2020-10-13\n",
       "InstitutionName           Ironwood State Prison (ISP)\n",
       "Latitude                                     33.59869\n",
       "Longitude                                 -114.652517\n",
       "TotalConfirmed                                    111\n",
       "TotalDeaths                                         1\n",
       "DistinctPatientsTested                             16\n",
       "NewInTheLast14Days                                 22\n",
       "Name: 9992, dtype: object"
      ]
     },
     "execution_count": 9,
     "metadata": {},
     "output_type": "execute_result"
    }
   ],
   "source": [
    "# This function grabs the 9992nd row and shows the data from each column for this particular row.\n",
    "covid_in_prisons.iloc[9992]\n",
    "# Read the notes about what this data means above!"
   ]
  },
  {
   "cell_type": "markdown",
   "metadata": {
    "cell_id": "a0b65ac77ed345dcb450b3f9559047bd",
    "deepnote_cell_height": 74.796875,
    "deepnote_cell_type": "markdown",
    "tags": []
   },
   "source": [
    "Below, let's isolate the data from the last day in the data set. This way, we can see the total number of confirmed cases along with the total number of deaths from each prison/detention center. We'll isolate data from 1/6/22."
   ]
  },
  {
   "cell_type": "code",
   "execution_count": 10,
   "metadata": {
    "cell_id": "66ae64aa3cd6491bace8a7022558eb31",
    "deepnote_cell_height": 431,
    "deepnote_cell_type": "code",
    "deepnote_table_loading": false,
    "deepnote_table_state": {
     "filters": [],
     "pageIndex": 3,
     "pageSize": 10,
     "sortBy": []
    },
    "deepnote_to_be_reexecuted": false,
    "execution_millis": 33,
    "execution_start": 1649696014084,
    "source_hash": "f62d2690",
    "tags": []
   },
   "outputs": [
    {
     "data": {
      "text/html": [
       "<div>\n",
       "<style scoped>\n",
       "    .dataframe tbody tr th:only-of-type {\n",
       "        vertical-align: middle;\n",
       "    }\n",
       "\n",
       "    .dataframe tbody tr th {\n",
       "        vertical-align: top;\n",
       "    }\n",
       "\n",
       "    .dataframe thead th {\n",
       "        text-align: right;\n",
       "    }\n",
       "</style>\n",
       "<table border=\"1\" class=\"dataframe\">\n",
       "  <thead>\n",
       "    <tr style=\"text-align: right;\">\n",
       "      <th></th>\n",
       "      <th>Date</th>\n",
       "      <th>InstitutionName</th>\n",
       "      <th>Latitude</th>\n",
       "      <th>Longitude</th>\n",
       "      <th>TotalConfirmed</th>\n",
       "      <th>TotalDeaths</th>\n",
       "      <th>DistinctPatientsTested</th>\n",
       "      <th>NewInTheLast14Days</th>\n",
       "    </tr>\n",
       "  </thead>\n",
       "  <tbody>\n",
       "    <tr>\n",
       "      <th>25723</th>\n",
       "      <td>2022-01-06</td>\n",
       "      <td>Avenal State Prison (ASP)</td>\n",
       "      <td>35.930766</td>\n",
       "      <td>-120.100570</td>\n",
       "      <td>3145</td>\n",
       "      <td>8</td>\n",
       "      <td>91</td>\n",
       "      <td>9</td>\n",
       "    </tr>\n",
       "    <tr>\n",
       "      <th>25751</th>\n",
       "      <td>2022-01-06</td>\n",
       "      <td>Substance Abuse Treatment Facility (SATF)</td>\n",
       "      <td>36.177361</td>\n",
       "      <td>-119.820420</td>\n",
       "      <td>3137</td>\n",
       "      <td>7</td>\n",
       "      <td>100</td>\n",
       "      <td>5</td>\n",
       "    </tr>\n",
       "    <tr>\n",
       "      <th>25737</th>\n",
       "      <td>2022-01-06</td>\n",
       "      <td>Correctional Training Facility (CTF)</td>\n",
       "      <td>36.411760</td>\n",
       "      <td>-121.326170</td>\n",
       "      <td>2741</td>\n",
       "      <td>21</td>\n",
       "      <td>82</td>\n",
       "      <td>1</td>\n",
       "    </tr>\n",
       "    <tr>\n",
       "      <th>25736</th>\n",
       "      <td>2022-01-06</td>\n",
       "      <td>California Rehabilitation Center (CRC)</td>\n",
       "      <td>33.925885</td>\n",
       "      <td>-117.559780</td>\n",
       "      <td>2499</td>\n",
       "      <td>1</td>\n",
       "      <td>883</td>\n",
       "      <td>460</td>\n",
       "    </tr>\n",
       "    <tr>\n",
       "      <th>25733</th>\n",
       "      <td>2022-01-06</td>\n",
       "      <td>California Men's Colony (CMC)</td>\n",
       "      <td>35.221085</td>\n",
       "      <td>-120.636399</td>\n",
       "      <td>2498</td>\n",
       "      <td>13</td>\n",
       "      <td>110</td>\n",
       "      <td>4</td>\n",
       "    </tr>\n",
       "    <tr>\n",
       "      <th>25757</th>\n",
       "      <td>2022-01-06</td>\n",
       "      <td>Wasco State Prison (WSP)</td>\n",
       "      <td>35.605045</td>\n",
       "      <td>-119.371430</td>\n",
       "      <td>2441</td>\n",
       "      <td>2</td>\n",
       "      <td>306</td>\n",
       "      <td>471</td>\n",
       "    </tr>\n",
       "    <tr>\n",
       "      <th>25754</th>\n",
       "      <td>2022-01-06</td>\n",
       "      <td>San Quentin State Prison (SQ)</td>\n",
       "      <td>37.943365</td>\n",
       "      <td>-122.490290</td>\n",
       "      <td>2269</td>\n",
       "      <td>28</td>\n",
       "      <td>27</td>\n",
       "      <td>5</td>\n",
       "    </tr>\n",
       "    <tr>\n",
       "      <th>25741</th>\n",
       "      <td>2022-01-06</td>\n",
       "      <td>High Desert State Prison (HDSP)</td>\n",
       "      <td>40.474951</td>\n",
       "      <td>-120.676850</td>\n",
       "      <td>2087</td>\n",
       "      <td>2</td>\n",
       "      <td>146</td>\n",
       "      <td>11</td>\n",
       "    </tr>\n",
       "    <tr>\n",
       "      <th>25748</th>\n",
       "      <td>2022-01-06</td>\n",
       "      <td>Pleasant Valley State Prison (PVSP)</td>\n",
       "      <td>36.194736</td>\n",
       "      <td>-120.308650</td>\n",
       "      <td>2047</td>\n",
       "      <td>3</td>\n",
       "      <td>297</td>\n",
       "      <td>19</td>\n",
       "    </tr>\n",
       "    <tr>\n",
       "      <th>25731</th>\n",
       "      <td>2022-01-06</td>\n",
       "      <td>California Institution for Men (CIM)</td>\n",
       "      <td>34.015963</td>\n",
       "      <td>-117.687370</td>\n",
       "      <td>1942</td>\n",
       "      <td>30</td>\n",
       "      <td>393</td>\n",
       "      <td>340</td>\n",
       "    </tr>\n",
       "    <tr>\n",
       "      <th>25745</th>\n",
       "      <td>2022-01-06</td>\n",
       "      <td>Mule Creek State Prison (MCSP)</td>\n",
       "      <td>38.346132</td>\n",
       "      <td>-120.945160</td>\n",
       "      <td>1937</td>\n",
       "      <td>9</td>\n",
       "      <td>167</td>\n",
       "      <td>32</td>\n",
       "    </tr>\n",
       "    <tr>\n",
       "      <th>25738</th>\n",
       "      <td>2022-01-06</td>\n",
       "      <td>Chuckawalla Valley State Prison (CVSP)</td>\n",
       "      <td>33.628333</td>\n",
       "      <td>-114.619050</td>\n",
       "      <td>1824</td>\n",
       "      <td>9</td>\n",
       "      <td>103</td>\n",
       "      <td>11</td>\n",
       "    </tr>\n",
       "    <tr>\n",
       "      <th>25756</th>\n",
       "      <td>2022-01-06</td>\n",
       "      <td>Valley State Prison (VSP)</td>\n",
       "      <td>37.127525</td>\n",
       "      <td>-120.505740</td>\n",
       "      <td>1783</td>\n",
       "      <td>2</td>\n",
       "      <td>161</td>\n",
       "      <td>20</td>\n",
       "    </tr>\n",
       "    <tr>\n",
       "      <th>25752</th>\n",
       "      <td>2022-01-06</td>\n",
       "      <td>Sierra Conservation Center (SCC)</td>\n",
       "      <td>37.867243</td>\n",
       "      <td>-120.491570</td>\n",
       "      <td>1731</td>\n",
       "      <td>0</td>\n",
       "      <td>228</td>\n",
       "      <td>64</td>\n",
       "    </tr>\n",
       "    <tr>\n",
       "      <th>25742</th>\n",
       "      <td>2022-01-06</td>\n",
       "      <td>Ironwood State Prison (ISP)</td>\n",
       "      <td>33.598690</td>\n",
       "      <td>-114.652517</td>\n",
       "      <td>1649</td>\n",
       "      <td>1</td>\n",
       "      <td>38</td>\n",
       "      <td>61</td>\n",
       "    </tr>\n",
       "    <tr>\n",
       "      <th>25744</th>\n",
       "      <td>2022-01-06</td>\n",
       "      <td>California State Prison-Los Angeles County (LAC)</td>\n",
       "      <td>34.728857</td>\n",
       "      <td>-118.326830</td>\n",
       "      <td>1564</td>\n",
       "      <td>14</td>\n",
       "      <td>364</td>\n",
       "      <td>33</td>\n",
       "    </tr>\n",
       "    <tr>\n",
       "      <th>25740</th>\n",
       "      <td>2022-01-06</td>\n",
       "      <td>Folsom State Prison (FSP)</td>\n",
       "      <td>38.672127</td>\n",
       "      <td>-121.157830</td>\n",
       "      <td>1477</td>\n",
       "      <td>2</td>\n",
       "      <td>647</td>\n",
       "      <td>96</td>\n",
       "    </tr>\n",
       "    <tr>\n",
       "      <th>25726</th>\n",
       "      <td>2022-01-06</td>\n",
       "      <td>California Correctional Center (CCC)</td>\n",
       "      <td>40.446063</td>\n",
       "      <td>-120.664132</td>\n",
       "      <td>1466</td>\n",
       "      <td>0</td>\n",
       "      <td>81</td>\n",
       "      <td>1</td>\n",
       "    </tr>\n",
       "    <tr>\n",
       "      <th>25735</th>\n",
       "      <td>2022-01-06</td>\n",
       "      <td>California State Prison-Corcoran (COR)</td>\n",
       "      <td>36.085342</td>\n",
       "      <td>-119.554800</td>\n",
       "      <td>1448</td>\n",
       "      <td>7</td>\n",
       "      <td>189</td>\n",
       "      <td>80</td>\n",
       "    </tr>\n",
       "    <tr>\n",
       "      <th>25727</th>\n",
       "      <td>2022-01-06</td>\n",
       "      <td>California Correctional Institution (CCI)</td>\n",
       "      <td>35.132673</td>\n",
       "      <td>-118.507810</td>\n",
       "      <td>1424</td>\n",
       "      <td>4</td>\n",
       "      <td>54</td>\n",
       "      <td>7</td>\n",
       "    </tr>\n",
       "    <tr>\n",
       "      <th>25753</th>\n",
       "      <td>2022-01-06</td>\n",
       "      <td>California State Prison-Solano (SOL)</td>\n",
       "      <td>38.344010</td>\n",
       "      <td>-121.953330</td>\n",
       "      <td>1404</td>\n",
       "      <td>7</td>\n",
       "      <td>131</td>\n",
       "      <td>7</td>\n",
       "    </tr>\n",
       "    <tr>\n",
       "      <th>25746</th>\n",
       "      <td>2022-01-06</td>\n",
       "      <td>North Kern State Prison (NKSP)</td>\n",
       "      <td>35.774967</td>\n",
       "      <td>-119.233710</td>\n",
       "      <td>1398</td>\n",
       "      <td>5</td>\n",
       "      <td>234</td>\n",
       "      <td>157</td>\n",
       "    </tr>\n",
       "    <tr>\n",
       "      <th>25725</th>\n",
       "      <td>2022-01-06</td>\n",
       "      <td>Calipatria State Prison (CAL)</td>\n",
       "      <td>33.131764</td>\n",
       "      <td>-115.512080</td>\n",
       "      <td>1173</td>\n",
       "      <td>3</td>\n",
       "      <td>87</td>\n",
       "      <td>4</td>\n",
       "    </tr>\n",
       "    <tr>\n",
       "      <th>25749</th>\n",
       "      <td>2022-01-06</td>\n",
       "      <td>Richard J. Donovan Correctional Facility (RJD)</td>\n",
       "      <td>32.572602</td>\n",
       "      <td>-116.918724</td>\n",
       "      <td>1079</td>\n",
       "      <td>18</td>\n",
       "      <td>52</td>\n",
       "      <td>58</td>\n",
       "    </tr>\n",
       "    <tr>\n",
       "      <th>25724</th>\n",
       "      <td>2022-01-06</td>\n",
       "      <td>California City Correctional Facility (CAC)</td>\n",
       "      <td>35.139327</td>\n",
       "      <td>-117.914730</td>\n",
       "      <td>1073</td>\n",
       "      <td>2</td>\n",
       "      <td>28</td>\n",
       "      <td>57</td>\n",
       "    </tr>\n",
       "    <tr>\n",
       "      <th>25743</th>\n",
       "      <td>2022-01-06</td>\n",
       "      <td>Kern Valley State Prison (KVSP)</td>\n",
       "      <td>35.771876</td>\n",
       "      <td>-119.269840</td>\n",
       "      <td>1002</td>\n",
       "      <td>6</td>\n",
       "      <td>91</td>\n",
       "      <td>23</td>\n",
       "    </tr>\n",
       "    <tr>\n",
       "      <th>25728</th>\n",
       "      <td>2022-01-06</td>\n",
       "      <td>Central California Women's Facility (CCWF)</td>\n",
       "      <td>37.100417</td>\n",
       "      <td>-120.278640</td>\n",
       "      <td>969</td>\n",
       "      <td>1</td>\n",
       "      <td>528</td>\n",
       "      <td>7</td>\n",
       "    </tr>\n",
       "    <tr>\n",
       "      <th>25729</th>\n",
       "      <td>2022-01-06</td>\n",
       "      <td>California State Prison-Centinela (CEN)</td>\n",
       "      <td>32.853471</td>\n",
       "      <td>-115.589420</td>\n",
       "      <td>909</td>\n",
       "      <td>1</td>\n",
       "      <td>64</td>\n",
       "      <td>11</td>\n",
       "    </tr>\n",
       "    <tr>\n",
       "      <th>25734</th>\n",
       "      <td>2022-01-06</td>\n",
       "      <td>California Medical Facility (CMF)</td>\n",
       "      <td>38.348960</td>\n",
       "      <td>-121.908324</td>\n",
       "      <td>772</td>\n",
       "      <td>12</td>\n",
       "      <td>347</td>\n",
       "      <td>42</td>\n",
       "    </tr>\n",
       "    <tr>\n",
       "      <th>25755</th>\n",
       "      <td>2022-01-06</td>\n",
       "      <td>Salinas Valley State Prison (SVSP)</td>\n",
       "      <td>36.518179</td>\n",
       "      <td>-121.425570</td>\n",
       "      <td>689</td>\n",
       "      <td>6</td>\n",
       "      <td>63</td>\n",
       "      <td>5</td>\n",
       "    </tr>\n",
       "    <tr>\n",
       "      <th>25730</th>\n",
       "      <td>2022-01-06</td>\n",
       "      <td>California Health Care Facility (CHCF)</td>\n",
       "      <td>37.955474</td>\n",
       "      <td>-121.190640</td>\n",
       "      <td>686</td>\n",
       "      <td>19</td>\n",
       "      <td>311</td>\n",
       "      <td>17</td>\n",
       "    </tr>\n",
       "    <tr>\n",
       "      <th>25739</th>\n",
       "      <td>2022-01-06</td>\n",
       "      <td>Deuel Vocational Institution (DVI)</td>\n",
       "      <td>37.728417</td>\n",
       "      <td>-121.423990</td>\n",
       "      <td>545</td>\n",
       "      <td>0</td>\n",
       "      <td>0</td>\n",
       "      <td>0</td>\n",
       "    </tr>\n",
       "    <tr>\n",
       "      <th>25732</th>\n",
       "      <td>2022-01-06</td>\n",
       "      <td>California Institution for Women (CIW)</td>\n",
       "      <td>33.903803</td>\n",
       "      <td>-117.602210</td>\n",
       "      <td>530</td>\n",
       "      <td>1</td>\n",
       "      <td>79</td>\n",
       "      <td>21</td>\n",
       "    </tr>\n",
       "    <tr>\n",
       "      <th>25750</th>\n",
       "      <td>2022-01-06</td>\n",
       "      <td>California State Prison-Sacramento (SAC)</td>\n",
       "      <td>38.694033</td>\n",
       "      <td>-121.152413</td>\n",
       "      <td>355</td>\n",
       "      <td>2</td>\n",
       "      <td>146</td>\n",
       "      <td>16</td>\n",
       "    </tr>\n",
       "    <tr>\n",
       "      <th>25747</th>\n",
       "      <td>2022-01-06</td>\n",
       "      <td>Pelican Bay State Prison (PBSP)</td>\n",
       "      <td>41.782681</td>\n",
       "      <td>-124.167030</td>\n",
       "      <td>332</td>\n",
       "      <td>0</td>\n",
       "      <td>11</td>\n",
       "      <td>0</td>\n",
       "    </tr>\n",
       "  </tbody>\n",
       "</table>\n",
       "</div>"
      ],
      "text/plain": [
       "             Date                                   InstitutionName  \\\n",
       "25723  2022-01-06                         Avenal State Prison (ASP)   \n",
       "25751  2022-01-06         Substance Abuse Treatment Facility (SATF)   \n",
       "25737  2022-01-06              Correctional Training Facility (CTF)   \n",
       "25736  2022-01-06            California Rehabilitation Center (CRC)   \n",
       "25733  2022-01-06                     California Men's Colony (CMC)   \n",
       "25757  2022-01-06                          Wasco State Prison (WSP)   \n",
       "25754  2022-01-06                     San Quentin State Prison (SQ)   \n",
       "25741  2022-01-06                   High Desert State Prison (HDSP)   \n",
       "25748  2022-01-06               Pleasant Valley State Prison (PVSP)   \n",
       "25731  2022-01-06              California Institution for Men (CIM)   \n",
       "25745  2022-01-06                    Mule Creek State Prison (MCSP)   \n",
       "25738  2022-01-06            Chuckawalla Valley State Prison (CVSP)   \n",
       "25756  2022-01-06                         Valley State Prison (VSP)   \n",
       "25752  2022-01-06                  Sierra Conservation Center (SCC)   \n",
       "25742  2022-01-06                       Ironwood State Prison (ISP)   \n",
       "25744  2022-01-06  California State Prison-Los Angeles County (LAC)   \n",
       "25740  2022-01-06                         Folsom State Prison (FSP)   \n",
       "25726  2022-01-06              California Correctional Center (CCC)   \n",
       "25735  2022-01-06            California State Prison-Corcoran (COR)   \n",
       "25727  2022-01-06         California Correctional Institution (CCI)   \n",
       "25753  2022-01-06              California State Prison-Solano (SOL)   \n",
       "25746  2022-01-06                    North Kern State Prison (NKSP)   \n",
       "25725  2022-01-06                     Calipatria State Prison (CAL)   \n",
       "25749  2022-01-06    Richard J. Donovan Correctional Facility (RJD)   \n",
       "25724  2022-01-06       California City Correctional Facility (CAC)   \n",
       "25743  2022-01-06                   Kern Valley State Prison (KVSP)   \n",
       "25728  2022-01-06        Central California Women's Facility (CCWF)   \n",
       "25729  2022-01-06           California State Prison-Centinela (CEN)   \n",
       "25734  2022-01-06                 California Medical Facility (CMF)   \n",
       "25755  2022-01-06                Salinas Valley State Prison (SVSP)   \n",
       "25730  2022-01-06            California Health Care Facility (CHCF)   \n",
       "25739  2022-01-06                Deuel Vocational Institution (DVI)   \n",
       "25732  2022-01-06            California Institution for Women (CIW)   \n",
       "25750  2022-01-06          California State Prison-Sacramento (SAC)   \n",
       "25747  2022-01-06                   Pelican Bay State Prison (PBSP)   \n",
       "\n",
       "        Latitude   Longitude  TotalConfirmed  TotalDeaths  \\\n",
       "25723  35.930766 -120.100570            3145            8   \n",
       "25751  36.177361 -119.820420            3137            7   \n",
       "25737  36.411760 -121.326170            2741           21   \n",
       "25736  33.925885 -117.559780            2499            1   \n",
       "25733  35.221085 -120.636399            2498           13   \n",
       "25757  35.605045 -119.371430            2441            2   \n",
       "25754  37.943365 -122.490290            2269           28   \n",
       "25741  40.474951 -120.676850            2087            2   \n",
       "25748  36.194736 -120.308650            2047            3   \n",
       "25731  34.015963 -117.687370            1942           30   \n",
       "25745  38.346132 -120.945160            1937            9   \n",
       "25738  33.628333 -114.619050            1824            9   \n",
       "25756  37.127525 -120.505740            1783            2   \n",
       "25752  37.867243 -120.491570            1731            0   \n",
       "25742  33.598690 -114.652517            1649            1   \n",
       "25744  34.728857 -118.326830            1564           14   \n",
       "25740  38.672127 -121.157830            1477            2   \n",
       "25726  40.446063 -120.664132            1466            0   \n",
       "25735  36.085342 -119.554800            1448            7   \n",
       "25727  35.132673 -118.507810            1424            4   \n",
       "25753  38.344010 -121.953330            1404            7   \n",
       "25746  35.774967 -119.233710            1398            5   \n",
       "25725  33.131764 -115.512080            1173            3   \n",
       "25749  32.572602 -116.918724            1079           18   \n",
       "25724  35.139327 -117.914730            1073            2   \n",
       "25743  35.771876 -119.269840            1002            6   \n",
       "25728  37.100417 -120.278640             969            1   \n",
       "25729  32.853471 -115.589420             909            1   \n",
       "25734  38.348960 -121.908324             772           12   \n",
       "25755  36.518179 -121.425570             689            6   \n",
       "25730  37.955474 -121.190640             686           19   \n",
       "25739  37.728417 -121.423990             545            0   \n",
       "25732  33.903803 -117.602210             530            1   \n",
       "25750  38.694033 -121.152413             355            2   \n",
       "25747  41.782681 -124.167030             332            0   \n",
       "\n",
       "       DistinctPatientsTested  NewInTheLast14Days  \n",
       "25723                      91                   9  \n",
       "25751                     100                   5  \n",
       "25737                      82                   1  \n",
       "25736                     883                 460  \n",
       "25733                     110                   4  \n",
       "25757                     306                 471  \n",
       "25754                      27                   5  \n",
       "25741                     146                  11  \n",
       "25748                     297                  19  \n",
       "25731                     393                 340  \n",
       "25745                     167                  32  \n",
       "25738                     103                  11  \n",
       "25756                     161                  20  \n",
       "25752                     228                  64  \n",
       "25742                      38                  61  \n",
       "25744                     364                  33  \n",
       "25740                     647                  96  \n",
       "25726                      81                   1  \n",
       "25735                     189                  80  \n",
       "25727                      54                   7  \n",
       "25753                     131                   7  \n",
       "25746                     234                 157  \n",
       "25725                      87                   4  \n",
       "25749                      52                  58  \n",
       "25724                      28                  57  \n",
       "25743                      91                  23  \n",
       "25728                     528                   7  \n",
       "25729                      64                  11  \n",
       "25734                     347                  42  \n",
       "25755                      63                   5  \n",
       "25730                     311                  17  \n",
       "25739                       0                   0  \n",
       "25732                      79                  21  \n",
       "25750                     146                  16  \n",
       "25747                      11                   0  "
      ]
     },
     "execution_count": 10,
     "metadata": {},
     "output_type": "execute_result"
    }
   ],
   "source": [
    "jan6_22 = covid_in_prisons[covid_in_prisons['Date'] == '2022-01-06']\n",
    "jan6_22 = jan6_22.sort_values('TotalConfirmed', ascending=False)\n",
    "jan6_22"
   ]
  },
  {
   "cell_type": "markdown",
   "metadata": {
    "cell_id": "dd42447e4b154c1cb65cb66f25aea29d",
    "deepnote_cell_type": "text-cell-p",
    "is_collapsed": false,
    "tags": []
   },
   "source": [
    "According to the table above, the center with the highest number of confirmed cases is Avenal State Prison (ASP). The center with the lowest number of confirmed cases is Pelican Bay State Prison (PMSP). Note, that we have no data on how often each prison tests inmates. Some centers may test more frequently than others, causing a higher case count because an individual can test positive multiple times."
   ]
  },
  {
   "cell_type": "markdown",
   "metadata": {
    "cell_id": "da796d1816004ffeb84d998da5868327",
    "deepnote_cell_height": 74.796875,
    "deepnote_cell_type": "markdown",
    "tags": []
   },
   "source": [
    "<!-- BEGIN QUESTION --> \n",
    "\n",
    "\n",
    "<font color = #d14d0f>**QUESTION 3:**</font> The table above is sorted in decreasing order according to the \"TotalConfirmed\" column. Do you recognize any prisons that are at the top of the table? "
   ]
  },
  {
   "cell_type": "markdown",
   "metadata": {
    "cell_id": "c7f6b58329ad4bc4bd427a03ff7eb907",
    "deepnote_cell_height": 52.390625,
    "deepnote_cell_type": "markdown",
    "tags": []
   },
   "source": [
    "*Replace this text with your response!*"
   ]
  },
  {
   "cell_type": "markdown",
   "metadata": {
    "cell_id": "e1088c9a1fd4457ab35c2fda8acbb095",
    "deepnote_cell_height": 52.390625,
    "deepnote_cell_type": "markdown",
    "tags": []
   },
   "source": [
    "<!-- END QUESTION --> \n",
    "Next, we will create a histogram to visualize the 8 institutions with the highest total confirmed cases."
   ]
  },
  {
   "cell_type": "code",
   "execution_count": 11,
   "metadata": {
    "cell_id": "8287fd3198324f5f8ba1f49e87b4815c",
    "deepnote_cell_height": 501.1875,
    "deepnote_cell_type": "code",
    "deepnote_output_heights": [
     21.1875,
     280
    ],
    "deepnote_to_be_reexecuted": false,
    "execution_millis": 488,
    "execution_start": 1649696014113,
    "owner_user_id": "6461a15d-c525-4c0f-afd6-f07313cda3f0",
    "source_hash": "88355157",
    "tags": []
   },
   "outputs": [
    {
     "data": {
      "text/plain": [
       "Text(0.5, 1.0, 'Total Confirmed Cases for Top 8 Institutions')"
      ]
     },
     "execution_count": 11,
     "metadata": {},
     "output_type": "execute_result"
    },
    {
     "data": {
      "image/png": "[encoded data removed]",
      "text/plain": [
       "<Figure size 432x288 with 1 Axes>"
      ]
     },
     "metadata": {
      "needs_background": "light"
     },
     "output_type": "display_data"
    }
   ],
   "source": [
    "top8 = jan6_22[:8].reset_index()\n",
    "sns.barplot(data=top8, y=\"InstitutionName\", x='TotalConfirmed')\n",
    "plt.xlabel('Total Confirmed Cases')\n",
    "plt.ylabel('Institution Name')\n",
    "plt.title('Total Confirmed Cases for Top 8 Institutions')"
   ]
  },
  {
   "cell_type": "markdown",
   "metadata": {
    "cell_id": "d6820ca12b934cec80ca62c3347e2b0f",
    "deepnote_cell_height": 88.796875,
    "deepnote_cell_type": "markdown",
    "tags": []
   },
   "source": [
    "<!-- BEGIN QUESTION --> \n",
    "\n",
    "\n",
    "<font color = #d14d0f>**QUESTION 4:**</font> What are some potential issues in drawing conclusions based on solely totals in data?\n",
    "\n",
    "*Hint: Consider how the populations of each prison may relate to the number of positive cases.*"
   ]
  },
  {
   "cell_type": "markdown",
   "metadata": {
    "cell_id": "13d3bcf64b5d4fd29b690c096cfcb817",
    "deepnote_cell_height": 52.390625,
    "deepnote_cell_type": "markdown",
    "tags": []
   },
   "source": [
    "*Replace this text with your response!*"
   ]
  },
  {
   "cell_type": "markdown",
   "metadata": {
    "cell_id": "1c2cbe153c944e23a19ed0392d9f8c00",
    "deepnote_cell_height": 178.390625,
    "deepnote_cell_type": "markdown",
    "tags": []
   },
   "source": [
    "<!-- END QUESTION --> \n",
    "\n",
    "Totals are very helpful units of measure because they indicate exact values. However, (especially if you're stuck on Question 4) consider: In a histogram like above, a Prison with 200 positive cases would be represented as a very small value. Notice that a Prison with 200 positive cases and a population of 250 is a highly contaminated prison, while a Prison with 200 positive cases and a population of 2000 is not as significant. \n",
    "\n",
    "For the rest of this notebook we are going to use the totals. We noted this just to remind you to always consider factors of the data that can misleading and to acknowledge what is and is not represented in the covid_in_prisons DataFrame."
   ]
  },
  {
   "cell_type": "markdown",
   "metadata": {
    "cell_id": "52185d7444964c49a55a3e063ff89d2a",
    "deepnote_cell_height": 74.796875,
    "deepnote_cell_type": "markdown",
    "tags": []
   },
   "source": [
    "Next, let's analyze the total number of new cases in the 14 days before each collection record (from the 'NewInTheLast14Days' column) across all institutions. "
   ]
  },
  {
   "cell_type": "code",
   "execution_count": 12,
   "metadata": {
    "cell_id": "b02aa0991a1340f4ab927920e75388f9",
    "deepnote_cell_height": 454,
    "deepnote_cell_type": "code",
    "deepnote_table_loading": false,
    "deepnote_table_state": {
     "filters": [],
     "pageIndex": 73,
     "pageSize": 10,
     "sortBy": []
    },
    "deepnote_to_be_reexecuted": false,
    "execution_millis": 48,
    "execution_start": 1649696014611,
    "source_hash": "4196b7f",
    "tags": []
   },
   "outputs": [
    {
     "data": {
      "text/html": [
       "<div>\n",
       "<style scoped>\n",
       "    .dataframe tbody tr th:only-of-type {\n",
       "        vertical-align: middle;\n",
       "    }\n",
       "\n",
       "    .dataframe tbody tr th {\n",
       "        vertical-align: top;\n",
       "    }\n",
       "\n",
       "    .dataframe thead th {\n",
       "        text-align: right;\n",
       "    }\n",
       "</style>\n",
       "<table border=\"1\" class=\"dataframe\">\n",
       "  <thead>\n",
       "    <tr style=\"text-align: right;\">\n",
       "      <th></th>\n",
       "      <th>Date</th>\n",
       "      <th>NewInTheLast14Days</th>\n",
       "    </tr>\n",
       "  </thead>\n",
       "  <tbody>\n",
       "    <tr>\n",
       "      <th>0</th>\n",
       "      <td>2020-03-10</td>\n",
       "      <td>0</td>\n",
       "    </tr>\n",
       "    <tr>\n",
       "      <th>1</th>\n",
       "      <td>2020-03-11</td>\n",
       "      <td>0</td>\n",
       "    </tr>\n",
       "    <tr>\n",
       "      <th>2</th>\n",
       "      <td>2020-03-12</td>\n",
       "      <td>0</td>\n",
       "    </tr>\n",
       "    <tr>\n",
       "      <th>3</th>\n",
       "      <td>2020-03-13</td>\n",
       "      <td>0</td>\n",
       "    </tr>\n",
       "    <tr>\n",
       "      <th>4</th>\n",
       "      <td>2020-03-14</td>\n",
       "      <td>0</td>\n",
       "    </tr>\n",
       "    <tr>\n",
       "      <th>...</th>\n",
       "      <td>...</td>\n",
       "      <td>...</td>\n",
       "    </tr>\n",
       "    <tr>\n",
       "      <th>731</th>\n",
       "      <td>2022-03-11</td>\n",
       "      <td>768</td>\n",
       "    </tr>\n",
       "    <tr>\n",
       "      <th>732</th>\n",
       "      <td>2022-03-12</td>\n",
       "      <td>686</td>\n",
       "    </tr>\n",
       "    <tr>\n",
       "      <th>733</th>\n",
       "      <td>2022-03-13</td>\n",
       "      <td>675</td>\n",
       "    </tr>\n",
       "    <tr>\n",
       "      <th>734</th>\n",
       "      <td>2022-03-14</td>\n",
       "      <td>668</td>\n",
       "    </tr>\n",
       "    <tr>\n",
       "      <th>735</th>\n",
       "      <td>2022-03-15</td>\n",
       "      <td>606</td>\n",
       "    </tr>\n",
       "  </tbody>\n",
       "</table>\n",
       "<p>736 rows × 2 columns</p>\n",
       "</div>"
      ],
      "text/plain": [
       "           Date  NewInTheLast14Days\n",
       "0    2020-03-10                   0\n",
       "1    2020-03-11                   0\n",
       "2    2020-03-12                   0\n",
       "3    2020-03-13                   0\n",
       "4    2020-03-14                   0\n",
       "..          ...                 ...\n",
       "731  2022-03-11                 768\n",
       "732  2022-03-12                 686\n",
       "733  2022-03-13                 675\n",
       "734  2022-03-14                 668\n",
       "735  2022-03-15                 606\n",
       "\n",
       "[736 rows x 2 columns]"
      ]
     },
     "execution_count": 12,
     "metadata": {},
     "output_type": "execute_result"
    }
   ],
   "source": [
    "per14Days = covid_in_prisons.groupby('Date')['NewInTheLast14Days'].agg(np.sum).to_frame().reset_index()\n",
    "per14Days"
   ]
  },
  {
   "cell_type": "markdown",
   "metadata": {
    "cell_id": "7612f49210b247bdb61c1614b484a72e",
    "deepnote_cell_type": "text-cell-p",
    "is_collapsed": false,
    "tags": []
   },
   "source": [
    "Next, create a line plot below to visualize the table above. "
   ]
  },
  {
   "cell_type": "code",
   "execution_count": 13,
   "metadata": {
    "cell_id": "6476d76d8abb41bba26be1ce536eb042",
    "deepnote_cell_height": 531.1875,
    "deepnote_cell_type": "code",
    "deepnote_output_heights": [
     21.1875,
     328
    ],
    "deepnote_to_be_reexecuted": false,
    "execution_millis": 1583,
    "execution_start": 1649696014685,
    "source_hash": "a1f85626",
    "tags": []
   },
   "outputs": [
    {
     "data": {
      "text/plain": [
       "Text(0.5, 1.0, 'New Cases Per 14 Day Period')"
      ]
     },
     "execution_count": 13,
     "metadata": {},
     "output_type": "execute_result"
    },
    {
     "data": {
      "image/png": "[encoded data removed]",
      "text/plain": [
       "<Figure size 432x288 with 1 Axes>"
      ]
     },
     "metadata": {
      "needs_background": "light"
     },
     "output_type": "display_data"
    }
   ],
   "source": [
    "sns.lineplot(data=per14Days,  x='Date', y='NewInTheLast14Days')\n",
    "plt.xticks(['2020-03-10', '2020-06-10', '2020-09-10', '2020-12-10', '2021-03-10', '2021-06-10', '2021-09-10', '2021-12-10', '2022-03-10'], rotation=90)\n",
    "plt.ylabel('New Cases in the Last 14 Days')\n",
    "plt.title('New Cases Per 14 Day Period')"
   ]
  },
  {
   "cell_type": "markdown",
   "metadata": {
    "cell_id": "c3aaa297af7e42a583ad69bf3dfed381",
    "deepnote_cell_height": 74.796875,
    "deepnote_cell_type": "markdown",
    "tags": []
   },
   "source": [
    "<!-- BEGIN QUESTION --> \n",
    "\n",
    "\n",
    "<font color = #d14d0f>**QUESTION 5:**</font> What do you notice about the above line plot? In what months and years do the two main peaks seem to coincide with? *Optional:* Any ideas about what was going on during these times in regards to COVID-19?"
   ]
  },
  {
   "cell_type": "markdown",
   "metadata": {
    "cell_id": "6d932ab2cf594f56b84eff89f08fd1df",
    "deepnote_cell_height": 52.390625,
    "deepnote_cell_type": "markdown",
    "tags": []
   },
   "source": [
    "*Replace this text with your response!*"
   ]
  },
  {
   "cell_type": "markdown",
   "metadata": {
    "cell_id": "d0753aed70704b32805e24153bfcf4bf",
    "deepnote_cell_height": 52.390625,
    "deepnote_cell_type": "markdown",
    "tags": []
   },
   "source": [
    "<!-- BEGIN QUESTION --> \n",
    "\n",
    "Below, calculate the death rate for each institution (from Jan 6, 2022)."
   ]
  },
  {
   "cell_type": "code",
   "execution_count": 14,
   "metadata": {
    "cell_id": "0811ebc8804e462b9fad055c9b774d57",
    "deepnote_cell_height": 744,
    "deepnote_cell_type": "code",
    "deepnote_table_loading": false,
    "deepnote_table_state": {
     "filters": [],
     "pageIndex": 0,
     "pageSize": 10,
     "sortBy": []
    },
    "deepnote_to_be_reexecuted": false,
    "execution_millis": 92,
    "execution_start": 1649696016235,
    "source_hash": "145abb63",
    "tags": []
   },
   "outputs": [
    {
     "data": {
      "text/html": [
       "<div>\n",
       "<style scoped>\n",
       "    .dataframe tbody tr th:only-of-type {\n",
       "        vertical-align: middle;\n",
       "    }\n",
       "\n",
       "    .dataframe tbody tr th {\n",
       "        vertical-align: top;\n",
       "    }\n",
       "\n",
       "    .dataframe thead th {\n",
       "        text-align: right;\n",
       "    }\n",
       "</style>\n",
       "<table border=\"1\" class=\"dataframe\">\n",
       "  <thead>\n",
       "    <tr style=\"text-align: right;\">\n",
       "      <th></th>\n",
       "      <th>Date</th>\n",
       "      <th>InstitutionName</th>\n",
       "      <th>Latitude</th>\n",
       "      <th>Longitude</th>\n",
       "      <th>TotalConfirmed</th>\n",
       "      <th>TotalDeaths</th>\n",
       "      <th>DistinctPatientsTested</th>\n",
       "      <th>NewInTheLast14Days</th>\n",
       "      <th>DeathRates</th>\n",
       "    </tr>\n",
       "  </thead>\n",
       "  <tbody>\n",
       "    <tr>\n",
       "      <th>25731</th>\n",
       "      <td>2022-01-06</td>\n",
       "      <td>California Institution for Men (CIM)</td>\n",
       "      <td>34.015963</td>\n",
       "      <td>-117.687370</td>\n",
       "      <td>1942</td>\n",
       "      <td>30</td>\n",
       "      <td>393</td>\n",
       "      <td>340</td>\n",
       "      <td>0.040761</td>\n",
       "    </tr>\n",
       "    <tr>\n",
       "      <th>25754</th>\n",
       "      <td>2022-01-06</td>\n",
       "      <td>San Quentin State Prison (SQ)</td>\n",
       "      <td>37.943365</td>\n",
       "      <td>-122.490290</td>\n",
       "      <td>2269</td>\n",
       "      <td>28</td>\n",
       "      <td>27</td>\n",
       "      <td>5</td>\n",
       "      <td>0.038043</td>\n",
       "    </tr>\n",
       "    <tr>\n",
       "      <th>25737</th>\n",
       "      <td>2022-01-06</td>\n",
       "      <td>Correctional Training Facility (CTF)</td>\n",
       "      <td>36.411760</td>\n",
       "      <td>-121.326170</td>\n",
       "      <td>2741</td>\n",
       "      <td>21</td>\n",
       "      <td>82</td>\n",
       "      <td>1</td>\n",
       "      <td>0.028533</td>\n",
       "    </tr>\n",
       "    <tr>\n",
       "      <th>25730</th>\n",
       "      <td>2022-01-06</td>\n",
       "      <td>California Health Care Facility (CHCF)</td>\n",
       "      <td>37.955474</td>\n",
       "      <td>-121.190640</td>\n",
       "      <td>686</td>\n",
       "      <td>19</td>\n",
       "      <td>311</td>\n",
       "      <td>17</td>\n",
       "      <td>0.025815</td>\n",
       "    </tr>\n",
       "    <tr>\n",
       "      <th>25749</th>\n",
       "      <td>2022-01-06</td>\n",
       "      <td>Richard J. Donovan Correctional Facility (RJD)</td>\n",
       "      <td>32.572602</td>\n",
       "      <td>-116.918724</td>\n",
       "      <td>1079</td>\n",
       "      <td>18</td>\n",
       "      <td>52</td>\n",
       "      <td>58</td>\n",
       "      <td>0.024457</td>\n",
       "    </tr>\n",
       "    <tr>\n",
       "      <th>25744</th>\n",
       "      <td>2022-01-06</td>\n",
       "      <td>California State Prison-Los Angeles County (LAC)</td>\n",
       "      <td>34.728857</td>\n",
       "      <td>-118.326830</td>\n",
       "      <td>1564</td>\n",
       "      <td>14</td>\n",
       "      <td>364</td>\n",
       "      <td>33</td>\n",
       "      <td>0.019022</td>\n",
       "    </tr>\n",
       "    <tr>\n",
       "      <th>25733</th>\n",
       "      <td>2022-01-06</td>\n",
       "      <td>California Men's Colony (CMC)</td>\n",
       "      <td>35.221085</td>\n",
       "      <td>-120.636399</td>\n",
       "      <td>2498</td>\n",
       "      <td>13</td>\n",
       "      <td>110</td>\n",
       "      <td>4</td>\n",
       "      <td>0.017663</td>\n",
       "    </tr>\n",
       "    <tr>\n",
       "      <th>25734</th>\n",
       "      <td>2022-01-06</td>\n",
       "      <td>California Medical Facility (CMF)</td>\n",
       "      <td>38.348960</td>\n",
       "      <td>-121.908324</td>\n",
       "      <td>772</td>\n",
       "      <td>12</td>\n",
       "      <td>347</td>\n",
       "      <td>42</td>\n",
       "      <td>0.016304</td>\n",
       "    </tr>\n",
       "    <tr>\n",
       "      <th>25745</th>\n",
       "      <td>2022-01-06</td>\n",
       "      <td>Mule Creek State Prison (MCSP)</td>\n",
       "      <td>38.346132</td>\n",
       "      <td>-120.945160</td>\n",
       "      <td>1937</td>\n",
       "      <td>9</td>\n",
       "      <td>167</td>\n",
       "      <td>32</td>\n",
       "      <td>0.012228</td>\n",
       "    </tr>\n",
       "    <tr>\n",
       "      <th>25738</th>\n",
       "      <td>2022-01-06</td>\n",
       "      <td>Chuckawalla Valley State Prison (CVSP)</td>\n",
       "      <td>33.628333</td>\n",
       "      <td>-114.619050</td>\n",
       "      <td>1824</td>\n",
       "      <td>9</td>\n",
       "      <td>103</td>\n",
       "      <td>11</td>\n",
       "      <td>0.012228</td>\n",
       "    </tr>\n",
       "    <tr>\n",
       "      <th>25723</th>\n",
       "      <td>2022-01-06</td>\n",
       "      <td>Avenal State Prison (ASP)</td>\n",
       "      <td>35.930766</td>\n",
       "      <td>-120.100570</td>\n",
       "      <td>3145</td>\n",
       "      <td>8</td>\n",
       "      <td>91</td>\n",
       "      <td>9</td>\n",
       "      <td>0.010870</td>\n",
       "    </tr>\n",
       "    <tr>\n",
       "      <th>25751</th>\n",
       "      <td>2022-01-06</td>\n",
       "      <td>Substance Abuse Treatment Facility (SATF)</td>\n",
       "      <td>36.177361</td>\n",
       "      <td>-119.820420</td>\n",
       "      <td>3137</td>\n",
       "      <td>7</td>\n",
       "      <td>100</td>\n",
       "      <td>5</td>\n",
       "      <td>0.009511</td>\n",
       "    </tr>\n",
       "    <tr>\n",
       "      <th>25753</th>\n",
       "      <td>2022-01-06</td>\n",
       "      <td>California State Prison-Solano (SOL)</td>\n",
       "      <td>38.344010</td>\n",
       "      <td>-121.953330</td>\n",
       "      <td>1404</td>\n",
       "      <td>7</td>\n",
       "      <td>131</td>\n",
       "      <td>7</td>\n",
       "      <td>0.009511</td>\n",
       "    </tr>\n",
       "    <tr>\n",
       "      <th>25735</th>\n",
       "      <td>2022-01-06</td>\n",
       "      <td>California State Prison-Corcoran (COR)</td>\n",
       "      <td>36.085342</td>\n",
       "      <td>-119.554800</td>\n",
       "      <td>1448</td>\n",
       "      <td>7</td>\n",
       "      <td>189</td>\n",
       "      <td>80</td>\n",
       "      <td>0.009511</td>\n",
       "    </tr>\n",
       "    <tr>\n",
       "      <th>25755</th>\n",
       "      <td>2022-01-06</td>\n",
       "      <td>Salinas Valley State Prison (SVSP)</td>\n",
       "      <td>36.518179</td>\n",
       "      <td>-121.425570</td>\n",
       "      <td>689</td>\n",
       "      <td>6</td>\n",
       "      <td>63</td>\n",
       "      <td>5</td>\n",
       "      <td>0.008152</td>\n",
       "    </tr>\n",
       "    <tr>\n",
       "      <th>25743</th>\n",
       "      <td>2022-01-06</td>\n",
       "      <td>Kern Valley State Prison (KVSP)</td>\n",
       "      <td>35.771876</td>\n",
       "      <td>-119.269840</td>\n",
       "      <td>1002</td>\n",
       "      <td>6</td>\n",
       "      <td>91</td>\n",
       "      <td>23</td>\n",
       "      <td>0.008152</td>\n",
       "    </tr>\n",
       "    <tr>\n",
       "      <th>25746</th>\n",
       "      <td>2022-01-06</td>\n",
       "      <td>North Kern State Prison (NKSP)</td>\n",
       "      <td>35.774967</td>\n",
       "      <td>-119.233710</td>\n",
       "      <td>1398</td>\n",
       "      <td>5</td>\n",
       "      <td>234</td>\n",
       "      <td>157</td>\n",
       "      <td>0.006793</td>\n",
       "    </tr>\n",
       "    <tr>\n",
       "      <th>25727</th>\n",
       "      <td>2022-01-06</td>\n",
       "      <td>California Correctional Institution (CCI)</td>\n",
       "      <td>35.132673</td>\n",
       "      <td>-118.507810</td>\n",
       "      <td>1424</td>\n",
       "      <td>4</td>\n",
       "      <td>54</td>\n",
       "      <td>7</td>\n",
       "      <td>0.005435</td>\n",
       "    </tr>\n",
       "    <tr>\n",
       "      <th>25725</th>\n",
       "      <td>2022-01-06</td>\n",
       "      <td>Calipatria State Prison (CAL)</td>\n",
       "      <td>33.131764</td>\n",
       "      <td>-115.512080</td>\n",
       "      <td>1173</td>\n",
       "      <td>3</td>\n",
       "      <td>87</td>\n",
       "      <td>4</td>\n",
       "      <td>0.004076</td>\n",
       "    </tr>\n",
       "    <tr>\n",
       "      <th>25748</th>\n",
       "      <td>2022-01-06</td>\n",
       "      <td>Pleasant Valley State Prison (PVSP)</td>\n",
       "      <td>36.194736</td>\n",
       "      <td>-120.308650</td>\n",
       "      <td>2047</td>\n",
       "      <td>3</td>\n",
       "      <td>297</td>\n",
       "      <td>19</td>\n",
       "      <td>0.004076</td>\n",
       "    </tr>\n",
       "    <tr>\n",
       "      <th>25724</th>\n",
       "      <td>2022-01-06</td>\n",
       "      <td>California City Correctional Facility (CAC)</td>\n",
       "      <td>35.139327</td>\n",
       "      <td>-117.914730</td>\n",
       "      <td>1073</td>\n",
       "      <td>2</td>\n",
       "      <td>28</td>\n",
       "      <td>57</td>\n",
       "      <td>0.002717</td>\n",
       "    </tr>\n",
       "    <tr>\n",
       "      <th>25757</th>\n",
       "      <td>2022-01-06</td>\n",
       "      <td>Wasco State Prison (WSP)</td>\n",
       "      <td>35.605045</td>\n",
       "      <td>-119.371430</td>\n",
       "      <td>2441</td>\n",
       "      <td>2</td>\n",
       "      <td>306</td>\n",
       "      <td>471</td>\n",
       "      <td>0.002717</td>\n",
       "    </tr>\n",
       "    <tr>\n",
       "      <th>25756</th>\n",
       "      <td>2022-01-06</td>\n",
       "      <td>Valley State Prison (VSP)</td>\n",
       "      <td>37.127525</td>\n",
       "      <td>-120.505740</td>\n",
       "      <td>1783</td>\n",
       "      <td>2</td>\n",
       "      <td>161</td>\n",
       "      <td>20</td>\n",
       "      <td>0.002717</td>\n",
       "    </tr>\n",
       "    <tr>\n",
       "      <th>25741</th>\n",
       "      <td>2022-01-06</td>\n",
       "      <td>High Desert State Prison (HDSP)</td>\n",
       "      <td>40.474951</td>\n",
       "      <td>-120.676850</td>\n",
       "      <td>2087</td>\n",
       "      <td>2</td>\n",
       "      <td>146</td>\n",
       "      <td>11</td>\n",
       "      <td>0.002717</td>\n",
       "    </tr>\n",
       "    <tr>\n",
       "      <th>25750</th>\n",
       "      <td>2022-01-06</td>\n",
       "      <td>California State Prison-Sacramento (SAC)</td>\n",
       "      <td>38.694033</td>\n",
       "      <td>-121.152413</td>\n",
       "      <td>355</td>\n",
       "      <td>2</td>\n",
       "      <td>146</td>\n",
       "      <td>16</td>\n",
       "      <td>0.002717</td>\n",
       "    </tr>\n",
       "    <tr>\n",
       "      <th>25740</th>\n",
       "      <td>2022-01-06</td>\n",
       "      <td>Folsom State Prison (FSP)</td>\n",
       "      <td>38.672127</td>\n",
       "      <td>-121.157830</td>\n",
       "      <td>1477</td>\n",
       "      <td>2</td>\n",
       "      <td>647</td>\n",
       "      <td>96</td>\n",
       "      <td>0.002717</td>\n",
       "    </tr>\n",
       "    <tr>\n",
       "      <th>25732</th>\n",
       "      <td>2022-01-06</td>\n",
       "      <td>California Institution for Women (CIW)</td>\n",
       "      <td>33.903803</td>\n",
       "      <td>-117.602210</td>\n",
       "      <td>530</td>\n",
       "      <td>1</td>\n",
       "      <td>79</td>\n",
       "      <td>21</td>\n",
       "      <td>0.001359</td>\n",
       "    </tr>\n",
       "    <tr>\n",
       "      <th>25736</th>\n",
       "      <td>2022-01-06</td>\n",
       "      <td>California Rehabilitation Center (CRC)</td>\n",
       "      <td>33.925885</td>\n",
       "      <td>-117.559780</td>\n",
       "      <td>2499</td>\n",
       "      <td>1</td>\n",
       "      <td>883</td>\n",
       "      <td>460</td>\n",
       "      <td>0.001359</td>\n",
       "    </tr>\n",
       "    <tr>\n",
       "      <th>25728</th>\n",
       "      <td>2022-01-06</td>\n",
       "      <td>Central California Women's Facility (CCWF)</td>\n",
       "      <td>37.100417</td>\n",
       "      <td>-120.278640</td>\n",
       "      <td>969</td>\n",
       "      <td>1</td>\n",
       "      <td>528</td>\n",
       "      <td>7</td>\n",
       "      <td>0.001359</td>\n",
       "    </tr>\n",
       "    <tr>\n",
       "      <th>25729</th>\n",
       "      <td>2022-01-06</td>\n",
       "      <td>California State Prison-Centinela (CEN)</td>\n",
       "      <td>32.853471</td>\n",
       "      <td>-115.589420</td>\n",
       "      <td>909</td>\n",
       "      <td>1</td>\n",
       "      <td>64</td>\n",
       "      <td>11</td>\n",
       "      <td>0.001359</td>\n",
       "    </tr>\n",
       "    <tr>\n",
       "      <th>25742</th>\n",
       "      <td>2022-01-06</td>\n",
       "      <td>Ironwood State Prison (ISP)</td>\n",
       "      <td>33.598690</td>\n",
       "      <td>-114.652517</td>\n",
       "      <td>1649</td>\n",
       "      <td>1</td>\n",
       "      <td>38</td>\n",
       "      <td>61</td>\n",
       "      <td>0.001359</td>\n",
       "    </tr>\n",
       "    <tr>\n",
       "      <th>25726</th>\n",
       "      <td>2022-01-06</td>\n",
       "      <td>California Correctional Center (CCC)</td>\n",
       "      <td>40.446063</td>\n",
       "      <td>-120.664132</td>\n",
       "      <td>1466</td>\n",
       "      <td>0</td>\n",
       "      <td>81</td>\n",
       "      <td>1</td>\n",
       "      <td>0.000000</td>\n",
       "    </tr>\n",
       "    <tr>\n",
       "      <th>25739</th>\n",
       "      <td>2022-01-06</td>\n",
       "      <td>Deuel Vocational Institution (DVI)</td>\n",
       "      <td>37.728417</td>\n",
       "      <td>-121.423990</td>\n",
       "      <td>545</td>\n",
       "      <td>0</td>\n",
       "      <td>0</td>\n",
       "      <td>0</td>\n",
       "      <td>0.000000</td>\n",
       "    </tr>\n",
       "    <tr>\n",
       "      <th>25752</th>\n",
       "      <td>2022-01-06</td>\n",
       "      <td>Sierra Conservation Center (SCC)</td>\n",
       "      <td>37.867243</td>\n",
       "      <td>-120.491570</td>\n",
       "      <td>1731</td>\n",
       "      <td>0</td>\n",
       "      <td>228</td>\n",
       "      <td>64</td>\n",
       "      <td>0.000000</td>\n",
       "    </tr>\n",
       "    <tr>\n",
       "      <th>25747</th>\n",
       "      <td>2022-01-06</td>\n",
       "      <td>Pelican Bay State Prison (PBSP)</td>\n",
       "      <td>41.782681</td>\n",
       "      <td>-124.167030</td>\n",
       "      <td>332</td>\n",
       "      <td>0</td>\n",
       "      <td>11</td>\n",
       "      <td>0</td>\n",
       "      <td>0.000000</td>\n",
       "    </tr>\n",
       "  </tbody>\n",
       "</table>\n",
       "</div>"
      ],
      "text/plain": [
       "             Date                                   InstitutionName  \\\n",
       "25731  2022-01-06              California Institution for Men (CIM)   \n",
       "25754  2022-01-06                     San Quentin State Prison (SQ)   \n",
       "25737  2022-01-06              Correctional Training Facility (CTF)   \n",
       "25730  2022-01-06            California Health Care Facility (CHCF)   \n",
       "25749  2022-01-06    Richard J. Donovan Correctional Facility (RJD)   \n",
       "25744  2022-01-06  California State Prison-Los Angeles County (LAC)   \n",
       "25733  2022-01-06                     California Men's Colony (CMC)   \n",
       "25734  2022-01-06                 California Medical Facility (CMF)   \n",
       "25745  2022-01-06                    Mule Creek State Prison (MCSP)   \n",
       "25738  2022-01-06            Chuckawalla Valley State Prison (CVSP)   \n",
       "25723  2022-01-06                         Avenal State Prison (ASP)   \n",
       "25751  2022-01-06         Substance Abuse Treatment Facility (SATF)   \n",
       "25753  2022-01-06              California State Prison-Solano (SOL)   \n",
       "25735  2022-01-06            California State Prison-Corcoran (COR)   \n",
       "25755  2022-01-06                Salinas Valley State Prison (SVSP)   \n",
       "25743  2022-01-06                   Kern Valley State Prison (KVSP)   \n",
       "25746  2022-01-06                    North Kern State Prison (NKSP)   \n",
       "25727  2022-01-06         California Correctional Institution (CCI)   \n",
       "25725  2022-01-06                     Calipatria State Prison (CAL)   \n",
       "25748  2022-01-06               Pleasant Valley State Prison (PVSP)   \n",
       "25724  2022-01-06       California City Correctional Facility (CAC)   \n",
       "25757  2022-01-06                          Wasco State Prison (WSP)   \n",
       "25756  2022-01-06                         Valley State Prison (VSP)   \n",
       "25741  2022-01-06                   High Desert State Prison (HDSP)   \n",
       "25750  2022-01-06          California State Prison-Sacramento (SAC)   \n",
       "25740  2022-01-06                         Folsom State Prison (FSP)   \n",
       "25732  2022-01-06            California Institution for Women (CIW)   \n",
       "25736  2022-01-06            California Rehabilitation Center (CRC)   \n",
       "25728  2022-01-06        Central California Women's Facility (CCWF)   \n",
       "25729  2022-01-06           California State Prison-Centinela (CEN)   \n",
       "25742  2022-01-06                       Ironwood State Prison (ISP)   \n",
       "25726  2022-01-06              California Correctional Center (CCC)   \n",
       "25739  2022-01-06                Deuel Vocational Institution (DVI)   \n",
       "25752  2022-01-06                  Sierra Conservation Center (SCC)   \n",
       "25747  2022-01-06                   Pelican Bay State Prison (PBSP)   \n",
       "\n",
       "        Latitude   Longitude  TotalConfirmed  TotalDeaths  \\\n",
       "25731  34.015963 -117.687370            1942           30   \n",
       "25754  37.943365 -122.490290            2269           28   \n",
       "25737  36.411760 -121.326170            2741           21   \n",
       "25730  37.955474 -121.190640             686           19   \n",
       "25749  32.572602 -116.918724            1079           18   \n",
       "25744  34.728857 -118.326830            1564           14   \n",
       "25733  35.221085 -120.636399            2498           13   \n",
       "25734  38.348960 -121.908324             772           12   \n",
       "25745  38.346132 -120.945160            1937            9   \n",
       "25738  33.628333 -114.619050            1824            9   \n",
       "25723  35.930766 -120.100570            3145            8   \n",
       "25751  36.177361 -119.820420            3137            7   \n",
       "25753  38.344010 -121.953330            1404            7   \n",
       "25735  36.085342 -119.554800            1448            7   \n",
       "25755  36.518179 -121.425570             689            6   \n",
       "25743  35.771876 -119.269840            1002            6   \n",
       "25746  35.774967 -119.233710            1398            5   \n",
       "25727  35.132673 -118.507810            1424            4   \n",
       "25725  33.131764 -115.512080            1173            3   \n",
       "25748  36.194736 -120.308650            2047            3   \n",
       "25724  35.139327 -117.914730            1073            2   \n",
       "25757  35.605045 -119.371430            2441            2   \n",
       "25756  37.127525 -120.505740            1783            2   \n",
       "25741  40.474951 -120.676850            2087            2   \n",
       "25750  38.694033 -121.152413             355            2   \n",
       "25740  38.672127 -121.157830            1477            2   \n",
       "25732  33.903803 -117.602210             530            1   \n",
       "25736  33.925885 -117.559780            2499            1   \n",
       "25728  37.100417 -120.278640             969            1   \n",
       "25729  32.853471 -115.589420             909            1   \n",
       "25742  33.598690 -114.652517            1649            1   \n",
       "25726  40.446063 -120.664132            1466            0   \n",
       "25739  37.728417 -121.423990             545            0   \n",
       "25752  37.867243 -120.491570            1731            0   \n",
       "25747  41.782681 -124.167030             332            0   \n",
       "\n",
       "       DistinctPatientsTested  NewInTheLast14Days  DeathRates  \n",
       "25731                     393                 340    0.040761  \n",
       "25754                      27                   5    0.038043  \n",
       "25737                      82                   1    0.028533  \n",
       "25730                     311                  17    0.025815  \n",
       "25749                      52                  58    0.024457  \n",
       "25744                     364                  33    0.019022  \n",
       "25733                     110                   4    0.017663  \n",
       "25734                     347                  42    0.016304  \n",
       "25745                     167                  32    0.012228  \n",
       "25738                     103                  11    0.012228  \n",
       "25723                      91                   9    0.010870  \n",
       "25751                     100                   5    0.009511  \n",
       "25753                     131                   7    0.009511  \n",
       "25735                     189                  80    0.009511  \n",
       "25755                      63                   5    0.008152  \n",
       "25743                      91                  23    0.008152  \n",
       "25746                     234                 157    0.006793  \n",
       "25727                      54                   7    0.005435  \n",
       "25725                      87                   4    0.004076  \n",
       "25748                     297                  19    0.004076  \n",
       "25724                      28                  57    0.002717  \n",
       "25757                     306                 471    0.002717  \n",
       "25756                     161                  20    0.002717  \n",
       "25741                     146                  11    0.002717  \n",
       "25750                     146                  16    0.002717  \n",
       "25740                     647                  96    0.002717  \n",
       "25732                      79                  21    0.001359  \n",
       "25736                     883                 460    0.001359  \n",
       "25728                     528                   7    0.001359  \n",
       "25729                      64                  11    0.001359  \n",
       "25742                      38                  61    0.001359  \n",
       "25726                      81                   1    0.000000  \n",
       "25739                       0                   0    0.000000  \n",
       "25752                     228                  64    0.000000  \n",
       "25747                      11                   0    0.000000  "
      ]
     },
     "execution_count": 14,
     "metadata": {},
     "output_type": "execute_result"
    }
   ],
   "source": [
    "# Since the data is cummulative, the data from the jan6_22 DataFrame is the sum. Then find the percent by divinding by 736.\n",
    "# Recall that 736 is the number of rows in the DataFrame for each institution\n",
    "rates = jan6_22['TotalDeaths']/736\n",
    "\n",
    "# Create a new column in the jan6_22 DataFrame \n",
    "jan6_22['DeathRates'] = rates\n",
    "\n",
    "# Sort the DeathRates column in descending order.\n",
    "jan6_22.sort_values('DeathRates', ascending=False)"
   ]
  },
  {
   "cell_type": "markdown",
   "metadata": {
    "cell_id": "ce021e81ad1d40bc94693d4e55c133be",
    "deepnote_cell_height": 74.796875,
    "deepnote_cell_type": "markdown",
    "tags": []
   },
   "source": [
    "<!-- BEGIN QUESTION --> \n",
    "\n",
    "\n",
    "<font color = #d14d0f>**QUESTION 6:**</font> Name the three institutions with the highest COVID-19 death rates based on the DataFrame above. Read through the comments of the cell above for an explanation of how the DataFrame above was created."
   ]
  },
  {
   "cell_type": "markdown",
   "metadata": {
    "cell_id": "a8483c61990541539e362a3de8290230",
    "deepnote_cell_height": 52.390625,
    "deepnote_cell_type": "markdown",
    "tags": []
   },
   "source": [
    "*Replace this text with your response!*"
   ]
  },
  {
   "cell_type": "markdown",
   "metadata": {
    "cell_id": "23a86331f013488abcec42fded7fb5c1",
    "deepnote_cell_height": 74.796875,
    "deepnote_cell_type": "markdown",
    "tags": []
   },
   "source": [
    "<!-- END QUESTION --> \n",
    "Below we plot line graphs that show the Positive COVID Cases and COVID Deaths over time at the two prisons with the highest death rate in our data set (**California Institution for Men (CIM)** and **San Quentin State Prison (SQ)**)."
   ]
  },
  {
   "cell_type": "code",
   "execution_count": 15,
   "metadata": {
    "cell_id": "dfa749483e67408799468a2df44f6b58",
    "deepnote_cell_height": 587,
    "deepnote_cell_type": "code",
    "deepnote_output_heights": [
     328
    ],
    "deepnote_to_be_reexecuted": false,
    "execution_millis": 2779,
    "execution_start": 1649696016321,
    "source_hash": "614c72f7",
    "tags": []
   },
   "outputs": [
    {
     "data": {
      "image/png": "[encoded data removed]",
      "text/plain": [
       "<Figure size 432x288 with 1 Axes>"
      ]
     },
     "metadata": {
      "needs_background": "light"
     },
     "output_type": "display_data"
    }
   ],
   "source": [
    "# Run this code to create line plots ... feel free to ignore this code or take a look if interested!\n",
    "CIM_only = covid_in_prisons[covid_in_prisons['InstitutionName'] == 'California Institution for Men (CIM)'].sort_values('Date')\n",
    "sns.lineplot(x = 'Date', y='TotalDeaths', data=CIM_only, label = 'Total COVID Deaths at CIM')\n",
    "sns.lineplot(x = 'Date', y='TotalConfirmed', data=CIM_only, label = 'Total Positive COVID Cases at CIM')\n",
    "SQ_only = covid_in_prisons[covid_in_prisons['InstitutionName'] == 'San Quentin State Prison (SQ)'].sort_values('Date')\n",
    "sns.lineplot(x = 'Date', y='TotalDeaths', data=SQ_only, label = 'Total COVID Deaths at SQ')\n",
    "sns.lineplot(x = 'Date', y='TotalConfirmed', data=SQ_only, label = 'Total Positive COVID Cases at SQ')\n",
    "plt.title('COVID Cases and COVID Deaths at California Institution for Men (CIM) and San Quentin State Prison (SQ)')\n",
    "plt.ylabel('Number of People')\n",
    "plt.xticks(['2020-03-10', '2020-06-10', '2020-09-10', '2020-12-10', '2021-03-10', '2021-06-10', '2021-09-10', '2021-12-10', '2022-03-10'], rotation=90);"
   ]
  },
  {
   "cell_type": "markdown",
   "metadata": {
    "cell_id": "0e0026a91a964f8f9438653a2d829ab9",
    "deepnote_cell_height": 133.59375,
    "deepnote_cell_type": "markdown",
    "tags": []
   },
   "source": [
    "Note that even though you likely can't see the whole lines for the Total COVID Deaths of both institutions, they are both there but they just overlap.\n",
    "<!-- BEGIN QUESTION --> \n",
    "\n",
    "<font color = #d14d0f>**QUESTION 7:**</font> Which institution seems to have had a major spike in Total Positive COVID Cases in 2020? Approximately what month(s) did this take place in?"
   ]
  },
  {
   "cell_type": "markdown",
   "metadata": {
    "cell_id": "ca6124fbb3694199874c84f9f01c1a13",
    "deepnote_cell_height": 52.390625,
    "deepnote_cell_type": "markdown",
    "tags": []
   },
   "source": [
    "*Replace this text with your response!*"
   ]
  },
  {
   "cell_type": "markdown",
   "metadata": {
    "cell_id": "2841a6f81ad14a1d87b351ac54d849d2",
    "deepnote_cell_type": "text-cell-h3",
    "is_collapsed": false,
    "tags": []
   },
   "source": [
    "### San Quentin State Prison in 2020"
   ]
  },
  {
   "cell_type": "markdown",
   "metadata": {
    "cell_id": "7163ce66485c48a984361b6c81a665e0",
    "deepnote_cell_height": 97.1875,
    "deepnote_cell_type": "markdown",
    "tags": []
   },
   "source": [
    "<!-- END QUESTION --> \n",
    "We will now look at San Quentin State Prison in particular during 2020, the primary pandemic year. We will plot 3 different lines on one graph to compare the San Quentin State Prison's population, cumulative positive COVID cases, and cumulative deaths caused by COVID. "
   ]
  },
  {
   "cell_type": "code",
   "execution_count": 16,
   "metadata": {
    "cell_id": "4cced2969aa04ed899776cebab6a856b",
    "deepnote_cell_height": 153,
    "deepnote_cell_type": "code",
    "deepnote_to_be_reexecuted": false,
    "execution_millis": 36,
    "execution_start": 1649696064939,
    "source_hash": "49752408",
    "tags": []
   },
   "outputs": [],
   "source": [
    "SQ_Covid_2020 = pd.read_csv(\"./data/SQ_2020.csv\") #importing cleaned data about San Quentin SP for 2020\n",
    "prisons_df = pd.read_csv(\"./data/monthly_cdcr_upto2022.csv\") #importing prisons table from Lecture 1 as a DataFrame\n",
    "SQ_pop_df = prisons_df[prisons_df['institution_name']== 'SQ (SAN QUENTIN SP)']\n",
    "SQ_pop_2020 = SQ_pop_df[SQ_pop_df['year'] == 2020]\n",
    "# Run this cell, it isn't supposed to return anything since there are only assignment statements"
   ]
  },
  {
   "cell_type": "code",
   "execution_count": 17,
   "metadata": {
    "cell_id": "723c5b168735489aafa02a4d3065ae7e",
    "deepnote_cell_height": 554.890625,
    "deepnote_cell_type": "code",
    "deepnote_output_heights": [
     null,
     280
    ],
    "deepnote_table_loading": false,
    "deepnote_table_state": {
     "filters": [],
     "pageIndex": 0,
     "pageSize": 10,
     "sortBy": []
    },
    "deepnote_to_be_reexecuted": false,
    "execution_millis": 361,
    "execution_start": 1649696069105,
    "source_hash": "6778f54f",
    "tags": []
   },
   "outputs": [
    {
     "name": "stderr",
     "output_type": "stream",
     "text": [
      "/opt/conda/lib/python3.9/site-packages/seaborn/_decorators.py:36: FutureWarning: Pass the following variables as keyword args: x, y. From version 0.12, the only valid positional argument will be `data`, and passing other arguments without an explicit keyword will result in an error or misinterpretation.\n",
      "  warnings.warn(\n"
     ]
    },
    {
     "data": {
      "image/png": "[encoded data removed]",
      "text/plain": [
       "<Figure size 432x288 with 1 Axes>"
      ]
     },
     "metadata": {
      "needs_background": "light"
     },
     "output_type": "display_data"
    }
   ],
   "source": [
    "sns.lineplot('month', 'population_felons', data=SQ_pop_2020, label='SQ Population');\n",
    "sns.lineplot(x = 'Date', y='Total Deaths', data=SQ_Covid_2020, label = 'Total COVID Deaths at SQ');\n",
    "sns.lineplot(x = 'Date', y='Total Confirmed', data=SQ_Covid_2020, label = 'Total Positive COVID Cases at SQ');\n",
    "plt.xlabel('Month (in numbers ie, 2 = February, 2020)')\n",
    "plt.ylabel('Number of People')\n",
    "plt.title('San Quentin State Prison in 2020')\n",
    "plt.ylim(0,5000);\n",
    "# Don't worry if a red message pops up with your graph - it is a warning, but not an error.\n",
    "# All you need for analysis is the graph"
   ]
  },
  {
   "cell_type": "markdown",
   "metadata": {
    "cell_id": "cefda59a70474227a4c882d1dc19c7b2",
    "deepnote_cell_height": 88.796875,
    "deepnote_cell_type": "markdown",
    "tags": []
   },
   "source": [
    "<!-- BEGIN QUESTION --> \n",
    "\n",
    "<font color = #d14d0f>**QUESTION 8:**</font> Based on this graph, assign a range of months to the following: \n",
    "\n",
    "(Replace each **...** below with your response.)"
   ]
  },
  {
   "cell_type": "markdown",
   "metadata": {
    "cell_id": "d2e7402fcef243a8bdd17d4f0422d455",
    "deepnote_cell_height": 125.1875,
    "deepnote_cell_type": "markdown",
    "tags": []
   },
   "source": [
    "**Little to no COVID cases in the following month range:** ... \n",
    "\n",
    "**Rapidly increasing amount of COVID cases in the following month range:** ...\n",
    "\n",
    "**High but plateauing/minimally changing amount of COVID cases in the following month range:**  ..."
   ]
  },
  {
   "cell_type": "markdown",
   "metadata": {
    "cell_id": "f1d660e423314bd8953e701454455c63",
    "deepnote_cell_height": 141.984375,
    "deepnote_cell_type": "markdown",
    "tags": []
   },
   "source": [
    "<!-- END QUESTION --> \n",
    "As you may have noticed, the graph shows a decline in San Quentin State Prison population by about 1,000 people from the start to end of the year 2020. The San Quentin State Prison website from CDCR (the source of the data) spoke to this decrease in population with this statement: \"*To reduce crowding and promote better physical distancing, San Quentin State Prison’s inmate population has been reduced from 4,051 in March [2020] to 3,129 on Aug. 12 [2020]. This reduction has been accomplished through the suspension of intake from county jails, expedited releases and natural releases from the prison.*\""
   ]
  },
  {
   "cell_type": "markdown",
   "metadata": {
    "cell_id": "7de185541f574806a974a2e91bccd8da",
    "deepnote_cell_height": 97.1875,
    "deepnote_cell_type": "markdown",
    "tags": []
   },
   "source": [
    "<!-- BEGIN QUESTION --> \n",
    "\n",
    "<font color = #d14d0f>**QUESTION 9:**</font> What are your opinions on this quotation? What are the consequences (positive and/or negative) of these reactions to the COVID outbreak in San Quentin State Prison? *There is no right answer; This question looking for you to consider the quotation and the context of the data to formulate an opinion of your own.*"
   ]
  },
  {
   "cell_type": "markdown",
   "metadata": {
    "cell_id": "2047ba45afda4ec488da75a51d092be5",
    "deepnote_cell_height": 52.390625,
    "deepnote_cell_type": "markdown",
    "tags": []
   },
   "source": [
    "*Replace this text with your response!*"
   ]
  },
  {
   "cell_type": "markdown",
   "metadata": {
    "cell_id": "881042b272704e5995f2fc369fe45ea1",
    "deepnote_cell_height": 263.1875,
    "deepnote_cell_type": "markdown",
    "tags": []
   },
   "source": [
    "<!-- END QUESTION --> \n",
    "<!-- BEGIN QUESTION --> \n",
    "\n",
    "<font color = #d14d0f>**QUESTION 10:**</font> Reflection time! Please write a minimum of 4 sentences about what you've come to realize from this COVID_in_Prisons Homework Notebook.\n",
    "\n",
    "If you need any ideas for what to brainstorm, consider these topics:\n",
    "* San Quentin SP's [response to COVID outbreak in 2020](https://www.cdcr.ca.gov/covid19/san-quentin-state-prison-response/)\n",
    "* The prisons with the most and least COVID cases (seen before Question 4)\n",
    "* The spread of COVID-19 and diseases in institutions\n",
    "* How the methods of data collected were or weren't helpful \n",
    "    * (how would you change it if you collected the data?)"
   ]
  },
  {
   "cell_type": "markdown",
   "metadata": {
    "cell_id": "853d4618df0a4d3287b2634aaeb60d15",
    "deepnote_cell_height": 52.390625,
    "deepnote_cell_type": "markdown",
    "tags": []
   },
   "source": [
    "*Replace this text with your response!*"
   ]
  },
  {
   "cell_type": "markdown",
   "metadata": {
    "cell_id": "99413aa4d3e743c1865b2d2d93253870",
    "deepnote_cell_height": 279.1875,
    "deepnote_cell_type": "markdown",
    "tags": []
   },
   "source": [
    "<!-- END QUESTION --> \n",
    "\n",
    "Thank you for taking the time to complete the homework notebook! Remember if you are struggling to check out the **resources for help** listed at the top of this notebook to get all of your questions answered. We hope you enjoyed this notebook and are so glad you took a step out of your comfort zone to view this material from a new perspective.\n",
    "\n",
    "**<font color = #d14d0f>TO SUBMIT YOUR HOMEWORK:</font>**\n",
    "\n",
    "**1. Run all your cells by clicking \"Cell\" > \"Run All\".** (Should take no more than ~10 seconds)\n",
    "\n",
    "**2. Save the notebook by clicking \"File\" > \"Save and checkpoint\".**\n",
    "\n",
    "**3. Run the next cell!**\n",
    "\n",
    "**4. Submit completed Lecture 1 notebook to your corresponding bCourses assignment.** (Click the link that the next cell returns, then upload the downloaded pdf to your bCourses assignment for Lecture #3 / Homework on Covid-19 in Prisons.)\n"
   ]
  },
  {
   "cell_type": "code",
   "execution_count": 18,
   "metadata": {
    "cell_id": "a57ea2bbcf6549fa97da6a071652014e",
    "deepnote_cell_height": 261.1875,
    "deepnote_cell_type": "code",
    "deepnote_to_be_reexecuted": true,
    "execution_millis": 2,
    "execution_start": 1649500184227,
    "source_hash": "10818aa0",
    "tags": []
   },
   "outputs": [
    {
     "data": {
      "text/html": [
       "Save this notebook, then click <a href='Lecture_3.pdf' download>here</a> to open the pdf."
      ],
      "text/plain": [
       "<IPython.core.display.HTML object>"
      ]
     },
     "metadata": {},
     "output_type": "display_data"
    }
   ],
   "source": [
    "#This may take a few extra seconds.\n",
    "from otter.export import export_notebook\n",
    "from IPython.display import display, HTML\n",
    "export_notebook(\"Lecture_3.ipynb\", filtering=True, pagebreaks=True)\n",
    "display(HTML(\"Save this notebook, then click <a href='Lecture_3.pdf' download>here</a> to open the pdf.\"))"
   ]
  },
  {
   "cell_type": "markdown",
   "metadata": {
    "cell_id": "5697a464e2864248b731b971869bd5b6",
    "deepnote_cell_height": 97.1875,
    "deepnote_cell_type": "markdown",
    "tags": []
   },
   "source": [
    "If the cell above returns an error or clicking the link that is returned doesn't work for you, don't worry! Simply right click and choose **\"Save Link As...\" to save a copy of your pdf** onto your computer. Then, complete **Step 4: Submit completed Lecture 1 notebook to your corresponding bCourses assignment.**"
   ]
  },
  {
   "cell_type": "markdown",
   "metadata": {
    "cell_id": "0bed3fee12404930815e0e3e6864d72c",
    "deepnote_cell_height": 89.796875,
    "deepnote_cell_type": "markdown",
    "tags": []
   },
   "source": [
    "---\n",
    "Notebook developed by: Skye Pickett and Caitlin Yee\n",
    "\n",
    "Data Science Modules: http://data.berkeley.edu/education/modules"
   ]
  },
  {
   "cell_type": "markdown",
   "metadata": {
    "created_in_deepnote_cell": true,
    "deepnote_cell_type": "markdown",
    "tags": []
   },
   "source": [
    "<a style='text-decoration:none;line-height:16px;display:flex;color:#5B5B62;padding:10px;justify-content:end;' href='https://deepnote.com?utm_source=created-in-deepnote-cell&projectId=a98dcf0f-412a-41c3-9850-4403846da5b0' target=\"_blank\">\n",
    "<img alt='Created in deepnote.com' style='display:inline;max-height:16px;margin:0px;margin-right:7.5px;' src='data:image/svg+xml;base64,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' > </img>\n",
    "Created in <span style='font-weight:600;margin-left:4px;'>Deepnote</span></a>"
   ]
  }
 ],
 "metadata": {
  "deepnote": {
   "is_reactive": false
  },
  "deepnote_execution_queue": [],
  "deepnote_notebook_id": "b3c9a012-6663-402e-8ee4-c9405669b032",
  "kernelspec": {
   "display_name": "Python 3 (ipykernel)",
   "language": "python",
   "name": "python3"
  },
  "language_info": {
   "codemirror_mode": {
    "name": "ipython",
    "version": 3
   },
   "file_extension": ".py",
   "mimetype": "text/x-python",
   "name": "python",
   "nbconvert_exporter": "python",
   "pygments_lexer": "ipython3",
   "version": "3.9.12"
  }
 },
 "nbformat": 4,
 "nbformat_minor": 2
}
