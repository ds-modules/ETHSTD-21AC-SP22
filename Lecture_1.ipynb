{
 "cells": [
  {
   "cell_type": "markdown",
   "metadata": {
    "cell_id": "c43486d9-5417-4566-bcd1-509226173778",
    "deepnote_cell_height": 728.78125,
    "deepnote_cell_type": "markdown",
    "tags": [
     "ignore"
    ]
   },
   "source": [
    "# <font color =#d14d0f>[ES-21AC] State Prisons and County Jails</font>\n",
    "### Part One\n",
    "\n",
    "***\n",
    "\n",
    "### Professor: Victoria Robinson \n",
    "\n",
    "\n",
    "This notebook explores the incarceration trends and impacts of prison realignment in California.\n",
    "\n",
    "*Estimated Time: 60 minutes*\n",
    "\n",
    "---\n",
    "\n",
    "### Table of Contents\n",
    "\n",
    "[INTRO TO PYTHON AND JUPYTERNOTEBOOK](#sectionpy)<br>\n",
    "1. [JUPYTER NOTEBOOK](#subsectionjup)<br>\n",
    "2. [PYTHON](#subsectionpy)<br>\n",
    "\n",
    "\n",
    "[THE DATA](#sectiondata)<br>\n",
    "\n",
    "\n",
    "[CONTEXT](#sectioncontext)<br>\n",
    "\n",
    "\n",
    "[PRISONS](#section1)<br>\n",
    "1. [DATA](#subsection1)<br> \n",
    "2. [DATA ANALYSIS](#subsection2)<br>\n",
    "3. [GENERAL: DESIGNED & STAFFED CAPACITY](#subsection3)<br>\n",
    "4. [GENDER DIVISION](#subsection4)<br>"
   ]
  },
  {
   "cell_type": "markdown",
   "metadata": {
    "cell_id": "00001-bc19a3e6-f7b7-4933-a949-46d97f74b433",
    "deepnote_cell_height": 70,
    "deepnote_cell_type": "markdown",
    "tags": [
     "ignore"
    ]
   },
   "source": [
    "## <font color =#d14d0f>Intro to Python and Jupyter Notebook</font> <a id='sectionpy'></a>"
   ]
  },
  {
   "cell_type": "markdown",
   "metadata": {
    "cell_id": "00002-671ceb46-6f5d-4126-ae31-62f31e230f5d",
    "deepnote_cell_height": 442.171875,
    "deepnote_cell_type": "markdown",
    "tags": [
     "ignore"
    ]
   },
   "source": [
    "### **Jupyter Notebooks** <a id='subsectionjup'></a>\n",
    "Welcome to a Jupyter Notebook! **Notebooks** are documents that can contain text, code, visualizations, and more!\n",
    "\n",
    "A notebook is composed of rectangular sections called **cells**. There are 2 kinds of cells: markdown and code. A **markdown cell**, such as this one, contains text. A **code cell** contains code in Python, a programming language that we will be using for the remainder of this module. You can select any cell by clicking it once.\n",
    "\n",
    "To run a code cell once it's been selected, \n",
    "- Press Shift + Enter, or\n",
    "- Click the Run button in the toolbar at the top of the screen. \n",
    "\n",
    "If a code cell is running, you will see an asterisk (\\*) appear in the square brackets to the left of the cell. Once the cell has finished running, a number will replace the asterisk and any output from the code will appear under the cell.\n",
    "\n",
    "Let's try it! <font color = #d14d0f>**Run the cell below to see the output.**</font> Feel free to play around with the code -- try changing the string (the message in quotations) to whatever you'd like!"
   ]
  },
  {
   "cell_type": "code",
   "execution_count": 83,
   "metadata": {
    "cell_id": "00003-79c44e1e-8b29-46cc-9bba-8f021bcca340",
    "deepnote_cell_height": 147.6875,
    "deepnote_cell_type": "code",
    "deepnote_to_be_reexecuted": false,
    "execution_millis": 45,
    "execution_start": 1649660727226,
    "source_hash": "eb1aa207",
    "tags": [
     "ignore"
    ]
   },
   "outputs": [
    {
     "name": "stdout",
     "output_type": "stream",
     "text": [
      "Hello everyone!\n"
     ]
    }
   ],
   "source": [
    "# Run the cell by using one of the methods we mentioned above!\n",
    "\n",
    "print(\"Hello everyone!\")"
   ]
  },
  {
   "cell_type": "markdown",
   "metadata": {
    "cell_id": "00004-5a0b859b-c13e-4bfc-a61a-ee5b9b86febc",
    "deepnote_cell_height": 97.1875,
    "deepnote_cell_type": "markdown",
    "tags": [
     "ignore"
    ]
   },
   "source": [
    "You'll notice that many code cells contain lines of blue text that start with a `#`. These are *comments*. Comments often contain helpful information about what the code does or what you are supposed to do in the cell. The leading `#` tells the computer to ignore whatever text follows it."
   ]
  },
  {
   "cell_type": "markdown",
   "metadata": {
    "cell_id": "00005-2ced8fc0-f5f6-43ee-9a95-28ce46cf7b75",
    "deepnote_cell_height": 191.984375,
    "deepnote_cell_type": "markdown",
    "tags": [
     "ignore"
    ]
   },
   "source": [
    "#### Editing\n",
    "\n",
    "You can change the text in markdown cell by clicking it twice. Text in markdown cells is written in [**Markdown**](https://daringfireball.net/projects/markdown/), a formatting language for plain text, so you may see some funky symbols should you try and edit a markdown cell we've already written. Once you've made changes to a markdown cell, you can exit editing mode by running the cell the same way you'd run a code cell.\n",
    "\n",
    "<font color = #d14d0f>**Try double-clicking on this text to see what some Markdown formatting looks like.**</font>"
   ]
  },
  {
   "cell_type": "markdown",
   "metadata": {
    "cell_id": "00006-d0bf9fca-85c4-4fbd-adfa-dfb60edadcfb",
    "deepnote_cell_height": 273.1875,
    "deepnote_cell_type": "markdown",
    "tags": [
     "ignore"
    ]
   },
   "source": [
    "#### Adding and Deleting Cells\n",
    "\n",
    "Another feature of Jupyter Notebooks is the ability to add and delete cells, whether that be code or markdown. You can add cells by pressing the plus sign icon in the menu bar. This will add (by default) a code cell immediately below your current highlighted cell.\n",
    "\n",
    "To convert a cell to markdown, you can press 'Cell' in the menu bar, select 'Cell Type', and finally pick the desired option. This works the other way around too!\n",
    "\n",
    "To delete a cell, simply press the scissors icon in the menu bar. A common fear is deleting a cell that you needed -- but don't worry! This can be undone using 'Edit' > 'Undo Delete Cells'! If you accidentally delete a cells content, you can use `Ctrl` + `Z`."
   ]
  },
  {
   "cell_type": "markdown",
   "metadata": {
    "cell_id": "00007-4afa4ae3-8e6e-46c9-9920-11deea9ae992",
    "deepnote_cell_height": 331.984375,
    "deepnote_cell_type": "markdown",
    "tags": [
     "ignore"
    ]
   },
   "source": [
    "#### Saving and Loading\n",
    "\n",
    "Your notebook will automatically save your text and code edits, as well as any graphs you generate or any calculations you make. However, you can also manually save the notebook in its current state by using `Ctrl` + `S`, clicking the floppy disk icon in the toolbar at the top of the page, or by going to the 'File' menu and selecting 'Save and Checkpoint'.\n",
    "\n",
    "Next time you open your notebook, it will look the same as when you last saved it!\n",
    "\n",
    "**Note:** When you load a notebook you will see all the outputs from your last saved session (such as graphs, computations, etc.) but you won't be able to use any of the variables you assigned in your code without running it again.\n",
    "\n",
    "An easy way to \"catch up\" to the last work you did is to highlight the cell you left off on and click \"Run all above\" under the Cell tab in the menu at the top of the screen."
   ]
  },
  {
   "cell_type": "markdown",
   "metadata": {
    "cell_id": "00008-f438901d-d167-4c41-88eb-0edcf7dd2674",
    "deepnote_cell_height": 155.59375,
    "deepnote_cell_type": "markdown",
    "tags": [
     "ignore"
    ]
   },
   "source": [
    "#### Getting Started\n",
    "\n",
    "Now that we've covered our bases with regards to the platform we'll be working on for this assignment, let's load some **libraries** we need to explore the data we are working with. Python **libraries** are extra packages we can load to help use tools that are not otherwise available. These can include visualization libraries such as `matplotlib` or numerical tools like `numpy`. You can see how we load these libraries below:"
   ]
  },
  {
   "cell_type": "code",
   "execution_count": 84,
   "metadata": {
    "cell_id": "00009-bf7c3d7c-745c-4d99-a1fd-113cbb31898a",
    "deepnote_cell_height": 279,
    "deepnote_cell_type": "code",
    "deepnote_to_be_reexecuted": false,
    "execution_millis": 3507,
    "execution_start": 1649660727269,
    "source_hash": "bb04ffb7",
    "tags": [
     "ignore"
    ]
   },
   "outputs": [],
   "source": [
    "from datascience import * # This loads tools from the datascience library\n",
    "import numpy as np # Loads numerical methods\n",
    "import pandas as pd\n",
    "\n",
    "from otter import Notebook # This will allow us to export your responses as a pdf\n",
    "\n",
    "import matplotlib  # This loads some visualization tools\n",
    "%matplotlib inline\n",
    "import matplotlib.pyplot as plt\n",
    "plt.style.use('fivethirtyeight') # This selects a certain 'style' for our graphs\n",
    "\n",
    "import ipywidgets as widgets # Loads a widgets library that will allow for interactive learning"
   ]
  },
  {
   "cell_type": "markdown",
   "metadata": {
    "cell_id": "00010-3507909d-68c4-4e74-8bc2-84e5039ee5f5",
    "deepnote_cell_height": 98.390625,
    "deepnote_cell_type": "markdown",
    "tags": [
     "ignore"
    ]
   },
   "source": [
    "Now that we've loaded some relevant libraries, let's go over some Python basics.\n",
    "\n",
    "### **Python Basics** <a id='subsectionpy'></a>"
   ]
  },
  {
   "cell_type": "markdown",
   "metadata": {
    "cell_id": "00011-0453e5f9-8f6f-4c1d-b5df-65da13478a06",
    "deepnote_cell_height": 228.390625,
    "deepnote_cell_type": "markdown",
    "tags": [
     "ignore"
    ]
   },
   "source": [
    "**Python** is a programming language -- a way for us to communicate with the computer and give it instructions.\n",
    "\n",
    "Just like any language, Python has a set vocabulary made up of words it can understand, and a syntax which provides the rules for how to structure our commands and give instructions.\n",
    "\n",
    "#### Errors\n",
    "Errors in programming are common and totally okay! Don't be afraid when you see an error because more likely than not the solution lies in the error code itself! Let's see what an error looks like. <font color = #d14d0f>**Run the cell below to see the output.**</font>"
   ]
  },
  {
   "cell_type": "code",
   "execution_count": 85,
   "metadata": {
    "cell_id": "00012-fddfcf44-2746-443c-846e-624e6bcaa63f",
    "deepnote_cell_height": 144.1875,
    "deepnote_cell_type": "code",
    "deepnote_to_be_reexecuted": false,
    "execution_millis": 20,
    "execution_start": 1649660730786,
    "source_hash": "eab39b05",
    "tags": [
     "ignore"
    ]
   },
   "outputs": [
    {
     "ename": "SyntaxError",
     "evalue": "unexpected EOF while parsing (2588290324.py, line 1)",
     "output_type": "error",
     "traceback": [
      "\u001b[0;36m  Input \u001b[0;32mIn [85]\u001b[0;36m\u001b[0m\n\u001b[0;31m    print('This line is missing something.'\u001b[0m\n\u001b[0m                                           ^\u001b[0m\n\u001b[0;31mSyntaxError\u001b[0m\u001b[0;31m:\u001b[0m unexpected EOF while parsing\n"
     ]
    }
   ],
   "source": [
    "print('This line is missing something.'"
   ]
  },
  {
   "cell_type": "markdown",
   "metadata": {
    "cell_id": "00013-11aa8664-3eb1-40b5-9338-79a53853cfde",
    "deepnote_cell_height": 97.1875,
    "deepnote_cell_type": "markdown",
    "tags": [
     "ignore"
    ]
   },
   "source": [
    "The last line of the error message in the output attempts to tell you what went wrong. You should see a message saying \"SyntaxError: unexpected EOF while parsing.\" This just means it expected a closing to your code in this instance. <font color = #d14d0f>**Try adding a parentheses to end the statement and watch the error message disappear!**</font>"
   ]
  },
  {
   "cell_type": "markdown",
   "metadata": {
    "cell_id": "00014-0d99b9da-8c61-4db5-a640-6afb83416178",
    "deepnote_cell_height": 236.78125,
    "deepnote_cell_type": "markdown",
    "tags": [
     "ignore"
    ]
   },
   "source": [
    "#### Variables\n",
    "\n",
    "As we mentioned before, in this Jupyter Notebook you will be assigning data or figures to **variables**. You can even assign graph output or functions to variables, but that is out of scope for this assignment so don't worry about it! Variables are stored in a computer's memory and you can use it over and over again in future calculations!\n",
    "\n",
    "Sometimes, instead of trying to work with raw information all the time in a long calculation like `4 - 2 * (1 + 6 / 3)` you will want to store it as a **variable** for easy access in future calculations. <font color = #d14d0f>**Check out how we can use variables to our advantage below!**</font>"
   ]
  },
  {
   "cell_type": "code",
   "execution_count": 86,
   "metadata": {
    "cell_id": "00015-1c32cead-dbfa-4ebc-a2f1-e9329a8627a0",
    "deepnote_cell_height": 136,
    "deepnote_cell_type": "code",
    "deepnote_to_be_reexecuted": false,
    "execution_millis": 139,
    "execution_start": 1649660740980,
    "source_hash": "39f440f"
   },
   "outputs": [
    {
     "data": {
      "text/plain": [
       "-2.0"
      ]
     },
     "execution_count": 86,
     "metadata": {},
     "output_type": "execute_result"
    }
   ],
   "source": [
    "# Instead of performing this calculation over and over again ...\n",
    "4 - 2 * (1 + 6 / 3)"
   ]
  },
  {
   "cell_type": "code",
   "execution_count": 87,
   "metadata": {
    "cell_id": "00016-f2f06a50-ee1e-4aed-b7a3-7c66ed75dec9",
    "deepnote_cell_height": 99,
    "deepnote_cell_type": "code",
    "deepnote_to_be_reexecuted": false,
    "execution_millis": 164717023,
    "execution_start": 1649660741025,
    "source_hash": "bf9fa023"
   },
   "outputs": [],
   "source": [
    "# Try assigning it to a variable for future use!\n",
    "y = 4 - 2 * (1 + 6 / 3)"
   ]
  },
  {
   "cell_type": "markdown",
   "metadata": {
    "cell_id": "00017-12812c52-8832-459c-9361-10bf46611528",
    "deepnote_cell_height": 155.984375,
    "deepnote_cell_type": "markdown",
    "tags": [
     "ignore"
    ]
   },
   "source": [
    "An assignment statement, such as `y = 4 - 2 * (1 + 6 / 3)` has three parts: on the left is the variable **name** (`y`), on the right is the variable's **value** (`4 - 2 * (1 + 6 / 3)`), and the equals sign in the middle tells the computer to assign the value to the name.\n",
    "\n",
    "You might have noticed that running that second cell did not output anything, however, we can access that value again and again in the future."
   ]
  },
  {
   "cell_type": "code",
   "execution_count": 88,
   "metadata": {
    "cell_id": "00018-0eba00a8-48f1-45a3-bbbf-b80010bb674e",
    "deepnote_cell_height": 136,
    "deepnote_cell_type": "code",
    "deepnote_to_be_reexecuted": false,
    "execution_millis": 164715167,
    "execution_start": 1649660741068,
    "source_hash": "a5a62e8d",
    "tags": [
     "ignore"
    ]
   },
   "outputs": [
    {
     "data": {
      "text/plain": [
       "-2.0"
      ]
     },
     "execution_count": 88,
     "metadata": {},
     "output_type": "execute_result"
    }
   ],
   "source": [
    "# We can print the value as follows\n",
    "y"
   ]
  },
  {
   "cell_type": "code",
   "execution_count": 89,
   "metadata": {
    "cell_id": "00019-d88e268c-67fb-408e-a3ed-12fd47010378",
    "deepnote_cell_height": 136,
    "deepnote_cell_type": "code",
    "deepnote_to_be_reexecuted": false,
    "execution_millis": 164715194,
    "execution_start": 1649660741069,
    "source_hash": "ec6e0103",
    "tags": [
     "ignore"
    ]
   },
   "outputs": [
    {
     "data": {
      "text/plain": [
       "-4.0"
      ]
     },
     "execution_count": 89,
     "metadata": {},
     "output_type": "execute_result"
    }
   ],
   "source": [
    "# We can also use it in other calculations now!\n",
    "y * 2"
   ]
  },
  {
   "cell_type": "markdown",
   "metadata": {
    "cell_id": "00020-3e841739-c198-4c9c-be91-3bc3e700862a",
    "deepnote_cell_height": 169.59375,
    "deepnote_cell_type": "markdown",
    "tags": [
     "ignore"
    ]
   },
   "source": [
    "#### Tables\n",
    "\n",
    "In most cases, when interacting with data you will be working with **tables**. In this section, we will cover how to examine and manipulate data using Python!\n",
    "\n",
    "**Tables** are the fundamental way we organize and display data. <font color = #d14d0f>**Run the cell below to load the data we will be working with!**</font>"
   ]
  },
  {
   "cell_type": "code",
   "execution_count": 90,
   "metadata": {
    "cell_id": "00021-aa896893-38de-4abf-a1d4-ca369482fe7b",
    "deepnote_cell_height": 270.1875,
    "deepnote_cell_type": "code",
    "deepnote_to_be_reexecuted": false,
    "execution_millis": 242,
    "execution_start": 1649722030512,
    "source_hash": "f9d1a5b7",
    "tags": [
     "ignore"
    ]
   },
   "outputs": [
    {
     "data": {
      "text/html": [
       "<table border=\"1\" class=\"dataframe\">\n",
       "    <thead>\n",
       "        <tr>\n",
       "            <th>year</th> <th>month</th> <th>institution_name</th> <th>population_felons</th> <th>civil_addict</th> <th>total_population</th> <th>designed_capacity</th> <th>percent_occupied</th> <th>staffed_capacity</th> <th>source_pdf_name</th>\n",
       "        </tr>\n",
       "    </thead>\n",
       "    <tbody>\n",
       "        <tr>\n",
       "            <td>1996</td> <td>1    </td> <td>VSP (VALLEY SP)                 </td> <td>2294             </td> <td>0           </td> <td>2294            </td> <td>1980             </td> <td>115.9           </td> <td>1980            </td> <td>TPOP1Ad9601.pdf</td>\n",
       "        </tr>\n",
       "        <tr>\n",
       "            <td>1996</td> <td>1    </td> <td>SCC (SIERRA CONSERVATION CENTER)</td> <td>322              </td> <td>0           </td> <td>322             </td> <td>320              </td> <td>100.6           </td> <td>320             </td> <td>TPOP1Ad9601.pdf</td>\n",
       "        </tr>\n",
       "        <tr>\n",
       "            <td>1996</td> <td>1    </td> <td>NCWF (NO CAL WOMEN'S FACIL)     </td> <td>786              </td> <td>4           </td> <td>790             </td> <td>400              </td> <td>197.5           </td> <td>760             </td> <td>TPOP1Ad9601.pdf</td>\n",
       "        </tr>\n",
       "        <tr>\n",
       "            <td>1996</td> <td>1    </td> <td>CCWF (CENTRAL CA WOMEN'S FAC)   </td> <td>2846             </td> <td>13          </td> <td>2859            </td> <td>2004             </td> <td>142.7           </td> <td>3224            </td> <td>TPOP1Ad9601.pdf</td>\n",
       "        </tr>\n",
       "        <tr>\n",
       "            <td>1996</td> <td>1    </td> <td>CRC (CAL REHAB CTR, WOMEN)      </td> <td>91               </td> <td>703         </td> <td>794             </td> <td>500              </td> <td>158.8           </td> <td>842             </td> <td>TPOP1Ad9601.pdf</td>\n",
       "        </tr>\n",
       "        <tr>\n",
       "            <td>1996</td> <td>1    </td> <td>CIW (CA INSTITUTION FOR WOMEN)  </td> <td>1690             </td> <td>36          </td> <td>1726            </td> <td>1026             </td> <td>168.2           </td> <td>1646            </td> <td>TPOP1Ad9601.pdf</td>\n",
       "        </tr>\n",
       "        <tr>\n",
       "            <td>1996</td> <td>1    </td> <td>WSP (WASCO SP)                  </td> <td>4475             </td> <td>62          </td> <td>4537            </td> <td>2484             </td> <td>182.6           </td> <td>4484            </td> <td>TPOP1Ad9601.pdf</td>\n",
       "        </tr>\n",
       "        <tr>\n",
       "            <td>1996</td> <td>1    </td> <td>SCC (SIERRA CONSERVATION CENTER)</td> <td>6010             </td> <td>0           </td> <td>6010            </td> <td>3606             </td> <td>166.7           </td> <td>5884            </td> <td>TPOP1Ad9601.pdf</td>\n",
       "        </tr>\n",
       "    </tbody>\n",
       "</table>\n",
       "<p>... (10842 rows omitted)</p>"
      ],
      "text/plain": [
       "<IPython.core.display.HTML object>"
      ]
     },
     "metadata": {},
     "output_type": "display_data"
    }
   ],
   "source": [
    "# Below we see an assignment statement.\n",
    "# We are telling the computer to create a Table and read in some data.\n",
    "\n",
    "prisons = Table().read_table(\"./data/monthly_cdcr_upto2022.csv\")\n",
    "\n",
    "# This next command will display the top 5 entries. You can change the number\n",
    "# to view a different amount of entries at time.\n",
    "prisons.show(8)"
   ]
  },
  {
   "cell_type": "markdown",
   "metadata": {
    "cell_id": "00022-ad8b7435-bb50-4a60-89fd-527167bcc3aa",
    "deepnote_cell_height": 259.578125,
    "deepnote_cell_type": "markdown",
    "tags": [
     "ignore"
    ]
   },
   "source": [
    "This table is organized into **columns**, one for each category of information collected. You can also think about the table in terms of its rows, where each row represents all the information collected about a particular instance, in this case, different state prisons. By default only the first 10 rows are shown, but as you can see in the code we ran, we changed it to 8.\n",
    "\n",
    "**Table Attributes**\n",
    "\n",
    "Every table has **attributes** that give information about the table, such as the number of rows and the number of columns. Attributes you'll use frequently include `num_rows` and `num_columns`, which give the number of rows and columns in the table, respectively. These are accessed using something called **dot notation** which means we won't be using any parentheses like in our print statement (Hello everyone!) earlier."
   ]
  },
  {
   "cell_type": "code",
   "execution_count": 91,
   "metadata": {
    "cell_id": "00023-a3fc59dd-7f14-4d73-9737-1c1e162f64eb",
    "deepnote_cell_height": 136,
    "deepnote_cell_type": "code",
    "deepnote_to_be_reexecuted": false,
    "execution_millis": 386,
    "execution_start": 1649660741163,
    "source_hash": "437a05c8",
    "tags": [
     "ignore"
    ]
   },
   "outputs": [
    {
     "data": {
      "text/plain": [
       "10"
      ]
     },
     "execution_count": 91,
     "metadata": {},
     "output_type": "execute_result"
    }
   ],
   "source": [
    "# Get the number of columns\n",
    "prisons.num_columns"
   ]
  },
  {
   "cell_type": "code",
   "execution_count": 92,
   "metadata": {
    "cell_id": "00024-ff6ead86-a9bb-44f6-90f7-868bac7c3395",
    "deepnote_cell_height": 136,
    "deepnote_cell_type": "code",
    "deepnote_to_be_reexecuted": false,
    "execution_millis": 164711472,
    "execution_start": 1649660741236,
    "source_hash": "6026de36",
    "tags": [
     "ignore"
    ]
   },
   "outputs": [
    {
     "data": {
      "text/plain": [
       "10850"
      ]
     },
     "execution_count": 92,
     "metadata": {},
     "output_type": "execute_result"
    }
   ],
   "source": [
    "# Get the number of rows\n",
    "prisons.num_rows"
   ]
  },
  {
   "cell_type": "code",
   "execution_count": 93,
   "metadata": {
    "cell_id": "c9f579db77df427baa5e86558c671a6e",
    "deepnote_cell_height": 136,
    "deepnote_cell_type": "code",
    "deepnote_to_be_reexecuted": false,
    "execution_millis": 164710118,
    "execution_start": 1649660741279,
    "source_hash": "c5f3ff3b",
    "tags": []
   },
   "outputs": [
    {
     "data": {
      "text/plain": [
       "2022"
      ]
     },
     "execution_count": 93,
     "metadata": {},
     "output_type": "execute_result"
    }
   ],
   "source": [
    "prisons['year'].max()\n",
    "#prisons table includes up to late February 2022!"
   ]
  },
  {
   "cell_type": "markdown",
   "metadata": {
    "cell_id": "00025-86b17ca3-1bc4-4c87-9dec-1ce6814267f3",
    "deepnote_cell_height": 133.59375,
    "deepnote_cell_type": "markdown",
    "tags": [
     "include"
    ]
   },
   "source": [
    "<!-- BEGIN QUESTION --> \n",
    "\n",
    "<font color = #d14d0f>**QUESTION 1**:</font> Given the output of the cell above, we can see that the most recent (highest value) year is 2022. Following the same format, modify the cell below to find the first (lowest value) year included in the prisons dataset.\n",
    "\n",
    "*Hint: What is the opposite of maximum? Remember to follow the same format as the cell above.*"
   ]
  },
  {
   "cell_type": "code",
   "execution_count": 94,
   "metadata": {
    "cell_id": "97d02d330d274371b655b39056903cdb",
    "deepnote_cell_height": 144.1875,
    "deepnote_cell_type": "code",
    "deepnote_to_be_reexecuted": false,
    "execution_millis": 7,
    "execution_start": 1649660744677,
    "source_hash": "5f0eb7a2",
    "tags": []
   },
   "outputs": [
    {
     "ename": "SyntaxError",
     "evalue": "invalid syntax (1652672755.py, line 1)",
     "output_type": "error",
     "traceback": [
      "\u001b[0;36m  Input \u001b[0;32mIn [94]\u001b[0;36m\u001b[0m\n\u001b[0;31m    prisons['year'] ...\u001b[0m\n\u001b[0m                    ^\u001b[0m\n\u001b[0;31mSyntaxError\u001b[0m\u001b[0;31m:\u001b[0m invalid syntax\n"
     ]
    }
   ],
   "source": [
    "prisons['year'] ..."
   ]
  },
  {
   "cell_type": "markdown",
   "metadata": {
    "cell_id": "00026-59807684-51ab-4cec-966c-a1ac092f2cdf",
    "deepnote_cell_height": 52.390625,
    "deepnote_cell_type": "markdown",
    "tags": [
     "include"
    ]
   },
   "source": [
    "The resulting year should be 1996!"
   ]
  },
  {
   "cell_type": "markdown",
   "metadata": {
    "cell_id": "00027-acc78a71-1bd4-43fc-b072-446ad1a51bec",
    "deepnote_cell_height": 169.984375,
    "deepnote_cell_type": "markdown",
    "tags": [
     "ignore"
    ]
   },
   "source": [
    " <!-- END QUESTION --> \n",
    "\n",
    "In other situations, we will want to sort, filter, or group our data. In order to manipulate our data stored in a table, we will be using various table functions. These will be explained as we go through them as to not overwhelm you!\n",
    "\n",
    "Now that you have a basic grasp on Python and the kinds of information we'll be working with, we can move on to where our data came from and how to interact with it.\n",
    "\n",
    "Congrats on finishing the Jupyter Notebook and Python overview!"
   ]
  },
  {
   "cell_type": "markdown",
   "metadata": {
    "cell_id": "00028-3e2cb864-f2ae-4b05-b607-5bc3ef19635d",
    "deepnote_cell_height": 657.171875,
    "deepnote_cell_type": "markdown",
    "tags": [
     "ignore"
    ]
   },
   "source": [
    "## <font color =#d14d0f>The Data</font> <a id='sectiondata'></a>\n",
    "---\n",
    "\n",
    "Over the course of two lectures, we will be working through two notebooks. This first one will inform you about state prisons and the second one will about county jails. \n",
    "\n",
    "In this notebook, you will use data from the CDCR (California Department of Corrections and Rehabilitation).\n",
    "\n",
    "The CDCR reports the number of people in state prisons across California. In this data set, you will find information about the capacity (staff & design) of each prison and the current population. This will provide with a framework with which to understand prison overcrowding and the effectiveness of policy to reduce it. \n",
    "\n",
    "If you are interested in learning more please visit:\n",
    "\n",
    "[CDCR data and infromation](https://github.com/nrjones8/cdcr-population-data)\n",
    "\n",
    "\n",
    "## <font color =#d14d0f>Context</font>  <a id='sectioncontext'></a>\n",
    "---\n",
    "\n",
    "Throughout the course, we have learned about the policies of realignment, incarceration, and crime trends in California. By exploring this dataset we hope to get a clearer picture of the magnitude of prison and county jail overcrowding per facility and region, and the effects of realignment policies in state prisons and county jails.\n",
    "\n",
    "The key difference between state prisons and jails involve the process of sentencing. Prisons are designed for long term sentences, while jails are for those who are unsentenced or have short term sentences. It is important to note that short-term sentences are generally one year or less. Another difference is that prisons are larger and controlled at the state level. In contrast, jails are smaller and handled by a city or county.\n",
    "\n",
    "The relationship between the two institutions is emphasized by mass incarceration. Through this activity, we will analyze how overcrowding within California’s state prisons influenced the size of jail populations after realignment policies were implemented."
   ]
  },
  {
   "cell_type": "markdown",
   "metadata": {
    "cell_id": "00029-ad8ce62e-16ce-41a3-b7e6-7e010b575b9e",
    "deepnote_cell_height": 154.1875,
    "deepnote_cell_type": "markdown",
    "tags": [
     "ignore"
    ]
   },
   "source": [
    "## <font color =#d14d0f>Prisons</font> <a id='section1'></a>\n",
    "---\n",
    "\n",
    "To observe how realignment influenced California's prisons and jails, we obtained data from 1996 to 2022, so that we could understand the trend over time. We will start by observing California's state prisons using the data we found through the CDCR (California Department of Corrections and Rehabilitation)."
   ]
  },
  {
   "cell_type": "markdown",
   "metadata": {
    "cell_id": "00030-54620201-8b86-4034-99cb-fa7c0c2975d8",
    "deepnote_cell_height": 556.765625,
    "deepnote_cell_type": "markdown",
    "tags": [
     "ignore"
    ]
   },
   "source": [
    "### **Data** <a id='subsection1'> </a>\n",
    "\n",
    "#### Data Dictionary\n",
    "Below you will find a data dictionary for future reference. This data dictionary goes over what the column names mean in the data we loaded previously.\n",
    "\n",
    "|Column Name   | Description |\n",
    "|--------------|---------|\n",
    "|year |Year that the data was collected  |\n",
    "|month | Month that the data was collected |\n",
    "|institution_name |  Abbreviated Name of the State Prison|\n",
    "|population_felons | People imprisoned for committing felony (serious or violent crime) |\n",
    "|civil_addict | People imprisoned for drug related offenses |\n",
    "|total_population | Sum of civil addict and population felons columns|\n",
    "|designed_capacity | Max number of people the prison was built to hold|\n",
    "|percent_occupied | Percentage of people incarcerated out of designed capacity|\n",
    "|staffed_capacity | Max number of people the prison can hold based on the number of people employed|\n",
    "\n",
    "**We'll pick back up here in class on Tuesday!**\n",
    "\n",
    "--> **First thing on Tuesday:** Click this cell, then in the menu bar on the top of the screen, go to Cell and select **'Run All Above'**.\n",
    "\n",
    "We will be starting class with an **activity on PollEverywhere**! *Click on this link [PollEv.com/skyep134](pollev.com/skyep134) or scan the QR code on the screen.*"
   ]
  },
  {
   "cell_type": "markdown",
   "metadata": {
    "cell_id": "00032-00703d20-9fb1-4220-8d1a-5a3dea252a5b",
    "deepnote_cell_height": 226.390625,
    "deepnote_cell_type": "markdown",
    "tags": [
     "ignore"
    ]
   },
   "source": [
    "### **Data Analysis** <a id='subsection2'> </a>\n",
    "\n",
    "When processing a new data set, it is a good idea to play around with the data and try to combine it in different ways. To start it's good to think about how many times we expect each prison to occur in our dataset, and how many times they **actually** appear.\n",
    "\n",
    "Our dataset is made up of prisons in California from the year 1996 to (Feb) 2022. The counts in our data set were done monthly, meaning for each year we expect there to be at most 12 counts for each prison. Let's calculate the number of times we expect each prison to appear in a cell below."
   ]
  },
  {
   "cell_type": "code",
   "execution_count": 95,
   "metadata": {
    "cell_id": "00033-915c9cd0-66d8-4f7b-9e4e-63d83e6cb41f",
    "deepnote_cell_height": 172,
    "deepnote_cell_type": "code",
    "deepnote_to_be_reexecuted": false,
    "execution_millis": 48,
    "execution_start": 1649660747317,
    "source_hash": "ef246b2"
   },
   "outputs": [
    {
     "data": {
      "text/plain": [
       "324"
      ]
     },
     "execution_count": 95,
     "metadata": {},
     "output_type": "execute_result"
    }
   ],
   "source": [
    "months = 12\n",
    "years = 2022 - 1996 + 1 # We add one to our calculation because we want to include 1996\n",
    "\n",
    "months * years"
   ]
  },
  {
   "cell_type": "markdown",
   "metadata": {
    "cell_id": "00034-dff945a9-a06a-4ea4-ac3a-fba9b7c112a5",
    "deepnote_cell_height": 237.1875,
    "deepnote_cell_type": "markdown",
    "tags": [
     "ignore"
    ]
   },
   "source": [
    "By running the cell above you should see that we expect for there to be a maximum of 324 instances of each prison for the time period we have in our data set. This amount is equivalent to an entry once a month for 27 years.\n",
    "\n",
    "To find the number of times that each institution appears in our data set, we would have to group by the institution name. Essentially, we want our computer to make groups that only have values from the same prison. After we have made these groups, we can decide how to handle the data per group.\n",
    "\n",
    "The code that corresponds to this is the table function `group()`. The `group()` function takes in a column name and puts all the similar values in that column into groups, then it counts the number of items in each group.\n"
   ]
  },
  {
   "cell_type": "code",
   "execution_count": 96,
   "metadata": {
    "cell_id": "2fad6e9376a041578e0a0e8d0de14571",
    "deepnote_cell_height": 486,
    "deepnote_cell_type": "code",
    "deepnote_to_be_reexecuted": true,
    "execution_millis": 708,
    "execution_start": 1649660747364,
    "owner_user_id": "779620cb-ead0-49d1-b68d-f3eb1bd1ad4d",
    "source_hash": "81c743b4",
    "tags": []
   },
   "outputs": [
    {
     "data": {
      "text/html": [
       "<table border=\"1\" class=\"dataframe\">\n",
       "    <thead>\n",
       "        <tr>\n",
       "            <th>institution_name</th> <th>count</th>\n",
       "        </tr>\n",
       "    </thead>\n",
       "    <tbody>\n",
       "        <tr>\n",
       "            <td>ASP (AVENAL SP)                     </td> <td>314  </td>\n",
       "        </tr>\n",
       "        <tr>\n",
       "            <td>CAL (CALIPATRIA SP)                 </td> <td>314  </td>\n",
       "        </tr>\n",
       "        <tr>\n",
       "            <td>CCC (CA CORRECTIONAL CENTER)        </td> <td>314  </td>\n",
       "        </tr>\n",
       "        <tr>\n",
       "            <td>CCI (CA CORRECTIONAL INSTITUTION)   </td> <td>314  </td>\n",
       "        </tr>\n",
       "        <tr>\n",
       "            <td>CCWF (CENTRAL CA WOMEN'S FAC)       </td> <td>324  </td>\n",
       "        </tr>\n",
       "        <tr>\n",
       "            <td>CEN (CENTINELA SP)                  </td> <td>314  </td>\n",
       "        </tr>\n",
       "        <tr>\n",
       "            <td>CHCF (CA HEALTH CARE FAC - STOCKTON)</td> <td>104  </td>\n",
       "        </tr>\n",
       "        <tr>\n",
       "            <td>CIM (CA INSTITUTION FOR MEN)        </td> <td>314  </td>\n",
       "        </tr>\n",
       "        <tr>\n",
       "            <td>CIW (CA INSTITUTION FOR WOMEN)      </td> <td>319  </td>\n",
       "        </tr>\n",
       "        <tr>\n",
       "            <td>CMC (CA MEN'S COLONY)               </td> <td>314  </td>\n",
       "        </tr>\n",
       "    </tbody>\n",
       "</table>\n",
       "<p>... (31 rows omitted)</p>"
      ],
      "text/plain": [
       "institution_name                     | count\n",
       "ASP (AVENAL SP)                      | 314\n",
       "CAL (CALIPATRIA SP)                  | 314\n",
       "CCC (CA CORRECTIONAL CENTER)         | 314\n",
       "CCI (CA CORRECTIONAL INSTITUTION)    | 314\n",
       "CCWF (CENTRAL CA WOMEN'S FAC)        | 324\n",
       "CEN (CENTINELA SP)                   | 314\n",
       "CHCF (CA HEALTH CARE FAC - STOCKTON) | 104\n",
       "CIM (CA INSTITUTION FOR MEN)         | 314\n",
       "CIW (CA INSTITUTION FOR WOMEN)       | 319\n",
       "CMC (CA MEN'S COLONY)                | 314\n",
       "... (31 rows omitted)"
      ]
     },
     "execution_count": 96,
     "metadata": {},
     "output_type": "execute_result"
    }
   ],
   "source": [
    "prisons.group('institution_name')\n",
    "# The column 'count' represents the number of rows in the 'prisons' dataset \n",
    "# that correspond to each institution's name."
   ]
  },
  {
   "cell_type": "markdown",
   "metadata": {
    "cell_id": "6a78bf7e1cb245a5ac42573748c5acdc",
    "deepnote_cell_height": 111.1875,
    "deepnote_cell_type": "markdown",
    "tags": []
   },
   "source": [
    "<!-- BEGIN QUESTION --> \n",
    "\n",
    "\n",
    "<font color = #d14d0f>**QUESTION 2**:</font> Use the num_rows function we just learned to find the number of institutions represented in our dataset. Fill out the blank below based on what we did in the cell above.\n",
    "\n",
    "*Tip: Feel free to copy and paste the column name since it needs to be written identically.* "
   ]
  },
  {
   "cell_type": "code",
   "execution_count": 97,
   "metadata": {
    "cell_id": "a4247a0d968b4af4a20949cd5bc89ea5",
    "deepnote_cell_height": 198.1875,
    "deepnote_cell_type": "code",
    "deepnote_to_be_reexecuted": false,
    "execution_millis": 471,
    "execution_start": 1649660748082,
    "source_hash": "16969327",
    "tags": []
   },
   "outputs": [
    {
     "ename": "TypeError",
     "evalue": "object of type 'ellipsis' has no len()",
     "output_type": "error",
     "traceback": [
      "\u001b[0;31m---------------------------------------------------------------------------\u001b[0m",
      "\u001b[0;31mTypeError\u001b[0m                                 Traceback (most recent call last)",
      "Input \u001b[0;32mIn [97]\u001b[0m, in \u001b[0;36m<cell line: 1>\u001b[0;34m()\u001b[0m\n\u001b[0;32m----> 1\u001b[0m \u001b[43mprisons\u001b[49m\u001b[38;5;241;43m.\u001b[39;49m\u001b[43mgroup\u001b[49m\u001b[43m(\u001b[49m\u001b[38;5;241;43m.\u001b[39;49m\u001b[38;5;241;43m.\u001b[39;49m\u001b[38;5;241;43m.\u001b[39;49m\u001b[43m)\u001b[49m\u001b[38;5;241m.\u001b[39mnum_rows\n",
      "File \u001b[0;32m/opt/conda/lib/python3.9/site-packages/datascience/tables.py:1491\u001b[0m, in \u001b[0;36mTable.group\u001b[0;34m(self, column_or_label, collect)\u001b[0m\n\u001b[1;32m   1488\u001b[0m collect \u001b[38;5;241m=\u001b[39m _zero_on_type_error(collect)\n\u001b[1;32m   1490\u001b[0m \u001b[38;5;66;03m# Remove column used for grouping\u001b[39;00m\n\u001b[0;32m-> 1491\u001b[0m column \u001b[38;5;241m=\u001b[39m \u001b[38;5;28;43mself\u001b[39;49m\u001b[38;5;241;43m.\u001b[39;49m\u001b[43m_get_column\u001b[49m\u001b[43m(\u001b[49m\u001b[43mcolumn_or_label\u001b[49m\u001b[43m)\u001b[49m\n\u001b[1;32m   1492\u001b[0m \u001b[38;5;28;01mif\u001b[39;00m \u001b[38;5;28misinstance\u001b[39m(column_or_label, \u001b[38;5;28mstr\u001b[39m) \u001b[38;5;129;01mor\u001b[39;00m \u001b[38;5;28misinstance\u001b[39m(column_or_label, numbers\u001b[38;5;241m.\u001b[39mIntegral):\n\u001b[1;32m   1493\u001b[0m     column_label \u001b[38;5;241m=\u001b[39m \u001b[38;5;28mself\u001b[39m\u001b[38;5;241m.\u001b[39m_as_label(column_or_label)\n",
      "File \u001b[0;32m/opt/conda/lib/python3.9/site-packages/datascience/tables.py:1999\u001b[0m, in \u001b[0;36mTable._get_column\u001b[0;34m(self, column_or_label)\u001b[0m\n\u001b[1;32m   1997\u001b[0m     \u001b[38;5;28;01mraise\u001b[39;00m \u001b[38;5;167;01mValueError\u001b[39;00m(\u001b[38;5;124m'\u001b[39m\u001b[38;5;124mlabel \u001b[39m\u001b[38;5;124m\"\u001b[39m\u001b[38;5;132;01m{}\u001b[39;00m\u001b[38;5;124m\"\u001b[39m\u001b[38;5;124m not in labels \u001b[39m\u001b[38;5;132;01m{}\u001b[39;00m\u001b[38;5;124m'\u001b[39m\u001b[38;5;241m.\u001b[39mformat(c, \u001b[38;5;28mself\u001b[39m\u001b[38;5;241m.\u001b[39mlabels))\n\u001b[1;32m   1998\u001b[0m \u001b[38;5;28;01melse\u001b[39;00m:\n\u001b[0;32m-> 1999\u001b[0m     \u001b[38;5;28;01massert\u001b[39;00m \u001b[38;5;28;43mlen\u001b[39;49m\u001b[43m(\u001b[49m\u001b[43mc\u001b[49m\u001b[43m)\u001b[49m \u001b[38;5;241m==\u001b[39m \u001b[38;5;28mself\u001b[39m\u001b[38;5;241m.\u001b[39mnum_rows, \u001b[38;5;124m'\u001b[39m\u001b[38;5;124mcolumn length mismatch\u001b[39m\u001b[38;5;124m'\u001b[39m\n\u001b[1;32m   2000\u001b[0m     \u001b[38;5;28;01mreturn\u001b[39;00m c\n",
      "\u001b[0;31mTypeError\u001b[0m: object of type 'ellipsis' has no len()"
     ]
    }
   ],
   "source": [
    "prisons.group(...).num_rows\n",
    "# Follow the exact format of the cell above for guidance.\n",
    "# Whenever we use a column name(s), it must be in quotations and\n",
    "# have the same uppercase and lowercase format as the column name. "
   ]
  },
  {
   "cell_type": "markdown",
   "metadata": {
    "cell_id": "22c904054351489cb440e582c759aeda",
    "deepnote_cell_height": 102.796875,
    "deepnote_cell_type": "markdown",
    "tags": []
   },
   "source": [
    "How many institutions did you find to be represented? \n",
    "\n",
    "*Check your answer:* The number of institutions represented in 'prisons' is 41.\n",
    "<!-- END QUESTION --> "
   ]
  },
  {
   "cell_type": "markdown",
   "metadata": {
    "cell_id": "8273b7edce4643d29b478053a10fc7cd",
    "deepnote_cell_height": 52.390625,
    "deepnote_cell_type": "markdown",
    "tags": []
   },
   "source": [
    "Then, we can use the `sort()` function to order the counts in a specific order."
   ]
  },
  {
   "cell_type": "code",
   "execution_count": 98,
   "metadata": {
    "cell_id": "00035-0c176de5-acc3-4c77-b427-6702ace1af3f",
    "deepnote_cell_height": 323,
    "deepnote_cell_type": "code",
    "deepnote_to_be_reexecuted": true,
    "execution_millis": 1147,
    "execution_start": 1649358901053,
    "source_hash": "7ea9d9c9",
    "tags": [
     "ignore"
    ]
   },
   "outputs": [
    {
     "data": {
      "text/html": [
       "<table border=\"1\" class=\"dataframe\">\n",
       "    <thead>\n",
       "        <tr>\n",
       "            <th>institution_name</th> <th>count</th>\n",
       "        </tr>\n",
       "    </thead>\n",
       "    <tbody>\n",
       "        <tr>\n",
       "            <td>SCC (SIERRA CONSERVATION CENTER)</td> <td>430  </td>\n",
       "        </tr>\n",
       "        <tr>\n",
       "            <td>CCWF (CENTRAL CA WOMEN'S FAC)   </td> <td>324  </td>\n",
       "        </tr>\n",
       "        <tr>\n",
       "            <td>LAC (CA SP, LOS ANGELES COUNTY) </td> <td>322  </td>\n",
       "        </tr>\n",
       "        <tr>\n",
       "            <td>CIW (CA INSTITUTION FOR WOMEN)  </td> <td>319  </td>\n",
       "        </tr>\n",
       "        <tr>\n",
       "            <td>VSP (VALLEY SP)                 </td> <td>317  </td>\n",
       "        </tr>\n",
       "    </tbody>\n",
       "</table>\n",
       "<p>... (36 rows omitted)</p>"
      ],
      "text/plain": [
       "<IPython.core.display.HTML object>"
      ]
     },
     "metadata": {},
     "output_type": "display_data"
    }
   ],
   "source": [
    "# We choose to have the counts in descending order in the following example:\n",
    "prisons.group(\"institution_name\").sort(\"count\", descending = True).show(5)"
   ]
  },
  {
   "cell_type": "markdown",
   "metadata": {
    "cell_id": "00036-1fc93ebf-05fc-48c6-9c68-d676ede81a56",
    "deepnote_cell_height": 74.796875,
    "deepnote_cell_type": "markdown",
    "tags": [
     "include"
    ]
   },
   "source": [
    "<!-- BEGIN QUESTION --> \n",
    "\n",
    "\n",
    "<font color = #d14d0f>**QUESTION 3**:</font> What do we notice from this table? You should notice that there are values in our table that do not correlate with what we calculated above. Remember that we expect each prison to appear at most 324 times."
   ]
  },
  {
   "cell_type": "markdown",
   "metadata": {
    "cell_id": "00037-446bda50-37c0-4e38-bca2-c4678cdbebc5",
    "deepnote_cell_height": 52.390625,
    "deepnote_cell_type": "markdown",
    "tags": [
     "include"
    ]
   },
   "source": [
    "*Replace this text with your response!*"
   ]
  },
  {
   "cell_type": "markdown",
   "metadata": {
    "cell_id": "00038-c0a951f0-9a4b-4a63-a6dc-f6e15b1e6a8b",
    "deepnote_cell_height": 383.171875,
    "deepnote_cell_type": "markdown",
    "tags": [
     "ignore"
    ]
   },
   "source": [
    "<!-- END QUESTION --> \n",
    "***Let's discuss:***\n",
    "The cases where we have counts greater than 324 should interest you. If we assume that some of these counts are due to multiple entries per month, why would a prison need to do this? What is the significance of these counts, meaning what makes one count in a month different from the other count in that same month?\n",
    "\n",
    "To understand why we have different counts, we will look into these special prisons. Thus, the prisons we will observe in the rest of this section are:\n",
    "- Valley State Prison (VSP)\n",
    "- Sierra Conservation Center (SCC)\n",
    "- Los Angeles County State Prison (LAC)\n",
    "\n",
    "In the following section, we will explain what we think is the cause of \"inconsistency\" in the data, and how we decided to handle it. Then, we will read a data table with the \"cleaned\" data using `Table().read_table()` and assign it to a new variable.\n",
    "\n",
    "Though we denoted them as \"inconsistencies\", we urge you not to look at this as mistakes in the data but try to think how they fit into the major issues we have learned about in the class."
   ]
  },
  {
   "cell_type": "markdown",
   "metadata": {
    "cell_id": "00039-960f1868-b0ef-4943-8cfa-4f87ab2f2b06",
    "deepnote_cell_height": 177.984375,
    "deepnote_cell_type": "markdown",
    "tags": [
     "ignore"
    ]
   },
   "source": [
    "#### Valley State Prison\n",
    "\n",
    "From outside research, we discovered that Valley State Prison changed from a female prison to a male prison in 2012 -- October of 2012 to be exact. However, all rows are labeled as a male institution. For future analysis, it would be better to separate VSP into its corresponding female and male years. Thus, we decided to split and relabeled the VSP data into male and female parts. We have cleaned the data and are assigning it to prisons_1 below!"
   ]
  },
  {
   "cell_type": "code",
   "execution_count": 99,
   "metadata": {
    "cell_id": "e3a0c345747648ab8748eb432d6e16c1",
    "deepnote_cell_height": 351,
    "deepnote_cell_type": "code",
    "deepnote_to_be_reexecuted": false,
    "execution_millis": 109,
    "execution_start": 1649660750484,
    "source_hash": "a53bb250",
    "tags": []
   },
   "outputs": [],
   "source": [
    "#Feel free to ignore this code, but take a look if you're interested!\n",
    "\n",
    "#This code takes the prisons dataset and makes the changes outlined above,\n",
    "#then reassigns the cleaned data to the prisons_1 variable name\n",
    "prisons_w_sorted_vsp = prisons.copy()\n",
    "for i in np.arange(prisons_w_sorted_vsp.num_rows):\n",
    "    if prisons['institution_name'][i] == \"VSP (VALLEY SP)\":\n",
    "        if prisons['year'][i] < 2012:\n",
    "            prisons_w_sorted_vsp['institution_name'][i] = 'VALLEY SP (FEMALE)'\n",
    "        elif prisons['year'][i] == 2012 and prisons['month'][i]<=10:\n",
    "            prisons_w_sorted_vsp['institution_name'][i] = 'VALLEY SP (FEMALE)'\n",
    "        else: \n",
    "            prisons_w_sorted_vsp['institution_name'][i] = 'VALLEY SP (MALE)'\n",
    "\n",
    "prisons_1 = prisons_w_sorted_vsp\n",
    "#Just run this cell"
   ]
  },
  {
   "cell_type": "code",
   "execution_count": 100,
   "metadata": {
    "cell_id": "00040-ad763e2f-7273-4b53-8cd0-51a15b9e70a8",
    "deepnote_cell_height": 341,
    "deepnote_cell_type": "code",
    "deepnote_to_be_reexecuted": false,
    "execution_millis": 20,
    "execution_start": 1649660750602,
    "source_hash": "c4d0ba62"
   },
   "outputs": [
    {
     "data": {
      "text/html": [
       "<table border=\"1\" class=\"dataframe\">\n",
       "    <thead>\n",
       "        <tr>\n",
       "            <th>year</th> <th>month</th> <th>institution_name</th> <th>population_felons</th> <th>civil_addict</th> <th>total_population</th> <th>designed_capacity</th> <th>percent_occupied</th> <th>staffed_capacity</th> <th>source_pdf_name</th>\n",
       "        </tr>\n",
       "    </thead>\n",
       "    <tbody>\n",
       "        <tr>\n",
       "            <td>1996</td> <td>1    </td> <td>VALLEY SP (FEMALE)</td> <td>2294             </td> <td>0           </td> <td>2294            </td> <td>1980             </td> <td>115.9           </td> <td>1980            </td> <td>TPOP1Ad9601.pdf</td>\n",
       "        </tr>\n",
       "        <tr>\n",
       "            <td>1996</td> <td>2    </td> <td>VALLEY SP (FEMALE)</td> <td>2096             </td> <td>0           </td> <td>2096            </td> <td>1980             </td> <td>105.9           </td> <td>2184            </td> <td>TPOP1Ad9602.pdf</td>\n",
       "        </tr>\n",
       "        <tr>\n",
       "            <td>1996</td> <td>3    </td> <td>VALLEY SP (FEMALE)</td> <td>2326             </td> <td>7           </td> <td>2333            </td> <td>2380             </td> <td>98              </td> <td>2584            </td> <td>TPOP1Ad9603.pdf</td>\n",
       "        </tr>\n",
       "        <tr>\n",
       "            <td>1996</td> <td>4    </td> <td>VALLEY SP (FEMALE)</td> <td>2498             </td> <td>13          </td> <td>2511            </td> <td>2380             </td> <td>105.5           </td> <td>2584            </td> <td>TPOP1Ad9604.pdf</td>\n",
       "        </tr>\n",
       "        <tr>\n",
       "            <td>1996</td> <td>5    </td> <td>VALLEY SP (FEMALE)</td> <td>2562             </td> <td>9           </td> <td>2571            </td> <td>2380             </td> <td>108             </td> <td>2584            </td> <td>TPOP1Ad9605.pdf</td>\n",
       "        </tr>\n",
       "        <tr>\n",
       "            <td>1996</td> <td>6    </td> <td>VALLEY SP (FEMALE)</td> <td>2549             </td> <td>12          </td> <td>2561            </td> <td>1980             </td> <td>129.3           </td> <td>2592            </td> <td>TPOP1Ad9606.pdf</td>\n",
       "        </tr>\n",
       "        <tr>\n",
       "            <td>1996</td> <td>7    </td> <td>VALLEY SP (FEMALE)</td> <td>2789             </td> <td>31          </td> <td>2820            </td> <td>1980             </td> <td>142.4           </td> <td>2592            </td> <td>TPOP1Ad9607.pdf</td>\n",
       "        </tr>\n",
       "        <tr>\n",
       "            <td>1996</td> <td>8    </td> <td>VALLEY SP (FEMALE)</td> <td>2750             </td> <td>8           </td> <td>2758            </td> <td>1980             </td> <td>139.3           </td> <td>2592            </td> <td>TPOP1Ad9608.pdf</td>\n",
       "        </tr>\n",
       "        <tr>\n",
       "            <td>1996</td> <td>9    </td> <td>VALLEY SP (FEMALE)</td> <td>2693             </td> <td>17          </td> <td>2710            </td> <td>1980             </td> <td>136.9           </td> <td>2592            </td> <td>TPOP1Ad9609.pdf</td>\n",
       "        </tr>\n",
       "        <tr>\n",
       "            <td>1996</td> <td>10   </td> <td>VALLEY SP (FEMALE)</td> <td>2751             </td> <td>6           </td> <td>2757            </td> <td>1980             </td> <td>139.2           </td> <td>2592            </td> <td>TPOP1Ad9610.pdf</td>\n",
       "        </tr>\n",
       "        <tr>\n",
       "            <td>1996</td> <td>11   </td> <td>VALLEY SP (FEMALE)</td> <td>2818             </td> <td>15          </td> <td>2833            </td> <td>1980             </td> <td>143.1           </td> <td>2592            </td> <td>TPOP1Ad9611.pdf</td>\n",
       "        </tr>\n",
       "        <tr>\n",
       "            <td>1996</td> <td>12   </td> <td>VALLEY SP (FEMALE)</td> <td>2948             </td> <td>12          </td> <td>2960            </td> <td>1980             </td> <td>149.5           </td> <td>2592            </td> <td>TPOP1Ad9612.pdf</td>\n",
       "        </tr>\n",
       "        <tr>\n",
       "            <td>1997</td> <td>1    </td> <td>VALLEY SP (FEMALE)</td> <td>2864             </td> <td>11          </td> <td>2875            </td> <td>1980             </td> <td>145.2           </td> <td>3330            </td> <td>TPOP1Ad9701.pdf</td>\n",
       "        </tr>\n",
       "        <tr>\n",
       "            <td>1997</td> <td>2    </td> <td>VALLEY SP (FEMALE)</td> <td>2814             </td> <td>16          </td> <td>2830            </td> <td>1980             </td> <td>142.9           </td> <td>2950            </td> <td>TPOP1Ad9702.pdf</td>\n",
       "        </tr>\n",
       "        <tr>\n",
       "            <td>1997</td> <td>3    </td> <td>VALLEY SP (FEMALE)</td> <td>2847             </td> <td>9           </td> <td>2856            </td> <td>1980             </td> <td>144.2           </td> <td>2950            </td> <td>TPOP1Ad9703.pdf</td>\n",
       "        </tr>\n",
       "        <tr>\n",
       "            <td>1997</td> <td>4    </td> <td>VALLEY SP (FEMALE)</td> <td>3022             </td> <td>19          </td> <td>3041            </td> <td>1980             </td> <td>153.6           </td> <td>2950            </td> <td>TPOP1Ad9704.pdf</td>\n",
       "        </tr>\n",
       "        <tr>\n",
       "            <td>1997</td> <td>5    </td> <td>VALLEY SP (FEMALE)</td> <td>3087             </td> <td>9           </td> <td>3096            </td> <td>1980             </td> <td>156.4           </td> <td>2950            </td> <td>TPOP1Ad9705.pdf</td>\n",
       "        </tr>\n",
       "        <tr>\n",
       "            <td>1997</td> <td>6    </td> <td>VALLEY SP (FEMALE)</td> <td>3230             </td> <td>21          </td> <td>3251            </td> <td>1980             </td> <td>164.2           </td> <td>3090            </td> <td>TPOP1Ad9706.pdf</td>\n",
       "        </tr>\n",
       "        <tr>\n",
       "            <td>1997</td> <td>7    </td> <td>VALLEY SP (FEMALE)</td> <td>3289             </td> <td>15          </td> <td>3304            </td> <td>1980             </td> <td>166.9           </td> <td>3090            </td> <td>TPOP1Ad9707.pdf</td>\n",
       "        </tr>\n",
       "        <tr>\n",
       "            <td>1997</td> <td>8    </td> <td>VALLEY SP (FEMALE)</td> <td>3223             </td> <td>14          </td> <td>3237            </td> <td>1980             </td> <td>163.5           </td> <td>3090            </td> <td>TPOP1Ad9708.pdf</td>\n",
       "        </tr>\n",
       "        <tr>\n",
       "            <td>1997</td> <td>9    </td> <td>VALLEY SP (FEMALE)</td> <td>3146             </td> <td>18          </td> <td>3164            </td> <td>1980             </td> <td>159.8           </td> <td>3090            </td> <td>TPOP1Ad9709.pdf</td>\n",
       "        </tr>\n",
       "        <tr>\n",
       "            <td>1997</td> <td>10   </td> <td>VALLEY SP (FEMALE)</td> <td>3206             </td> <td>16          </td> <td>3222            </td> <td>1980             </td> <td>162.7           </td> <td>3090            </td> <td>TPOP1Ad9710.pdf</td>\n",
       "        </tr>\n",
       "        <tr>\n",
       "            <td>1997</td> <td>11   </td> <td>VALLEY SP (FEMALE)</td> <td>3302             </td> <td>16          </td> <td>3318            </td> <td>1980             </td> <td>167.6           </td> <td>3090            </td> <td>TPOP1Ad9711.pdf</td>\n",
       "        </tr>\n",
       "        <tr>\n",
       "            <td>1997</td> <td>12   </td> <td>VALLEY SP (FEMALE)</td> <td>3287             </td> <td>15          </td> <td>3302            </td> <td>1980             </td> <td>166.8           </td> <td>3090            </td> <td>TPOP1Ad9712.pdf</td>\n",
       "        </tr>\n",
       "        <tr>\n",
       "            <td>1998</td> <td>1    </td> <td>VALLEY SP (FEMALE)</td> <td>3253             </td> <td>18          </td> <td>3271            </td> <td>1980             </td> <td>165.2           </td> <td>3510            </td> <td>TPOP1Ad9801.pdf</td>\n",
       "        </tr>\n",
       "        <tr>\n",
       "            <td>1998</td> <td>2    </td> <td>VALLEY SP (FEMALE)</td> <td>3189             </td> <td>13          </td> <td>3202            </td> <td>1980             </td> <td>161.7           </td> <td>3330            </td> <td>TPOP1Ad9802.pdf</td>\n",
       "        </tr>\n",
       "        <tr>\n",
       "            <td>1998</td> <td>3    </td> <td>VALLEY SP (FEMALE)</td> <td>3220             </td> <td>13          </td> <td>3233            </td> <td>1980             </td> <td>163.3           </td> <td>3330            </td> <td>TPOP1Ad9803.pdf</td>\n",
       "        </tr>\n",
       "        <tr>\n",
       "            <td>1998</td> <td>4    </td> <td>VALLEY SP (FEMALE)</td> <td>3244             </td> <td>25          </td> <td>3269            </td> <td>1980             </td> <td>165.1           </td> <td>3330            </td> <td>TPOP1Ad9804.pdf</td>\n",
       "        </tr>\n",
       "        <tr>\n",
       "            <td>1998</td> <td>5    </td> <td>VALLEY SP (FEMALE)</td> <td>3287             </td> <td>23          </td> <td>3310            </td> <td>1980             </td> <td>167.2           </td> <td>3330            </td> <td>TPOP1Ad9805.pdf</td>\n",
       "        </tr>\n",
       "        <tr>\n",
       "            <td>1998</td> <td>6    </td> <td>VALLEY SP (FEMALE)</td> <td>3297             </td> <td>21          </td> <td>3318            </td> <td>1980             </td> <td>167.6           </td> <td>3330            </td> <td>TPOP1Ad9806.pdf</td>\n",
       "        </tr>\n",
       "        <tr>\n",
       "            <td>1998</td> <td>7    </td> <td>VALLEY SP (FEMALE)</td> <td>3466             </td> <td>12          </td> <td>3478            </td> <td>1980             </td> <td>175.7           </td> <td>3330            </td> <td>TPOP1Ad9807.pdf</td>\n",
       "        </tr>\n",
       "        <tr>\n",
       "            <td>1998</td> <td>8    </td> <td>VALLEY SP (FEMALE)</td> <td>3540             </td> <td>16          </td> <td>3556            </td> <td>1980             </td> <td>179.6           </td> <td>3330            </td> <td>TPOP1Ad9808.pdf</td>\n",
       "        </tr>\n",
       "        <tr>\n",
       "            <td>1998</td> <td>9    </td> <td>VALLEY SP (FEMALE)</td> <td>3717             </td> <td>12          </td> <td>3729            </td> <td>1980             </td> <td>188.3           </td> <td>3330            </td> <td>TPOP1Ad9809.pdf</td>\n",
       "        </tr>\n",
       "        <tr>\n",
       "            <td>1998</td> <td>10   </td> <td>VALLEY SP (FEMALE)</td> <td>3728             </td> <td>13          </td> <td>3741            </td> <td>1980             </td> <td>188.9           </td> <td>3330            </td> <td>TPOP1Ad9810.pdf</td>\n",
       "        </tr>\n",
       "        <tr>\n",
       "            <td>1998</td> <td>11   </td> <td>VALLEY SP (FEMALE)</td> <td>3726             </td> <td>10          </td> <td>3736            </td> <td>1980             </td> <td>188.7           </td> <td>3330            </td> <td>TPOP1Ad9811.pdf</td>\n",
       "        </tr>\n",
       "        <tr>\n",
       "            <td>1998</td> <td>12   </td> <td>VALLEY SP (FEMALE)</td> <td>3734             </td> <td>8           </td> <td>3742            </td> <td>1980             </td> <td>189             </td> <td>3741            </td> <td>TPOP1Ad9812.pdf</td>\n",
       "        </tr>\n",
       "        <tr>\n",
       "            <td>1999</td> <td>1    </td> <td>VALLEY SP (FEMALE)</td> <td>3732             </td> <td>14          </td> <td>3746            </td> <td>1980             </td> <td>189.2           </td> <td>3741            </td> <td>TPOP1Ad9901.pdf</td>\n",
       "        </tr>\n",
       "        <tr>\n",
       "            <td>1999</td> <td>2    </td> <td>VALLEY SP (FEMALE)</td> <td>3648             </td> <td>15          </td> <td>3663            </td> <td>1980             </td> <td>185             </td> <td>3741            </td> <td>TPOP1Ad9902.pdf</td>\n",
       "        </tr>\n",
       "        <tr>\n",
       "            <td>1999</td> <td>3    </td> <td>VALLEY SP (FEMALE)</td> <td>3659             </td> <td>8           </td> <td>3667            </td> <td>1980             </td> <td>185.2           </td> <td>3741            </td> <td>TPOP1Ad9903.pdf</td>\n",
       "        </tr>\n",
       "        <tr>\n",
       "            <td>1999</td> <td>4    </td> <td>VALLEY SP (FEMALE)</td> <td>3632             </td> <td>10          </td> <td>3642            </td> <td>1980             </td> <td>183.9           </td> <td>3664            </td> <td>TPOP1Ad9904.pdf</td>\n",
       "        </tr>\n",
       "        <tr>\n",
       "            <td>1999</td> <td>5    </td> <td>VALLEY SP (FEMALE)</td> <td>3585             </td> <td>20          </td> <td>3605            </td> <td>1980             </td> <td>182.1           </td> <td>3664            </td> <td>TPOP1Ad9905.pdf</td>\n",
       "        </tr>\n",
       "        <tr>\n",
       "            <td>1999</td> <td>6    </td> <td>VALLEY SP (FEMALE)</td> <td>3655             </td> <td>14          </td> <td>3669            </td> <td>1980             </td> <td>185.3           </td> <td>3664            </td> <td>TPOP1Ad9906.pdf</td>\n",
       "        </tr>\n",
       "        <tr>\n",
       "            <td>1999</td> <td>7    </td> <td>VALLEY SP (FEMALE)</td> <td>3615             </td> <td>14          </td> <td>3629            </td> <td>1980             </td> <td>183.3           </td> <td>3664            </td> <td>TPOP1Ad9907.pdf</td>\n",
       "        </tr>\n",
       "        <tr>\n",
       "            <td>1999</td> <td>8    </td> <td>VALLEY SP (FEMALE)</td> <td>3557             </td> <td>5           </td> <td>3562            </td> <td>1980             </td> <td>179.9           </td> <td>3664            </td> <td>TPOP1Ad9908.pdf</td>\n",
       "        </tr>\n",
       "        <tr>\n",
       "            <td>1999</td> <td>9    </td> <td>VALLEY SP (FEMALE)</td> <td>3605             </td> <td>16          </td> <td>3621            </td> <td>1980             </td> <td>182.9           </td> <td>3664            </td> <td>TPOP1Ad9909.pdf</td>\n",
       "        </tr>\n",
       "        <tr>\n",
       "            <td>1999</td> <td>10   </td> <td>VALLEY SP (FEMALE)</td> <td>3591             </td> <td>11          </td> <td>3602            </td> <td>1980             </td> <td>181.9           </td> <td>3664            </td> <td>TPOP1Ad9910.pdf</td>\n",
       "        </tr>\n",
       "        <tr>\n",
       "            <td>1999</td> <td>11   </td> <td>VALLEY SP (FEMALE)</td> <td>3519             </td> <td>8           </td> <td>3527            </td> <td>1980             </td> <td>178.1           </td> <td>3664            </td> <td>TPOP1Ad9911.pdf</td>\n",
       "        </tr>\n",
       "        <tr>\n",
       "            <td>1999</td> <td>12   </td> <td>VALLEY SP (FEMALE)</td> <td>3532             </td> <td>12          </td> <td>3544            </td> <td>1980             </td> <td>179             </td> <td>3587            </td> <td>TPOP1Ad9912.pdf</td>\n",
       "        </tr>\n",
       "        <tr>\n",
       "            <td>2000</td> <td>1    </td> <td>VALLEY SP (FEMALE)</td> <td>3537             </td> <td>20          </td> <td>3557            </td> <td>1980             </td> <td>179.6           </td> <td>3498            </td> <td>TPOP1Ad0001.pdf</td>\n",
       "        </tr>\n",
       "        <tr>\n",
       "            <td>2000</td> <td>2    </td> <td>VALLEY SP (FEMALE)</td> <td>3576             </td> <td>7           </td> <td>3583            </td> <td>1980             </td> <td>181             </td> <td>3498            </td> <td>TPOP1Ad0002.pdf</td>\n",
       "        </tr>\n",
       "        <tr>\n",
       "            <td>2000</td> <td>3    </td> <td>VALLEY SP (FEMALE)</td> <td>3616             </td> <td>12          </td> <td>3628            </td> <td>1980             </td> <td>183.2           </td> <td>3498            </td> <td>TPOP1Ad0003.pdf</td>\n",
       "        </tr>\n",
       "        <tr>\n",
       "            <td>2000</td> <td>4    </td> <td>VALLEY SP (FEMALE)</td> <td>3588             </td> <td>6           </td> <td>3594            </td> <td>1980             </td> <td>181.5           </td> <td>3503            </td> <td>TPOP1Ad0004.pdf</td>\n",
       "        </tr>\n",
       "        <tr>\n",
       "            <td>2000</td> <td>5    </td> <td>VALLEY SP (FEMALE)</td> <td>3499             </td> <td>12          </td> <td>3511            </td> <td>1980             </td> <td>177.3           </td> <td>3580            </td> <td>TPOP1Ad0005.pdf</td>\n",
       "        </tr>\n",
       "        <tr>\n",
       "            <td>2000</td> <td>6    </td> <td>VALLEY SP (FEMALE)</td> <td>3471             </td> <td>8           </td> <td>3479            </td> <td>1980             </td> <td>175.7           </td> <td>3580            </td> <td>TPOP1Ad0006.pdf</td>\n",
       "        </tr>\n",
       "        <tr>\n",
       "            <td>2000</td> <td>7    </td> <td>VALLEY SP (FEMALE)</td> <td>3428             </td> <td>7           </td> <td>3435            </td> <td>1980             </td> <td>173.5           </td> <td>3503            </td> <td>TPOP1Ad0007.pdf</td>\n",
       "        </tr>\n",
       "        <tr>\n",
       "            <td>2000</td> <td>8    </td> <td>VALLEY SP (FEMALE)</td> <td>3484             </td> <td>14          </td> <td>3498            </td> <td>1980             </td> <td>176.7           </td> <td>3503            </td> <td>TPOP1Ad0008.pdf</td>\n",
       "        </tr>\n",
       "        <tr>\n",
       "            <td>2000</td> <td>9    </td> <td>VALLEY SP (FEMALE)</td> <td>3511             </td> <td>9           </td> <td>3520            </td> <td>1980             </td> <td>177.8           </td> <td>3503            </td> <td>TPOP1Ad0009.pdf</td>\n",
       "        </tr>\n",
       "        <tr>\n",
       "            <td>2000</td> <td>10   </td> <td>VALLEY SP (FEMALE)</td> <td>3394             </td> <td>13          </td> <td>3407            </td> <td>1980             </td> <td>172.1           </td> <td>3503            </td> <td>TPOP1Ad0010.pdf</td>\n",
       "        </tr>\n",
       "        <tr>\n",
       "            <td>2000</td> <td>11   </td> <td>VALLEY SP (FEMALE)</td> <td>3286             </td> <td>4           </td> <td>3290            </td> <td>1980             </td> <td>166.2           </td> <td>3503            </td> <td>TPOP1Ad0011.pdf</td>\n",
       "        </tr>\n",
       "        <tr>\n",
       "            <td>2000</td> <td>12   </td> <td>VALLEY SP (FEMALE)</td> <td>3332             </td> <td>14          </td> <td>3346            </td> <td>1980             </td> <td>169             </td> <td>3503            </td> <td>TPOP1Ad0012.pdf</td>\n",
       "        </tr>\n",
       "        <tr>\n",
       "            <td>2001</td> <td>1    </td> <td>VALLEY SP (FEMALE)</td> <td>3271             </td> <td>8           </td> <td>3279            </td> <td>1980             </td> <td>165.6           </td> <td>3324            </td> <td>TPOP1Ad0101.pdf</td>\n",
       "        </tr>\n",
       "        <tr>\n",
       "            <td>2001</td> <td>2    </td> <td>VALLEY SP (FEMALE)</td> <td>3226             </td> <td>9           </td> <td>3235            </td> <td>1980             </td> <td>163.4           </td> <td>3324            </td> <td>TPOP1Ad0102.pdf</td>\n",
       "        </tr>\n",
       "        <tr>\n",
       "            <td>2001</td> <td>3    </td> <td>VALLEY SP (FEMALE)</td> <td>3297             </td> <td>13          </td> <td>3310            </td> <td>1980             </td> <td>167.2           </td> <td>3324            </td> <td>TPOP1Ad0103.pdf</td>\n",
       "        </tr>\n",
       "        <tr>\n",
       "            <td>2001</td> <td>4    </td> <td>VALLEY SP (FEMALE)</td> <td>3302             </td> <td>9           </td> <td>3311            </td> <td>1980             </td> <td>167.2           </td> <td>3324            </td> <td>TPOP1Ad0104.pdf</td>\n",
       "        </tr>\n",
       "        <tr>\n",
       "            <td>2001</td> <td>5    </td> <td>VALLEY SP (FEMALE)</td> <td>3269             </td> <td>2           </td> <td>3271            </td> <td>1980             </td> <td>165.2           </td> <td>3324            </td> <td>TPOP1Ad0105.pdf</td>\n",
       "        </tr>\n",
       "        <tr>\n",
       "            <td>2001</td> <td>6    </td> <td>VALLEY SP (FEMALE)</td> <td>3243             </td> <td>4           </td> <td>3247            </td> <td>1980             </td> <td>164             </td> <td>3324            </td> <td>TPOP1Ad0106.pdf</td>\n",
       "        </tr>\n",
       "        <tr>\n",
       "            <td>2001</td> <td>7    </td> <td>VALLEY SP (FEMALE)</td> <td>3185             </td> <td>7           </td> <td>3192            </td> <td>1980             </td> <td>161.2           </td> <td>3324            </td> <td>TPOP1Ad0107.pdf</td>\n",
       "        </tr>\n",
       "        <tr>\n",
       "            <td>2001</td> <td>8    </td> <td>VALLEY SP (FEMALE)</td> <td>3120             </td> <td>7           </td> <td>3127            </td> <td>1980             </td> <td>157.9           </td> <td>3324            </td> <td>TPOP1Ad0108.pdf</td>\n",
       "        </tr>\n",
       "        <tr>\n",
       "            <td>2001</td> <td>9    </td> <td>VALLEY SP (FEMALE)</td> <td>3057             </td> <td>5           </td> <td>3062            </td> <td>1980             </td> <td>154.6           </td> <td>3324            </td> <td>TPOP1Ad0109.pdf</td>\n",
       "        </tr>\n",
       "        <tr>\n",
       "            <td>2001</td> <td>10   </td> <td>VALLEY SP (FEMALE)</td> <td>3053             </td> <td>7           </td> <td>3060            </td> <td>1980             </td> <td>154.5           </td> <td>3247            </td> <td>TPOP1Ad0110.pdf</td>\n",
       "        </tr>\n",
       "        <tr>\n",
       "            <td>2001</td> <td>11   </td> <td>VALLEY SP (FEMALE)</td> <td>3005             </td> <td>15          </td> <td>3020            </td> <td>1980             </td> <td>152.5           </td> <td>3247            </td> <td>TPOP1Ad0111.pdf</td>\n",
       "        </tr>\n",
       "        <tr>\n",
       "            <td>2001</td> <td>12   </td> <td>VALLEY SP (FEMALE)</td> <td>2920             </td> <td>5           </td> <td>2925            </td> <td>1980             </td> <td>147.7           </td> <td>3247            </td> <td>TPOP1Ad0112.pdf</td>\n",
       "        </tr>\n",
       "        <tr>\n",
       "            <td>2002</td> <td>1    </td> <td>VALLEY SP (FEMALE)</td> <td>3037             </td> <td>3           </td> <td>3040            </td> <td>1980             </td> <td>153.5           </td> <td>3247            </td> <td>TPOP1Ad0201.pdf</td>\n",
       "        </tr>\n",
       "        <tr>\n",
       "            <td>2002</td> <td>2    </td> <td>VALLEY SP (FEMALE)</td> <td>2983             </td> <td>9           </td> <td>2992            </td> <td>1980             </td> <td>151.1           </td> <td>3247            </td> <td>TPOP1Ad0202.pdf</td>\n",
       "        </tr>\n",
       "        <tr>\n",
       "            <td>2002</td> <td>3    </td> <td>VALLEY SP (FEMALE)</td> <td>2983             </td> <td>3           </td> <td>2986            </td> <td>1980             </td> <td>150.8           </td> <td>3247            </td> <td>TPOP1Ad0203.pdf</td>\n",
       "        </tr>\n",
       "        <tr>\n",
       "            <td>2002</td> <td>4    </td> <td>VALLEY SP (FEMALE)</td> <td>2919             </td> <td>12          </td> <td>2931            </td> <td>1980             </td> <td>148             </td> <td>3067            </td> <td>TPOP1Ad0204.pdf</td>\n",
       "        </tr>\n",
       "        <tr>\n",
       "            <td>2002</td> <td>5    </td> <td>VALLEY SP (FEMALE)</td> <td>3032             </td> <td>8           </td> <td>3040            </td> <td>1980             </td> <td>153.5           </td> <td>3067            </td> <td>TPOP1Ad0205.pdf</td>\n",
       "        </tr>\n",
       "        <tr>\n",
       "            <td>2002</td> <td>6    </td> <td>VALLEY SP (FEMALE)</td> <td>3026             </td> <td>4           </td> <td>3030            </td> <td>1980             </td> <td>153             </td> <td>3247            </td> <td>TPOP1Ad0206.pdf</td>\n",
       "        </tr>\n",
       "        <tr>\n",
       "            <td>2002</td> <td>7    </td> <td>VALLEY SP (FEMALE)</td> <td>3047             </td> <td>11          </td> <td>3058            </td> <td>1980             </td> <td>154.4           </td> <td>3247            </td> <td>TPOP1Ad0207.pdf</td>\n",
       "        </tr>\n",
       "        <tr>\n",
       "            <td>2002</td> <td>8    </td> <td>VALLEY SP (FEMALE)</td> <td>3021             </td> <td>3           </td> <td>3024            </td> <td>1980             </td> <td>152.7           </td> <td>3247            </td> <td>TPOP1Ad0208.pdf</td>\n",
       "        </tr>\n",
       "        <tr>\n",
       "            <td>2002</td> <td>9    </td> <td>VALLEY SP (FEMALE)</td> <td>3082             </td> <td>9           </td> <td>3091            </td> <td>1980             </td> <td>156.1           </td> <td>3247            </td> <td>TPOP1Ad0209.pdf</td>\n",
       "        </tr>\n",
       "        <tr>\n",
       "            <td>2002</td> <td>10   </td> <td>VALLEY SP (FEMALE)</td> <td>3082             </td> <td>6           </td> <td>3088            </td> <td>1980             </td> <td>156             </td> <td>3427            </td> <td>TPOP1Ad0210.pdf</td>\n",
       "        </tr>\n",
       "        <tr>\n",
       "            <td>2002</td> <td>11   </td> <td>VALLEY SP (FEMALE)</td> <td>3107             </td> <td>5           </td> <td>3112            </td> <td>1980             </td> <td>157.2           </td> <td>3427            </td> <td>TPOP1Ad0211.pdf</td>\n",
       "        </tr>\n",
       "        <tr>\n",
       "            <td>2002</td> <td>12   </td> <td>VALLEY SP (FEMALE)</td> <td>3123             </td> <td>0           </td> <td>3123            </td> <td>1980             </td> <td>157.7           </td> <td>3427            </td> <td>TPOP1Ad0212.pdf</td>\n",
       "        </tr>\n",
       "        <tr>\n",
       "            <td>2003</td> <td>1    </td> <td>VALLEY SP (FEMALE)</td> <td>3177             </td> <td>2           </td> <td>3179            </td> <td>1980             </td> <td>160.6           </td> <td>3427            </td> <td>TPOP1Ad0301.pdf</td>\n",
       "        </tr>\n",
       "        <tr>\n",
       "            <td>2003</td> <td>2    </td> <td>VALLEY SP (FEMALE)</td> <td>3315             </td> <td>6           </td> <td>3321            </td> <td>1980             </td> <td>167.7           </td> <td>3660            </td> <td>TPOP1Ad0302.pdf</td>\n",
       "        </tr>\n",
       "        <tr>\n",
       "            <td>2003</td> <td>3    </td> <td>VALLEY SP (FEMALE)</td> <td>3391             </td> <td>8           </td> <td>3399            </td> <td>1980             </td> <td>171.7           </td> <td>3660            </td> <td>TPOP1Ad0303.pdf</td>\n",
       "        </tr>\n",
       "        <tr>\n",
       "            <td>2003</td> <td>4    </td> <td>VALLEY SP (FEMALE)</td> <td>3704             </td> <td>8           </td> <td>3712            </td> <td>1980             </td> <td>187.5           </td> <td>3660            </td> <td>TPOP1Ad0304.pdf</td>\n",
       "        </tr>\n",
       "        <tr>\n",
       "            <td>2003</td> <td>5    </td> <td>VALLEY SP (FEMALE)</td> <td>3742             </td> <td>6           </td> <td>3748            </td> <td>1980             </td> <td>189.3           </td> <td>3660            </td> <td>TPOP1Ad0305.pdf</td>\n",
       "        </tr>\n",
       "        <tr>\n",
       "            <td>2003</td> <td>6    </td> <td>VALLEY SP (FEMALE)</td> <td>3527             </td> <td>13          </td> <td>3540            </td> <td>1980             </td> <td>178.8           </td> <td>3737            </td> <td>TPOP1Ad0306.pdf</td>\n",
       "        </tr>\n",
       "        <tr>\n",
       "            <td>2003</td> <td>7    </td> <td>VALLEY SP (FEMALE)</td> <td>3536             </td> <td>12          </td> <td>3548            </td> <td>1980             </td> <td>179.2           </td> <td>3737            </td> <td>TPOP1Ad0307.pdf</td>\n",
       "        </tr>\n",
       "        <tr>\n",
       "            <td>2003</td> <td>8    </td> <td>VALLEY SP (FEMALE)</td> <td>3555             </td> <td>7           </td> <td>3562            </td> <td>1980             </td> <td>179.9           </td> <td>3737            </td> <td>TPOP1Ad0308.pdf</td>\n",
       "        </tr>\n",
       "        <tr>\n",
       "            <td>2003</td> <td>9    </td> <td>VALLEY SP (FEMALE)</td> <td>3767             </td> <td>10          </td> <td>3777            </td> <td>1980             </td> <td>190.8           </td> <td>3737            </td> <td>TPOP1Ad0309.pdf</td>\n",
       "        </tr>\n",
       "        <tr>\n",
       "            <td>2003</td> <td>10   </td> <td>VALLEY SP (FEMALE)</td> <td>3651             </td> <td>9           </td> <td>3660            </td> <td>1980             </td> <td>184.8           </td> <td>3737            </td> <td>TPOP1Ad0310.pdf</td>\n",
       "        </tr>\n",
       "        <tr>\n",
       "            <td>2003</td> <td>11   </td> <td>VALLEY SP (FEMALE)</td> <td>3585             </td> <td>5           </td> <td>3590            </td> <td>1980             </td> <td>181.3           </td> <td>3737            </td> <td>TPOP1Ad0311.pdf</td>\n",
       "        </tr>\n",
       "        <tr>\n",
       "            <td>2003</td> <td>12   </td> <td>VALLEY SP (FEMALE)</td> <td>3581             </td> <td>14          </td> <td>3595            </td> <td>1980             </td> <td>181.6           </td> <td>3814            </td> <td>TPOP1Ad0312.pdf</td>\n",
       "        </tr>\n",
       "        <tr>\n",
       "            <td>2004</td> <td>1    </td> <td>VALLEY SP (FEMALE)</td> <td>3531             </td> <td>9           </td> <td>3540            </td> <td>1980             </td> <td>178.8           </td> <td>3814            </td> <td>TPOP1Ad0401.pdf</td>\n",
       "        </tr>\n",
       "        <tr>\n",
       "            <td>2004</td> <td>2    </td> <td>VALLEY SP (FEMALE)</td> <td>3546             </td> <td>14          </td> <td>3560            </td> <td>1980             </td> <td>179.8           </td> <td>3814            </td> <td>TPOP1Ad0402.pdf</td>\n",
       "        </tr>\n",
       "        <tr>\n",
       "            <td>2004</td> <td>3    </td> <td>VALLEY SP (FEMALE)</td> <td>3606             </td> <td>7           </td> <td>3613            </td> <td>1980             </td> <td>182.5           </td> <td>3814            </td> <td>TPOP1Ad0403.pdf</td>\n",
       "        </tr>\n",
       "        <tr>\n",
       "            <td>2004</td> <td>4    </td> <td>VALLEY SP (FEMALE)</td> <td>3628             </td> <td>7           </td> <td>3635            </td> <td>1980             </td> <td>183.6           </td> <td>3814            </td> <td>TPOP1Ad0404.pdf</td>\n",
       "        </tr>\n",
       "        <tr>\n",
       "            <td>2004</td> <td>5    </td> <td>VALLEY SP (FEMALE)</td> <td>3659             </td> <td>6           </td> <td>3665            </td> <td>1980             </td> <td>185.1           </td> <td>3814            </td> <td>TPOP1Ad0405.pdf</td>\n",
       "        </tr>\n",
       "        <tr>\n",
       "            <td>2004</td> <td>6    </td> <td>VALLEY SP (FEMALE)</td> <td>3636             </td> <td>6           </td> <td>3642            </td> <td>1980             </td> <td>183.9           </td> <td>3814            </td> <td>TPOP1Ad0406.pdf</td>\n",
       "        </tr>\n",
       "        <tr>\n",
       "            <td>2004</td> <td>7    </td> <td>VALLEY SP (FEMALE)</td> <td>3646             </td> <td>17          </td> <td>3663            </td> <td>1980             </td> <td>185             </td> <td>3814            </td> <td>TPOP1Ad0407.pdf</td>\n",
       "        </tr>\n",
       "        <tr>\n",
       "            <td>2004</td> <td>8    </td> <td>VALLEY SP (FEMALE)</td> <td>3688             </td> <td>10          </td> <td>3698            </td> <td>1980             </td> <td>186.8           </td> <td>3814            </td> <td>TPOP1Ad0408.pdf</td>\n",
       "        </tr>\n",
       "        <tr>\n",
       "            <td>2004</td> <td>9    </td> <td>VALLEY SP (FEMALE)</td> <td>3725             </td> <td>10          </td> <td>3735            </td> <td>1980             </td> <td>188.6           </td> <td>3814            </td> <td>TPOP1Ad0409.pdf</td>\n",
       "        </tr>\n",
       "        <tr>\n",
       "            <td>2004</td> <td>10   </td> <td>VALLEY SP (FEMALE)</td> <td>3729             </td> <td>12          </td> <td>3741            </td> <td>1980             </td> <td>188.9           </td> <td>3814            </td> <td>TPOP1Ad0410.pdf</td>\n",
       "        </tr>\n",
       "        <tr>\n",
       "            <td>2004</td> <td>11   </td> <td>VALLEY SP (FEMALE)</td> <td>3675             </td> <td>10          </td> <td>3685            </td> <td>1980             </td> <td>186.1           </td> <td>3814            </td> <td>TPOP1Ad0411.pdf</td>\n",
       "        </tr>\n",
       "        <tr>\n",
       "            <td>2004</td> <td>12   </td> <td>VALLEY SP (FEMALE)</td> <td>3696             </td> <td>16          </td> <td>3712            </td> <td>1980             </td> <td>187.5           </td> <td>3814            </td> <td>TPOP1Ad0412.pdf</td>\n",
       "        </tr>\n",
       "        <tr>\n",
       "            <td>2005</td> <td>1    </td> <td>VALLEY SP (FEMALE)</td> <td>3649             </td> <td>37          </td> <td>3686            </td> <td>1980             </td> <td>186.2           </td> <td>3686            </td> <td>TPOP1Ad0501.pdf</td>\n",
       "        </tr>\n",
       "        <tr>\n",
       "            <td>2005</td> <td>2    </td> <td>VALLEY SP (FEMALE)</td> <td>3589             </td> <td>21          </td> <td>3610            </td> <td>1980             </td> <td>182.3           </td> <td>3686            </td> <td>TPOP1Ad0502.pdf</td>\n",
       "        </tr>\n",
       "        <tr>\n",
       "            <td>2005</td> <td>3    </td> <td>VALLEY SP (FEMALE)</td> <td>3656             </td> <td>9           </td> <td>3665            </td> <td>1980             </td> <td>185.1           </td> <td>3686            </td> <td>TPOP1Ad0503.pdf</td>\n",
       "        </tr>\n",
       "        <tr>\n",
       "            <td>2005</td> <td>4    </td> <td>VALLEY SP (FEMALE)</td> <td>3670             </td> <td>18          </td> <td>3688            </td> <td>1980             </td> <td>186.3           </td> <td>3686            </td> <td>TPOP1Ad0504.pdf</td>\n",
       "        </tr>\n",
       "        <tr>\n",
       "            <td>2005</td> <td>5    </td> <td>VALLEY SP (FEMALE)</td> <td>3679             </td> <td>15          </td> <td>3694            </td> <td>1980             </td> <td>186.6           </td> <td>3686            </td> <td>TPOP1Ad0505.pdf</td>\n",
       "        </tr>\n",
       "        <tr>\n",
       "            <td>2005</td> <td>6    </td> <td>VALLEY SP (FEMALE)</td> <td>3672             </td> <td>12          </td> <td>3684            </td> <td>1980             </td> <td>186.1           </td> <td>3686            </td> <td>TPOP1Ad0506.pdf</td>\n",
       "        </tr>\n",
       "        <tr>\n",
       "            <td>2005</td> <td>7    </td> <td>VALLEY SP (FEMALE)</td> <td>3644             </td> <td>19          </td> <td>3663            </td> <td>1980             </td> <td>185             </td> <td>3686            </td> <td>TPOP1Ad0507.pdf</td>\n",
       "        </tr>\n",
       "        <tr>\n",
       "            <td>2005</td> <td>8    </td> <td>VALLEY SP (FEMALE)</td> <td>3852             </td> <td>20          </td> <td>3872            </td> <td>1980             </td> <td>195.6           </td> <td>3686            </td> <td>TPOP1Ad0508.pdf</td>\n",
       "        </tr>\n",
       "        <tr>\n",
       "            <td>2005</td> <td>9    </td> <td>VALLEY SP (FEMALE)</td> <td>3836             </td> <td>19          </td> <td>3855            </td> <td>1980             </td> <td>194.7           </td> <td>3686            </td> <td>TPOP1Ad0509.pdf</td>\n",
       "        </tr>\n",
       "        <tr>\n",
       "            <td>2005</td> <td>10   </td> <td>VALLEY SP (FEMALE)</td> <td>3893             </td> <td>17          </td> <td>3910            </td> <td>1980             </td> <td>197.5           </td> <td>3686            </td> <td>TPOP1Ad0510.pdf</td>\n",
       "        </tr>\n",
       "        <tr>\n",
       "            <td>2005</td> <td>11   </td> <td>VALLEY SP (FEMALE)</td> <td>3822             </td> <td>21          </td> <td>3843            </td> <td>2015             </td> <td>190.7           </td> <td>3686            </td> <td>TPOP1Ad0511.pdf</td>\n",
       "        </tr>\n",
       "        <tr>\n",
       "            <td>2005</td> <td>12   </td> <td>VALLEY SP (FEMALE)</td> <td>3801             </td> <td>25          </td> <td>3826            </td> <td>2015             </td> <td>189.9           </td> <td>3686            </td> <td>TPOP1Ad0512.pdf</td>\n",
       "        </tr>\n",
       "        <tr>\n",
       "            <td>2006</td> <td>1    </td> <td>VALLEY SP (FEMALE)</td> <td>3781             </td> <td>22          </td> <td>3803            </td> <td>2015             </td> <td>188.7           </td> <td>3686            </td> <td>TPOP1Ad0601.pdf</td>\n",
       "        </tr>\n",
       "        <tr>\n",
       "            <td>2006</td> <td>2    </td> <td>VALLEY SP (FEMALE)</td> <td>3842             </td> <td>20          </td> <td>3862            </td> <td>2015             </td> <td>191.7           </td> <td>3686            </td> <td>TPOP1Ad0602.pdf</td>\n",
       "        </tr>\n",
       "        <tr>\n",
       "            <td>2006</td> <td>3    </td> <td>VALLEY SP (FEMALE)</td> <td>3901             </td> <td>17          </td> <td>3918            </td> <td>2015             </td> <td>194.4           </td> <td>3686            </td> <td>TPOP1Ad0603.pdf</td>\n",
       "        </tr>\n",
       "        <tr>\n",
       "            <td>2006</td> <td>4    </td> <td>VALLEY SP (FEMALE)</td> <td>3877             </td> <td>15          </td> <td>3892            </td> <td>2015             </td> <td>193.2           </td> <td>3686            </td> <td>TPOP1Ad0604.pdf</td>\n",
       "        </tr>\n",
       "        <tr>\n",
       "            <td>2006</td> <td>5    </td> <td>VALLEY SP (FEMALE)</td> <td>3803             </td> <td>26          </td> <td>3829            </td> <td>2015             </td> <td>190             </td> <td>3686            </td> <td>TPOP1Ad0605.pdf</td>\n",
       "        </tr>\n",
       "        <tr>\n",
       "            <td>2006</td> <td>6    </td> <td>VALLEY SP (FEMALE)</td> <td>3821             </td> <td>25          </td> <td>3846            </td> <td>2015             </td> <td>190.9           </td> <td>3686            </td> <td>TPOP1Ad0606.pdf</td>\n",
       "        </tr>\n",
       "        <tr>\n",
       "            <td>2006</td> <td>7    </td> <td>VALLEY SP (FEMALE)</td> <td>3809             </td> <td>29          </td> <td>3838            </td> <td>2015             </td> <td>190.5           </td> <td>3686            </td> <td>TPOP1Ad0607.pdf</td>\n",
       "        </tr>\n",
       "        <tr>\n",
       "            <td>2006</td> <td>8    </td> <td>VALLEY SP (FEMALE)</td> <td>3789             </td> <td>11          </td> <td>3800            </td> <td>2015             </td> <td>188.6           </td> <td>3686            </td> <td>TPOP1Ad0608.pdf</td>\n",
       "        </tr>\n",
       "        <tr>\n",
       "            <td>2006</td> <td>9    </td> <td>VALLEY SP (FEMALE)</td> <td>3842             </td> <td>16          </td> <td>3858            </td> <td>2015             </td> <td>191.5           </td> <td>3686            </td> <td>TPOP1Ad0609.pdf</td>\n",
       "        </tr>\n",
       "        <tr>\n",
       "            <td>2006</td> <td>10   </td> <td>VALLEY SP (FEMALE)</td> <td>3865             </td> <td>13          </td> <td>3878            </td> <td>1980             </td> <td>195.9           </td> <td>3902            </td> <td>TPOP1Ad0610.pdf</td>\n",
       "        </tr>\n",
       "        <tr>\n",
       "            <td>2006</td> <td>11   </td> <td>VALLEY SP (FEMALE)</td> <td>3817             </td> <td>8           </td> <td>3825            </td> <td>1980             </td> <td>193.2           </td> <td>3902            </td> <td>TPOP1Ad0611.pdf</td>\n",
       "        </tr>\n",
       "        <tr>\n",
       "            <td>2006</td> <td>12   </td> <td>VALLEY SP (FEMALE)</td> <td>3840             </td> <td>8           </td> <td>3848            </td> <td>1980             </td> <td>194.3           </td> <td>3902            </td> <td>TPOP1Ad0612.pdf</td>\n",
       "        </tr>\n",
       "        <tr>\n",
       "            <td>2007</td> <td>1    </td> <td>VALLEY SP (FEMALE)</td> <td>3788             </td> <td>9           </td> <td>3797            </td> <td>1980             </td> <td>191.8           </td> <td>3902            </td> <td>TPOP1Ad0701.pdf</td>\n",
       "        </tr>\n",
       "        <tr>\n",
       "            <td>2007</td> <td>2    </td> <td>VALLEY SP (FEMALE)</td> <td>3882             </td> <td>16          </td> <td>3898            </td> <td>1980             </td> <td>196.9           </td> <td>3902            </td> <td>TPOP1Ad0702.pdf</td>\n",
       "        </tr>\n",
       "        <tr>\n",
       "            <td>2007</td> <td>3    </td> <td>VALLEY SP (FEMALE)</td> <td>3849             </td> <td>22          </td> <td>3871            </td> <td>1980             </td> <td>195.5           </td> <td>3902            </td> <td>TPOP1Ad0703.pdf</td>\n",
       "        </tr>\n",
       "        <tr>\n",
       "            <td>2007</td> <td>4    </td> <td>VALLEY SP (FEMALE)</td> <td>3856             </td> <td>13          </td> <td>3869            </td> <td>1980             </td> <td>195.4           </td> <td>3902            </td> <td>TPOP1Ad0704.pdf</td>\n",
       "        </tr>\n",
       "        <tr>\n",
       "            <td>2007</td> <td>5    </td> <td>VALLEY SP (FEMALE)</td> <td>4167             </td> <td>11          </td> <td>4178            </td> <td>1980             </td> <td>211             </td> <td>3902            </td> <td>TPOP1Ad0705.pdf</td>\n",
       "        </tr>\n",
       "        <tr>\n",
       "            <td>2007</td> <td>6    </td> <td>VALLEY SP (FEMALE)</td> <td>4266             </td> <td>15          </td> <td>4281            </td> <td>1980             </td> <td>216.2           </td> <td>3902            </td> <td>TPOP1Ad0706.pdf</td>\n",
       "        </tr>\n",
       "        <tr>\n",
       "            <td>2007</td> <td>7    </td> <td>VALLEY SP (FEMALE)</td> <td>4312             </td> <td>10          </td> <td>4322            </td> <td>1980             </td> <td>218.3           </td> <td>3902            </td> <td>TPOP1Ad0707.pdf</td>\n",
       "        </tr>\n",
       "        <tr>\n",
       "            <td>2007</td> <td>8    </td> <td>VALLEY SP (FEMALE)</td> <td>4245             </td> <td>4           </td> <td>4249            </td> <td>1980             </td> <td>214.6           </td> <td>3902            </td> <td>TPOP1Ad0708.pdf</td>\n",
       "        </tr>\n",
       "        <tr>\n",
       "            <td>2007</td> <td>9    </td> <td>VALLEY SP (FEMALE)</td> <td>4244             </td> <td>8           </td> <td>4252            </td> <td>1980             </td> <td>214.7           </td> <td>4238            </td> <td>TPOP1Ad0709.pdf</td>\n",
       "        </tr>\n",
       "        <tr>\n",
       "            <td>2007</td> <td>10   </td> <td>VALLEY SP (FEMALE)</td> <td>4175             </td> <td>5           </td> <td>4180            </td> <td>1980             </td> <td>211.1           </td> <td>4238            </td> <td>TPOP1Ad0710.pdf</td>\n",
       "        </tr>\n",
       "        <tr>\n",
       "            <td>2007</td> <td>11   </td> <td>VALLEY SP (FEMALE)</td> <td>4149             </td> <td>3           </td> <td>4152            </td> <td>1980             </td> <td>209.7           </td> <td>4238            </td> <td>TPOP1Ad0711.pdf</td>\n",
       "        </tr>\n",
       "        <tr>\n",
       "            <td>2007</td> <td>12   </td> <td>VALLEY SP (FEMALE)</td> <td>4052             </td> <td>11          </td> <td>4063            </td> <td>1980             </td> <td>205.2           </td> <td>4238            </td> <td>TPOP1Ad0712.pdf</td>\n",
       "        </tr>\n",
       "        <tr>\n",
       "            <td>2008</td> <td>1    </td> <td>VALLEY SP (FEMALE)</td> <td>4032             </td> <td>7           </td> <td>4039            </td> <td>1980             </td> <td>204             </td> <td>4158            </td> <td>TPOP1Ad0801.pdf</td>\n",
       "        </tr>\n",
       "        <tr>\n",
       "            <td>2008</td> <td>2    </td> <td>VALLEY SP (FEMALE)</td> <td>3920             </td> <td>9           </td> <td>3929            </td> <td>1980             </td> <td>198.4           </td> <td>4158            </td> <td>TPOP1Ad0802.pdf</td>\n",
       "        </tr>\n",
       "        <tr>\n",
       "            <td>2008</td> <td>3    </td> <td>VALLEY SP (FEMALE)</td> <td>3918             </td> <td>15          </td> <td>3933            </td> <td>1980             </td> <td>198.6           </td> <td>4158            </td> <td>TPOP1Ad0803.pdf</td>\n",
       "        </tr>\n",
       "        <tr>\n",
       "            <td>2008</td> <td>4    </td> <td>VALLEY SP (FEMALE)</td> <td>3891             </td> <td>0           </td> <td>3891            </td> <td>1980             </td> <td>196.5           </td> <td>4158            </td> <td>TPOP1Ad0804.pdf</td>\n",
       "        </tr>\n",
       "        <tr>\n",
       "            <td>2008</td> <td>5    </td> <td>VALLEY SP (FEMALE)</td> <td>3897             </td> <td>8           </td> <td>3905            </td> <td>1980             </td> <td>197.2           </td> <td>4158            </td> <td>TPOP1Ad0805.pdf</td>\n",
       "        </tr>\n",
       "        <tr>\n",
       "            <td>2008</td> <td>6    </td> <td>VALLEY SP (FEMALE)</td> <td>3911             </td> <td>12          </td> <td>3923            </td> <td>1980             </td> <td>198.1           </td> <td>4158            </td> <td>TPOP1Ad0806.pdf</td>\n",
       "        </tr>\n",
       "        <tr>\n",
       "            <td>2008</td> <td>7    </td> <td>VALLEY SP (FEMALE)</td> <td>4027             </td> <td>10          </td> <td>4037            </td> <td>1980             </td> <td>203.9           </td> <td>4158            </td> <td>TPOP1Ad0807.pdf</td>\n",
       "        </tr>\n",
       "        <tr>\n",
       "            <td>2008</td> <td>8    </td> <td>VALLEY SP (FEMALE)</td> <td>4060             </td> <td>15          </td> <td>4075            </td> <td>1980             </td> <td>205.8           </td> <td>4158            </td> <td>TPOP1Ad0808.pdf</td>\n",
       "        </tr>\n",
       "        <tr>\n",
       "            <td>2008</td> <td>9    </td> <td>VALLEY SP (FEMALE)</td> <td>4061             </td> <td>10          </td> <td>4071            </td> <td>1980             </td> <td>205.6           </td> <td>4158            </td> <td>TPOP1Ad0809.pdf</td>\n",
       "        </tr>\n",
       "        <tr>\n",
       "            <td>2008</td> <td>10   </td> <td>VALLEY SP (FEMALE)</td> <td>4097             </td> <td>10          </td> <td>4107            </td> <td>1980             </td> <td>207.4           </td> <td>4118            </td> <td>TPOP1Ad0810.pdf</td>\n",
       "        </tr>\n",
       "        <tr>\n",
       "            <td>2008</td> <td>11   </td> <td>VALLEY SP (FEMALE)</td> <td>4103             </td> <td>4           </td> <td>4107            </td> <td>1980             </td> <td>207.4           </td> <td>4118            </td> <td>TPOP1Ad0811.pdf</td>\n",
       "        </tr>\n",
       "        <tr>\n",
       "            <td>2008</td> <td>12   </td> <td>VALLEY SP (FEMALE)</td> <td>4050             </td> <td>8           </td> <td>4058            </td> <td>1980             </td> <td>204.9           </td> <td>4158            </td> <td>TPOP1Ad0812.pdf</td>\n",
       "        </tr>\n",
       "        <tr>\n",
       "            <td>2009</td> <td>1    </td> <td>VALLEY SP (FEMALE)</td> <td>4052             </td> <td>9           </td> <td>4061            </td> <td>1980             </td> <td>205.1           </td> <td>4158            </td> <td>TPOP1Ad0901.pdf</td>\n",
       "        </tr>\n",
       "        <tr>\n",
       "            <td>2009</td> <td>2    </td> <td>VALLEY SP (FEMALE)</td> <td>3931             </td> <td>11          </td> <td>3942            </td> <td>1860             </td> <td>211.9           </td> <td>4158            </td> <td>TPOP1Ad0902.pdf</td>\n",
       "        </tr>\n",
       "        <tr>\n",
       "            <td>2009</td> <td>3    </td> <td>VALLEY SP (FEMALE)</td> <td>3915             </td> <td>10          </td> <td>3925            </td> <td>1860             </td> <td>211             </td> <td>4158            </td> <td>TPOP1Ad0903.pdf</td>\n",
       "        </tr>\n",
       "        <tr>\n",
       "            <td>2009</td> <td>4    </td> <td>VALLEY SP (FEMALE)</td> <td>3864             </td> <td>13          </td> <td>3877            </td> <td>1980             </td> <td>195.8           </td> <td>3958            </td> <td>TPOP1Ad0904.pdf</td>\n",
       "        </tr>\n",
       "        <tr>\n",
       "            <td>2009</td> <td>5    </td> <td>VALLEY SP (FEMALE)</td> <td>3836             </td> <td>8           </td> <td>3844            </td> <td>1980             </td> <td>194.1           </td> <td>3958            </td> <td>TPOP1Ad0905.pdf</td>\n",
       "        </tr>\n",
       "        <tr>\n",
       "            <td>2009</td> <td>6    </td> <td>VALLEY SP (FEMALE)</td> <td>3837             </td> <td>15          </td> <td>3852            </td> <td>1980             </td> <td>194.5           </td> <td>3958            </td> <td>TPOP1Ad0906.pdf</td>\n",
       "        </tr>\n",
       "        <tr>\n",
       "            <td>2009</td> <td>7    </td> <td>VALLEY SP (FEMALE)</td> <td>3854             </td> <td>13          </td> <td>3867            </td> <td>1980             </td> <td>195.3           </td> <td>3958            </td> <td>TPOP1Ad0907.pdf</td>\n",
       "        </tr>\n",
       "        <tr>\n",
       "            <td>2009</td> <td>8    </td> <td>VALLEY SP (FEMALE)</td> <td>3811             </td> <td>18          </td> <td>3829            </td> <td>1980             </td> <td>193.4           </td> <td>3902            </td> <td>TPOP1Ad0908.pdf</td>\n",
       "        </tr>\n",
       "        <tr>\n",
       "            <td>2009</td> <td>9    </td> <td>VALLEY SP (FEMALE)</td> <td>3839             </td> <td>25          </td> <td>3864            </td> <td>1980             </td> <td>195.2           </td> <td>3902            </td> <td>TPOP1Ad0909.pdf</td>\n",
       "        </tr>\n",
       "        <tr>\n",
       "            <td>2009</td> <td>10   </td> <td>VALLEY SP (FEMALE)</td> <td>3786             </td> <td>16          </td> <td>3802            </td> <td>1980             </td> <td>192             </td> <td>3902            </td> <td>TPOP1Ad0910.pdf</td>\n",
       "        </tr>\n",
       "        <tr>\n",
       "            <td>2009</td> <td>11   </td> <td>VALLEY SP (FEMALE)</td> <td>3781             </td> <td>17          </td> <td>3798            </td> <td>1980             </td> <td>191.8           </td> <td>3902            </td> <td>TPOP1Ad0911.pdf</td>\n",
       "        </tr>\n",
       "        <tr>\n",
       "            <td>2009</td> <td>12   </td> <td>VALLEY SP (FEMALE)</td> <td>3809             </td> <td>12          </td> <td>3821            </td> <td>1980             </td> <td>193             </td> <td>3902            </td> <td>TPOP1Ad0912.pdf</td>\n",
       "        </tr>\n",
       "        <tr>\n",
       "            <td>2010</td> <td>1    </td> <td>VALLEY SP (FEMALE)</td> <td>3681             </td> <td>12          </td> <td>3693            </td> <td>1980             </td> <td>186.5           </td> <td>3866            </td> <td>TPOP1Ad1001.pdf</td>\n",
       "        </tr>\n",
       "        <tr>\n",
       "            <td>2010</td> <td>2    </td> <td>VALLEY SP (FEMALE)</td> <td>3577             </td> <td>9           </td> <td>3586            </td> <td>1980             </td> <td>181.1           </td> <td>3764            </td> <td>TPOP1Ad1002.pdf</td>\n",
       "        </tr>\n",
       "        <tr>\n",
       "            <td>2010</td> <td>3    </td> <td>VALLEY SP (FEMALE)</td> <td>3544             </td> <td>17          </td> <td>3561            </td> <td>1980             </td> <td>179.8           </td> <td>3687            </td> <td>TPOP1Ad1003.pdf</td>\n",
       "        </tr>\n",
       "        <tr>\n",
       "            <td>2010</td> <td>4    </td> <td>VALLEY SP (FEMALE)</td> <td>3492             </td> <td>9           </td> <td>3501            </td> <td>1980             </td> <td>176.8           </td> <td>3687            </td> <td>TPOP1Ad1004.pdf</td>\n",
       "        </tr>\n",
       "        <tr>\n",
       "            <td>2010</td> <td>5    </td> <td>VALLEY SP (FEMALE)</td> <td>3450             </td> <td>9           </td> <td>3459            </td> <td>1980             </td> <td>174.7           </td> <td>3559            </td> <td>TPOP1Ad1005.pdf</td>\n",
       "        </tr>\n",
       "        <tr>\n",
       "            <td>2010</td> <td>6    </td> <td>VALLEY SP (FEMALE)</td> <td>3398             </td> <td>7           </td> <td>3405            </td> <td>1980             </td> <td>172             </td> <td>3486            </td> <td>TPOP1Ad1006.pdf</td>\n",
       "        </tr>\n",
       "        <tr>\n",
       "            <td>2010</td> <td>7    </td> <td>VALLEY SP (FEMALE)</td> <td>3376             </td> <td>11          </td> <td>3387            </td> <td>1980             </td> <td>171.1           </td> <td>3486            </td> <td>TPOP1Ad1007.pdf</td>\n",
       "        </tr>\n",
       "        <tr>\n",
       "            <td>2010</td> <td>8    </td> <td>VALLEY SP (FEMALE)</td> <td>3381             </td> <td>10          </td> <td>3391            </td> <td>1980             </td> <td>171.3           </td> <td>3486            </td> <td>TPOP1Ad1008.pdf</td>\n",
       "        </tr>\n",
       "        <tr>\n",
       "            <td>2010</td> <td>9    </td> <td>VALLEY SP (FEMALE)</td> <td>3393             </td> <td>6           </td> <td>3399            </td> <td>1980             </td> <td>171.7           </td> <td>3486            </td> <td>TPOP1Ad1009.pdf</td>\n",
       "        </tr>\n",
       "        <tr>\n",
       "            <td>2010</td> <td>10   </td> <td>VALLEY SP (FEMALE)</td> <td>3463             </td> <td>6           </td> <td>3469            </td> <td>1980             </td> <td>175.2           </td> <td>3486            </td> <td>TPOP1Ad1010.pdf</td>\n",
       "        </tr>\n",
       "        <tr>\n",
       "            <td>2010</td> <td>11   </td> <td>VALLEY SP (FEMALE)</td> <td>3473             </td> <td>10          </td> <td>3483            </td> <td>1980             </td> <td>175.9           </td> <td>3486            </td> <td>TPOP1Ad1011.pdf</td>\n",
       "        </tr>\n",
       "        <tr>\n",
       "            <td>2010</td> <td>12   </td> <td>VALLEY SP (FEMALE)</td> <td>3396             </td> <td>12          </td> <td>3408            </td> <td>1980             </td> <td>172.1           </td> <td>3486            </td> <td>TPOP1Ad1012.pdf</td>\n",
       "        </tr>\n",
       "        <tr>\n",
       "            <td>2011</td> <td>1    </td> <td>VALLEY SP (FEMALE)</td> <td>3370             </td> <td>11          </td> <td>3381            </td> <td>1980             </td> <td>170.8           </td> <td>3306            </td> <td>TPOP1Ad1101.pdf</td>\n",
       "        </tr>\n",
       "        <tr>\n",
       "            <td>2011</td> <td>2    </td> <td>VALLEY SP (FEMALE)</td> <td>3322             </td> <td>3           </td> <td>3325            </td> <td>1980             </td> <td>167.9           </td> <td>3306            </td> <td>TPOP1Ad1102.pdf</td>\n",
       "        </tr>\n",
       "        <tr>\n",
       "            <td>2011</td> <td>3    </td> <td>VALLEY SP (FEMALE)</td> <td>3237             </td> <td>2           </td> <td>3239            </td> <td>1980             </td> <td>163.6           </td> <td>3306            </td> <td>TPOP1Ad1103.pdf</td>\n",
       "        </tr>\n",
       "        <tr>\n",
       "            <td>2011</td> <td>4    </td> <td>VALLEY SP (FEMALE)</td> <td>3210             </td> <td>6           </td> <td>3216            </td> <td>1980             </td> <td>162.4           </td> <td>3306            </td> <td>TPOP1Ad1104.pdf</td>\n",
       "        </tr>\n",
       "        <tr>\n",
       "            <td>2011</td> <td>5    </td> <td>VALLEY SP (FEMALE)</td> <td>3263             </td> <td>8           </td> <td>3271            </td> <td>1980             </td> <td>165.2           </td> <td>3306            </td> <td>TPOP1Ad1105.pdf</td>\n",
       "        </tr>\n",
       "        <tr>\n",
       "            <td>2011</td> <td>6    </td> <td>VALLEY SP (FEMALE)</td> <td>3305             </td> <td>10          </td> <td>3315            </td> <td>1980             </td> <td>167.4           </td> <td>3306            </td> <td>TPOP1Ad1106.pdf</td>\n",
       "        </tr>\n",
       "        <tr>\n",
       "            <td>2011</td> <td>7    </td> <td>VALLEY SP (FEMALE)</td> <td>3316             </td> <td>6           </td> <td>3322            </td> <td>1936             </td> <td>171.6           </td> <td>3244            </td> <td>TPOP1Ad1107.pdf</td>\n",
       "        </tr>\n",
       "        <tr>\n",
       "            <td>2011</td> <td>8    </td> <td>VALLEY SP (FEMALE)</td> <td>3457             </td> <td>9           </td> <td>3466            </td> <td>1980             </td> <td>175.1           </td> <td>3244            </td> <td>TPOP1Ad1108.pdf</td>\n",
       "        </tr>\n",
       "        <tr>\n",
       "            <td>2011</td> <td>9    </td> <td>VALLEY SP (FEMALE)</td> <td>3491             </td> <td>5           </td> <td>3496            </td> <td>1980             </td> <td>176.6           </td> <td>3321            </td> <td>TPOP1Ad1109.pdf</td>\n",
       "        </tr>\n",
       "        <tr>\n",
       "            <td>2011</td> <td>10   </td> <td>VALLEY SP (FEMALE)</td> <td>3411             </td> <td>8           </td> <td>3419            </td> <td>1980             </td> <td>172.7           </td> <td>3272            </td> <td>TPOP1Ad1110.pdf</td>\n",
       "        </tr>\n",
       "        <tr>\n",
       "            <td>2011</td> <td>11   </td> <td>VALLEY SP (FEMALE)</td> <td>3135             </td> <td>3           </td> <td>3138            </td> <td>1980             </td> <td>158.5           </td> <td>3077            </td> <td>TPOP1Ad1111.pdf</td>\n",
       "        </tr>\n",
       "        <tr>\n",
       "            <td>2011</td> <td>12   </td> <td>VALLEY SP (FEMALE)</td> <td>2749             </td> <td>1           </td> <td>2750            </td> <td>1980             </td> <td>138.9           </td> <td>2899            </td> <td>TPOP1Ad1112.pdf</td>\n",
       "        </tr>\n",
       "        <tr>\n",
       "            <td>2012</td> <td>1    </td> <td>VALLEY SP (FEMALE)</td> <td>2650             </td> <td>0           </td> <td>2650            </td> <td>1980             </td> <td>133.8           </td> <td>2899            </td> <td>TPOP1Ad1201.pdf</td>\n",
       "        </tr>\n",
       "        <tr>\n",
       "            <td>2012</td> <td>2    </td> <td>VALLEY SP (FEMALE)</td> <td>2550             </td> <td>0           </td> <td>2550            </td> <td>1980             </td> <td>128.8           </td> <td>2701            </td> <td>TPOP1Ad1202.pdf</td>\n",
       "        </tr>\n",
       "        <tr>\n",
       "            <td>2012</td> <td>3    </td> <td>VALLEY SP (FEMALE)</td> <td>2432             </td> <td>0           </td> <td>2432            </td> <td>1980             </td> <td>122.8           </td> <td>2497            </td> <td>TPOP1Ad1203.pdf</td>\n",
       "        </tr>\n",
       "        <tr>\n",
       "            <td>2012</td> <td>4    </td> <td>VALLEY SP (FEMALE)</td> <td>2296             </td> <td>0           </td> <td>2296            </td> <td>1980             </td> <td>116             </td> <td>2305            </td> <td>TPOP1Ad1204.pdf</td>\n",
       "        </tr>\n",
       "        <tr>\n",
       "            <td>2012</td> <td>5    </td> <td>VALLEY SP (FEMALE)</td> <td>2209             </td> <td>0           </td> <td>2209            </td> <td>1980             </td> <td>111.6           </td> <td>2305            </td> <td>TPOP1Ad1205.pdf</td>\n",
       "        </tr>\n",
       "        <tr>\n",
       "            <td>2012</td> <td>6    </td> <td>VALLEY SP (FEMALE)</td> <td>2142             </td> <td>0           </td> <td>2142            </td> <td>1980             </td> <td>108.2           </td> <td>2305            </td> <td>TPOP1Ad1206.pdf</td>\n",
       "        </tr>\n",
       "        <tr>\n",
       "            <td>2012</td> <td>7    </td> <td>VALLEY SP (FEMALE)</td> <td>1995             </td> <td>0           </td> <td>1995            </td> <td>1980             </td> <td>100.8           </td> <td>2101            </td> <td>TPOP1Ad1207.pdf</td>\n",
       "        </tr>\n",
       "        <tr>\n",
       "            <td>2012</td> <td>8    </td> <td>VALLEY SP (FEMALE)</td> <td>1866             </td> <td>0           </td> <td>1866            </td> <td>1980             </td> <td>94.2            </td> <td>2009            </td> <td>TPOP1Ad1208.pdf</td>\n",
       "        </tr>\n",
       "        <tr>\n",
       "            <td>2012</td> <td>9    </td> <td>VALLEY SP (FEMALE)</td> <td>1721             </td> <td>0           </td> <td>1721            </td> <td>1980             </td> <td>86.9            </td> <td>1692            </td> <td>TPOP1Ad1209.pdf</td>\n",
       "        </tr>\n",
       "        <tr>\n",
       "            <td>2012</td> <td>10   </td> <td>VALLEY SP (FEMALE)</td> <td>1171             </td> <td>0           </td> <td>1171            </td> <td>1536             </td> <td>76.2            </td> <td>1248            </td> <td>TPOP1Ad1210.pdf</td>\n",
       "        </tr>\n",
       "        <tr>\n",
       "            <td>2012</td> <td>10   </td> <td>VALLEY SP (FEMALE)</td> <td>445              </td> <td>0           </td> <td>445             </td> <td>444              </td> <td>100.2           </td> <td>488             </td> <td>TPOP1Ad1210.pdf</td>\n",
       "        </tr>\n",
       "        <tr>\n",
       "            <td>2012</td> <td>11   </td> <td>VALLEY SP (MALE)  </td> <td>720              </td> <td>0           </td> <td>720             </td> <td>1536             </td> <td>46.9            </td> <td>1020            </td> <td>TPOP1Ad1211.pdf</td>\n",
       "        </tr>\n",
       "        <tr>\n",
       "            <td>2012</td> <td>11   </td> <td>VALLEY SP (MALE)  </td> <td>937              </td> <td>0           </td> <td>937             </td> <td>444              </td> <td>211             </td> <td>632             </td> <td>TPOP1Ad1211.pdf</td>\n",
       "        </tr>\n",
       "        <tr>\n",
       "            <td>2012</td> <td>12   </td> <td>VALLEY SP (MALE)  </td> <td>274              </td> <td>0           </td> <td>274             </td> <td>1536             </td> <td>17.8            </td> <td>650             </td> <td>TPOP1Ad1212.pdf</td>\n",
       "        </tr>\n",
       "        <tr>\n",
       "            <td>2012</td> <td>12   </td> <td>VALLEY SP (MALE)  </td> <td>1353             </td> <td>0           </td> <td>1353            </td> <td>444              </td> <td>304.7           </td> <td>1032            </td> <td>TPOP1Ad1212.pdf</td>\n",
       "        </tr>\n",
       "        <tr>\n",
       "            <td>2013</td> <td>1    </td> <td>VALLEY SP (MALE)  </td> <td>1936             </td> <td>0           </td> <td>1936            </td> <td>1980             </td> <td>97.8            </td> <td>1932            </td> <td>TPOP1Ad1301.pdf</td>\n",
       "        </tr>\n",
       "        <tr>\n",
       "            <td>2013</td> <td>2    </td> <td>VALLEY SP (MALE)  </td> <td>2429             </td> <td>0           </td> <td>2429            </td> <td>1980             </td> <td>122.7           </td> <td>2332            </td> <td>TPOP1Ad1302.pdf</td>\n",
       "        </tr>\n",
       "        <tr>\n",
       "            <td>2013</td> <td>3    </td> <td>VALLEY SP (MALE)  </td> <td>2842             </td> <td>0           </td> <td>2842            </td> <td>1980             </td> <td>143.5           </td> <td>2332            </td> <td>TPOP1Ad1303.pdf</td>\n",
       "        </tr>\n",
       "        <tr>\n",
       "            <td>2013</td> <td>4    </td> <td>VALLEY SP (MALE)  </td> <td>3103             </td> <td>0           </td> <td>3103            </td> <td>1980             </td> <td>156.7           </td> <td>2970            </td> <td>TPOP1Ad1304.pdf</td>\n",
       "        </tr>\n",
       "        <tr>\n",
       "            <td>2013</td> <td>5    </td> <td>VALLEY SP (MALE)  </td> <td>3195             </td> <td>0           </td> <td>3195            </td> <td>1980             </td> <td>161.4           </td> <td>2970            </td> <td>TPOP1Ad1305.pdf</td>\n",
       "        </tr>\n",
       "        <tr>\n",
       "            <td>2013</td> <td>6    </td> <td>VALLEY SP (MALE)  </td> <td>3166             </td> <td>0           </td> <td>3166            </td> <td>1980             </td> <td>159.9           </td> <td>2970            </td> <td>TPOP1Ad1306.pdf</td>\n",
       "        </tr>\n",
       "        <tr>\n",
       "            <td>2013</td> <td>7    </td> <td>VALLEY SP (MALE)  </td> <td>3105             </td> <td>0           </td> <td>3105            </td> <td>1980             </td> <td>156.8           </td> <td>2970            </td> <td>TPOP1Ad1307.pdf</td>\n",
       "        </tr>\n",
       "        <tr>\n",
       "            <td>2013</td> <td>8    </td> <td>VALLEY SP (MALE)  </td> <td>3157             </td> <td>0           </td> <td>3157            </td> <td>1980             </td> <td>159.4           </td> <td>2970            </td> <td>TPOP1Ad1308.pdf</td>\n",
       "        </tr>\n",
       "        <tr>\n",
       "            <td>2013</td> <td>9    </td> <td>VALLEY SP (MALE)  </td> <td>3258             </td> <td>0           </td> <td>3258            </td> <td>1980             </td> <td>164.5           </td> <td>2948            </td> <td>TPOP1Ad1309.pdf</td>\n",
       "        </tr>\n",
       "        <tr>\n",
       "            <td>2013</td> <td>10   </td> <td>VALLEY SP (MALE)  </td> <td>3290             </td> <td>0           </td> <td>3290            </td> <td>1980             </td> <td>166.2           </td> <td>3389            </td> <td>TPOP1Ad1310.pdf</td>\n",
       "        </tr>\n",
       "        <tr>\n",
       "            <td>2013</td> <td>11   </td> <td>VALLEY SP (MALE)  </td> <td>3297             </td> <td>0           </td> <td>3297            </td> <td>1980             </td> <td>166.5           </td> <td>3389            </td> <td>TPOP1Ad1311.pdf</td>\n",
       "        </tr>\n",
       "        <tr>\n",
       "            <td>2013</td> <td>12   </td> <td>VALLEY SP (MALE)  </td> <td>3292             </td> <td>0           </td> <td>3292            </td> <td>1980             </td> <td>166.3           </td> <td>3389            </td> <td>TPOP1Ad1312.pdf</td>\n",
       "        </tr>\n",
       "        <tr>\n",
       "            <td>2014</td> <td>1    </td> <td>VALLEY SP (MALE)  </td> <td>3257             </td> <td>0           </td> <td>3257            </td> <td>1980             </td> <td>164.5           </td> <td>3389            </td> <td>TPOP1Ad1401.pdf</td>\n",
       "        </tr>\n",
       "        <tr>\n",
       "            <td>2014</td> <td>2    </td> <td>VALLEY SP (MALE)  </td> <td>3236             </td> <td>0           </td> <td>3236            </td> <td>1980             </td> <td>163.4           </td> <td>3389            </td> <td>TPOP1Ad1402.pdf</td>\n",
       "        </tr>\n",
       "        <tr>\n",
       "            <td>2014</td> <td>3    </td> <td>VALLEY SP (MALE)  </td> <td>3177             </td> <td>0           </td> <td>3177            </td> <td>1980             </td> <td>160.5           </td> <td>3389            </td> <td>TPOP1Ad1403.pdf</td>\n",
       "        </tr>\n",
       "        <tr>\n",
       "            <td>2014</td> <td>4    </td> <td>VALLEY SP (MALE)  </td> <td>3243             </td> <td>0           </td> <td>3243            </td> <td>1980             </td> <td>163.8           </td> <td>3390            </td> <td>TPOP1Ad1404.pdf</td>\n",
       "        </tr>\n",
       "        <tr>\n",
       "            <td>2014</td> <td>5    </td> <td>VALLEY SP (MALE)  </td> <td>3277             </td> <td>0           </td> <td>3277            </td> <td>1980             </td> <td>165.5           </td> <td>3390            </td> <td>TPOP1Ad1405.pdf</td>\n",
       "        </tr>\n",
       "        <tr>\n",
       "            <td>2014</td> <td>6    </td> <td>VALLEY SP (MALE)  </td> <td>3252             </td> <td>0           </td> <td>3252            </td> <td>1980             </td> <td>164.2           </td> <td>3390            </td> <td>TPOP1Ad1406.pdf</td>\n",
       "        </tr>\n",
       "        <tr>\n",
       "            <td>2014</td> <td>7    </td> <td>VALLEY SP (MALE)  </td> <td>3287             </td> <td>0           </td> <td>3287            </td> <td>1980             </td> <td>166             </td> <td>3390            </td> <td>TPOP1Ad1407.pdf</td>\n",
       "        </tr>\n",
       "        <tr>\n",
       "            <td>2014</td> <td>8    </td> <td>VALLEY SP (MALE)  </td> <td>3292             </td> <td>0           </td> <td>3292            </td> <td>1980             </td> <td>166.3           </td> <td>3390            </td> <td>TPOP1Ad1408.pdf</td>\n",
       "        </tr>\n",
       "        <tr>\n",
       "            <td>2014</td> <td>9    </td> <td>VALLEY SP (MALE)  </td> <td>3257             </td> <td>0           </td> <td>3257            </td> <td>1980             </td> <td>164.5           </td> <td>3390            </td> <td>TPOP1Ad1409.pdf</td>\n",
       "        </tr>\n",
       "        <tr>\n",
       "            <td>2014</td> <td>10   </td> <td>VALLEY SP (MALE)  </td> <td>3246             </td> <td>0           </td> <td>3246            </td> <td>1980             </td> <td>163.9           </td> <td>3390            </td> <td>TPOP1Ad1410.pdf</td>\n",
       "        </tr>\n",
       "        <tr>\n",
       "            <td>2014</td> <td>11   </td> <td>VALLEY SP (MALE)  </td> <td>3223             </td> <td>0           </td> <td>3223            </td> <td>1980             </td> <td>162.8           </td> <td>3390            </td> <td>TPOP1Ad1411.pdf</td>\n",
       "        </tr>\n",
       "        <tr>\n",
       "            <td>2014</td> <td>12   </td> <td>VALLEY SP (MALE)  </td> <td>3173             </td> <td>0           </td> <td>3173            </td> <td>1980             </td> <td>160.3           </td> <td>3390            </td> <td>TPOP1Ad1412.pdf</td>\n",
       "        </tr>\n",
       "        <tr>\n",
       "            <td>2015</td> <td>1    </td> <td>VALLEY SP (MALE)  </td> <td>3112             </td> <td>0           </td> <td>3112            </td> <td>1980             </td> <td>157.2           </td> <td>3390            </td> <td>TPOP1Ad1501.pdf</td>\n",
       "        </tr>\n",
       "        <tr>\n",
       "            <td>2015</td> <td>2    </td> <td>VALLEY SP (MALE)  </td> <td>3026             </td> <td>0           </td> <td>3026            </td> <td>1980             </td> <td>152.8           </td> <td>3390            </td> <td>TPOP1Ad1502.pdf</td>\n",
       "        </tr>\n",
       "        <tr>\n",
       "            <td>2015</td> <td>3    </td> <td>VALLEY SP (MALE)  </td> <td>3023             </td> <td>0           </td> <td>3023            </td> <td>1980             </td> <td>152.7           </td> <td>3390            </td> <td>TPOP1Ad1503.pdf</td>\n",
       "        </tr>\n",
       "        <tr>\n",
       "            <td>2015</td> <td>4    </td> <td>VALLEY SP (MALE)  </td> <td>3158             </td> <td>0           </td> <td>3158            </td> <td>1980             </td> <td>159.5           </td> <td>3390            </td> <td>TPOP1Ad1504.pdf</td>\n",
       "        </tr>\n",
       "        <tr>\n",
       "            <td>2015</td> <td>5    </td> <td>VALLEY SP (MALE)  </td> <td>3316             </td> <td>0           </td> <td>3316            </td> <td>1980             </td> <td>167.5           </td> <td>3346            </td> <td>TPOP1Ad1505.pdf</td>\n",
       "        </tr>\n",
       "        <tr>\n",
       "            <td>2015</td> <td>6    </td> <td>VALLEY SP (MALE)  </td> <td>3376             </td> <td>0           </td> <td>3376            </td> <td>1980             </td> <td>170.5           </td> <td>3346            </td> <td>TPOP1Ad1506.pdf</td>\n",
       "        </tr>\n",
       "        <tr>\n",
       "            <td>2015</td> <td>7    </td> <td>VALLEY SP (MALE)  </td> <td>3461             </td> <td>0           </td> <td>3461            </td> <td>1980             </td> <td>174.8           </td> <td>3346            </td> <td>TPOP1Ad1507.pdf</td>\n",
       "        </tr>\n",
       "        <tr>\n",
       "            <td>2015</td> <td>8    </td> <td>VALLEY SP (MALE)  </td> <td>3588             </td> <td>0           </td> <td>3588            </td> <td>1980             </td> <td>181.2           </td> <td>3346            </td> <td>TPOP1Ad1508.pdf</td>\n",
       "        </tr>\n",
       "        <tr>\n",
       "            <td>2015</td> <td>9    </td> <td>VALLEY SP (MALE)  </td> <td>3556             </td> <td>0           </td> <td>3556            </td> <td>1980             </td> <td>179.6           </td> <td>3346            </td> <td>TPOP1Ad1509.pdf</td>\n",
       "        </tr>\n",
       "        <tr>\n",
       "            <td>2015</td> <td>10   </td> <td>VALLEY SP (MALE)  </td> <td>3558             </td> <td>0           </td> <td>3558            </td> <td>1980             </td> <td>179.7           </td> <td>3346            </td> <td>TPOP1Ad1510.pdf</td>\n",
       "        </tr>\n",
       "        <tr>\n",
       "            <td>2015</td> <td>11   </td> <td>VALLEY SP (MALE)  </td> <td>3556             </td> <td>0           </td> <td>3556            </td> <td>1980             </td> <td>179.6           </td> <td>3346            </td> <td>TPOP1Ad1511.pdf</td>\n",
       "        </tr>\n",
       "        <tr>\n",
       "            <td>2015</td> <td>12   </td> <td>VALLEY SP (MALE)  </td> <td>3494             </td> <td>0           </td> <td>3494            </td> <td>1980             </td> <td>176.5           </td> <td>3346            </td> <td>TPOP1Ad1512.pdf</td>\n",
       "        </tr>\n",
       "        <tr>\n",
       "            <td>2016</td> <td>1    </td> <td>VALLEY SP (MALE)  </td> <td>3386             </td> <td>0           </td> <td>3386            </td> <td>1980             </td> <td>171             </td> <td>3346            </td> <td>TPOP1Ad1601.pdf</td>\n",
       "        </tr>\n",
       "        <tr>\n",
       "            <td>2016</td> <td>2    </td> <td>VALLEY SP (MALE)  </td> <td>3356             </td> <td>0           </td> <td>3356            </td> <td>1980             </td> <td>169.5           </td> <td>3346            </td> <td>TPOP1Ad1602.pdf</td>\n",
       "        </tr>\n",
       "        <tr>\n",
       "            <td>2016</td> <td>3    </td> <td>VALLEY SP (MALE)  </td> <td>3466             </td> <td>0           </td> <td>3466            </td> <td>1980             </td> <td>175.1           </td> <td>3358            </td> <td>TPOP1Ad1603.pdf</td>\n",
       "        </tr>\n",
       "        <tr>\n",
       "            <td>2016</td> <td>4    </td> <td>VALLEY SP (MALE)  </td> <td>3449             </td> <td>0           </td> <td>3449            </td> <td>1980             </td> <td>174.2           </td> <td>3358            </td> <td>TPOP1Ad1604.pdf</td>\n",
       "        </tr>\n",
       "        <tr>\n",
       "            <td>2016</td> <td>5    </td> <td>VALLEY SP (MALE)  </td> <td>3403             </td> <td>0           </td> <td>3403            </td> <td>1980             </td> <td>171.9           </td> <td>3358            </td> <td>TPOP1Ad1605.pdf</td>\n",
       "        </tr>\n",
       "        <tr>\n",
       "            <td>2016</td> <td>6    </td> <td>VALLEY SP (MALE)  </td> <td>3394             </td> <td>0           </td> <td>3394            </td> <td>1980             </td> <td>171.4           </td> <td>3358            </td> <td>TPOP1Ad1606.pdf</td>\n",
       "        </tr>\n",
       "        <tr>\n",
       "            <td>2016</td> <td>7    </td> <td>VALLEY SP (MALE)  </td> <td>3405             </td> <td>0           </td> <td>3405            </td> <td>1980             </td> <td>172             </td> <td>3358            </td> <td>TPOP1Ad1607.pdf</td>\n",
       "        </tr>\n",
       "        <tr>\n",
       "            <td>2016</td> <td>8    </td> <td>VALLEY SP (MALE)  </td> <td>3402             </td> <td>0           </td> <td>3402            </td> <td>1980             </td> <td>171.8           </td> <td>3358            </td> <td>TPOP1Ad1608.pdf</td>\n",
       "        </tr>\n",
       "        <tr>\n",
       "            <td>2016</td> <td>9    </td> <td>VALLEY SP (MALE)  </td> <td>3506             </td> <td>0           </td> <td>3506            </td> <td>1980             </td> <td>177.1           </td> <td>3358            </td> <td>TPOP1Ad1609.pdf</td>\n",
       "        </tr>\n",
       "        <tr>\n",
       "            <td>2016</td> <td>10   </td> <td>VALLEY SP (MALE)  </td> <td>3514             </td> <td>0           </td> <td>3514            </td> <td>1980             </td> <td>177.5           </td> <td>3358            </td> <td>TPOP1Ad1610.pdf</td>\n",
       "        </tr>\n",
       "        <tr>\n",
       "            <td>2016</td> <td>11   </td> <td>VALLEY SP (MALE)  </td> <td>3564             </td> <td>0           </td> <td>3564            </td> <td>1980             </td> <td>180             </td> <td>3358            </td> <td>TPOP1Ad1611.pdf</td>\n",
       "        </tr>\n",
       "        <tr>\n",
       "            <td>2016</td> <td>12   </td> <td>VALLEY SP (MALE)  </td> <td>3524             </td> <td>0           </td> <td>3524            </td> <td>1980             </td> <td>178             </td> <td>3358            </td> <td>TPOP1Ad1612.pdf</td>\n",
       "        </tr>\n",
       "        <tr>\n",
       "            <td>2017</td> <td>1    </td> <td>VALLEY SP (MALE)  </td> <td>3448             </td> <td>0           </td> <td>3448            </td> <td>1980             </td> <td>174.1           </td> <td>3358            </td> <td>TPOP1Ad1701.pdf</td>\n",
       "        </tr>\n",
       "        <tr>\n",
       "            <td>2017</td> <td>2    </td> <td>VALLEY SP (MALE)  </td> <td>3396             </td> <td>0           </td> <td>3396            </td> <td>1980             </td> <td>171.5           </td> <td>3358            </td> <td>TPOP1Ad1702.pdf</td>\n",
       "        </tr>\n",
       "        <tr>\n",
       "            <td>2017</td> <td>3    </td> <td>VALLEY SP (MALE)  </td> <td>3382             </td> <td>0           </td> <td>3382            </td> <td>1980             </td> <td>170.8           </td> <td>3358            </td> <td>TPOP1Ad1703.pdf</td>\n",
       "        </tr>\n",
       "        <tr>\n",
       "            <td>2017</td> <td>4    </td> <td>VALLEY SP (MALE)  </td> <td>3470             </td> <td>0           </td> <td>3470            </td> <td>1980             </td> <td>175.3           </td> <td>2954            </td> <td>TPOP1Ad1704.pdf</td>\n",
       "        </tr>\n",
       "        <tr>\n",
       "            <td>2017</td> <td>5    </td> <td>VALLEY SP (MALE)  </td> <td>3543             </td> <td>0           </td> <td>3543            </td> <td>1980             </td> <td>178.9           </td> <td>2954            </td> <td>TPOP1Ad1705.pdf</td>\n",
       "        </tr>\n",
       "        <tr>\n",
       "            <td>2017</td> <td>6    </td> <td>VALLEY SP (MALE)  </td> <td>3557             </td> <td>0           </td> <td>3557            </td> <td>1980             </td> <td>179.6           </td> <td>2954            </td> <td>TPOP1Ad1706.pdf</td>\n",
       "        </tr>\n",
       "        <tr>\n",
       "            <td>2017</td> <td>7    </td> <td>VALLEY SP (MALE)  </td> <td>3496             </td> <td>0           </td> <td>3496            </td> <td>1980             </td> <td>176.6           </td> <td>2954            </td> <td>TPOP1Ad1707.pdf</td>\n",
       "        </tr>\n",
       "        <tr>\n",
       "            <td>2017</td> <td>8    </td> <td>VALLEY SP (MALE)  </td> <td>3474             </td> <td>0           </td> <td>3474            </td> <td>1980             </td> <td>175.5           </td> <td>2954            </td> <td>TPOP1Ad1708.pdf</td>\n",
       "        </tr>\n",
       "        <tr>\n",
       "            <td>2017</td> <td>9    </td> <td>VALLEY SP (MALE)  </td> <td>3554             </td> <td>0           </td> <td>3554            </td> <td>1980             </td> <td>179.5           </td> <td>2954            </td> <td>TPOP1Ad1709.pdf</td>\n",
       "        </tr>\n",
       "        <tr>\n",
       "            <td>2017</td> <td>10   </td> <td>VALLEY SP (MALE)  </td> <td>3549             </td> <td>0           </td> <td>3549            </td> <td>1980             </td> <td>179.2           </td> <td>2954            </td> <td>TPOP1Ad1710.pdf</td>\n",
       "        </tr>\n",
       "        <tr>\n",
       "            <td>2017</td> <td>11   </td> <td>VALLEY SP (MALE)  </td> <td>3582             </td> <td>0           </td> <td>3582            </td> <td>1980             </td> <td>180.9           </td> <td>2954            </td> <td>TPOP1Ad1711.pdf</td>\n",
       "        </tr>\n",
       "        <tr>\n",
       "            <td>2017</td> <td>12   </td> <td>VALLEY SP (MALE)  </td> <td>3604             </td> <td>0           </td> <td>3604            </td> <td>1980             </td> <td>182             </td> <td>2954            </td> <td>TPOP1Ad1712.pdf</td>\n",
       "        </tr>\n",
       "        <tr>\n",
       "            <td>2018</td> <td>1    </td> <td>VALLEY SP (MALE)  </td> <td>3565             </td> <td>0           </td> <td>3565            </td> <td>1980             </td> <td>180.1           </td> <td>2954            </td> <td>TPOP1Ad1801.pdf</td>\n",
       "        </tr>\n",
       "        <tr>\n",
       "            <td>2018</td> <td>2    </td> <td>VALLEY SP (MALE)  </td> <td>3517             </td> <td>0           </td> <td>3517            </td> <td>1980             </td> <td>177.6           </td> <td>2954            </td> <td>TPOP1Ad1802.pdf</td>\n",
       "        </tr>\n",
       "        <tr>\n",
       "            <td>2018</td> <td>3    </td> <td>VALLEY SP (MALE)  </td> <td>3500             </td> <td>0           </td> <td>3500            </td> <td>1980             </td> <td>176.8           </td> <td>2954            </td> <td>TPOP1Ad1803.pdf</td>\n",
       "        </tr>\n",
       "        <tr>\n",
       "            <td>2018</td> <td>4    </td> <td>VALLEY SP (MALE)  </td> <td>3511             </td> <td>0           </td> <td>3511            </td> <td>1980             </td> <td>177.3           </td> <td>2954            </td> <td>TPOP1Ad1804.pdf</td>\n",
       "        </tr>\n",
       "        <tr>\n",
       "            <td>2018</td> <td>5    </td> <td>VALLEY SP (MALE)  </td> <td>3507             </td> <td>0           </td> <td>3507            </td> <td>1980             </td> <td>177.1           </td> <td>2954            </td> <td>TPOP1Ad1805.pdf</td>\n",
       "        </tr>\n",
       "        <tr>\n",
       "            <td>2018</td> <td>6    </td> <td>VALLEY SP (MALE)  </td> <td>3487             </td> <td>0           </td> <td>3487            </td> <td>1980             </td> <td>176.1           </td> <td>2954            </td> <td>TPOP1Ad1806.pdf</td>\n",
       "        </tr>\n",
       "        <tr>\n",
       "            <td>2018</td> <td>7    </td> <td>VALLEY SP (MALE)  </td> <td>3459             </td> <td>0           </td> <td>3459            </td> <td>1980             </td> <td>174.7           </td> <td>2954            </td> <td>TPOP1Ad1807.pdf</td>\n",
       "        </tr>\n",
       "        <tr>\n",
       "            <td>2018</td> <td>8    </td> <td>VALLEY SP (MALE)  </td> <td>3572             </td> <td>0           </td> <td>3572            </td> <td>1980             </td> <td>180.4           </td> <td>2954            </td> <td>TPOP1Ad1808.pdf</td>\n",
       "        </tr>\n",
       "        <tr>\n",
       "            <td>2018</td> <td>9    </td> <td>VALLEY SP (MALE)  </td> <td>3578             </td> <td>0           </td> <td>3578            </td> <td>1980             </td> <td>180.7           </td> <td>2954            </td> <td>TPOP1Ad1809.pdf</td>\n",
       "        </tr>\n",
       "        <tr>\n",
       "            <td>2018</td> <td>10   </td> <td>VALLEY SP (MALE)  </td> <td>3481             </td> <td>0           </td> <td>3481            </td> <td>1980             </td> <td>175.8           </td> <td>2954            </td> <td>TPOP1Ad1810.pdf</td>\n",
       "        </tr>\n",
       "        <tr>\n",
       "            <td>2018</td> <td>11   </td> <td>VALLEY SP (MALE)  </td> <td>3297             </td> <td>0           </td> <td>3297            </td> <td>1980             </td> <td>166.5           </td> <td>2954            </td> <td>TPOP1Ad1811.pdf</td>\n",
       "        </tr>\n",
       "        <tr>\n",
       "            <td>2018</td> <td>12   </td> <td>VALLEY SP (MALE)  </td> <td>3238             </td> <td>0           </td> <td>3238            </td> <td>1980             </td> <td>163.5           </td> <td>2954            </td> <td>TPOP1Ad1812.pdf</td>\n",
       "        </tr>\n",
       "        <tr>\n",
       "            <td>2019</td> <td>1    </td> <td>VALLEY SP (MALE)  </td> <td>3186             </td> <td>0           </td> <td>3186            </td> <td>1980             </td> <td>160.9           </td> <td>2954            </td> <td>Tpop1d1901.pdf </td>\n",
       "        </tr>\n",
       "        <tr>\n",
       "            <td>2019</td> <td>2    </td> <td>VALLEY SP (MALE)  </td> <td>3124             </td> <td>0           </td> <td>3124            </td> <td>1980             </td> <td>157.8           </td> <td>2954            </td> <td>Tpop1d1902.pdf </td>\n",
       "        </tr>\n",
       "        <tr>\n",
       "            <td>2019</td> <td>3    </td> <td>VALLEY SP (MALE)  </td> <td>3068             </td> <td>0           </td> <td>3068            </td> <td>1980             </td> <td>154.9           </td> <td>2954            </td> <td>Tpop1d1903.pdf </td>\n",
       "        </tr>\n",
       "        <tr>\n",
       "            <td>2019</td> <td>4    </td> <td>VALLEY SP (MALE)  </td> <td>2962             </td> <td>0           </td> <td>2962            </td> <td>1980             </td> <td>149.6           </td> <td>2954            </td> <td>Tpop1d1904.pdf </td>\n",
       "        </tr>\n",
       "        <tr>\n",
       "            <td>2019</td> <td>5    </td> <td>VALLEY SP (MALE)  </td> <td>2907             </td> <td>0           </td> <td>2907            </td> <td>1980             </td> <td>146.8           </td> <td>2954            </td> <td>Tpop1d1905.pdf </td>\n",
       "        </tr>\n",
       "        <tr>\n",
       "            <td>2019</td> <td>6    </td> <td>VALLEY SP (MALE)  </td> <td>2885             </td> <td>0           </td> <td>2885            </td> <td>1980             </td> <td>145.7           </td> <td>2954            </td> <td>Tpop1d1906.pdf </td>\n",
       "        </tr>\n",
       "        <tr>\n",
       "            <td>2019</td> <td>7    </td> <td>VALLEY SP (MALE)  </td> <td>2845             </td> <td>0           </td> <td>2845            </td> <td>1980             </td> <td>143.7           </td> <td>2954            </td> <td>Tpop1d1907.pdf </td>\n",
       "        </tr>\n",
       "        <tr>\n",
       "            <td>2019</td> <td>8    </td> <td>VALLEY SP (MALE)  </td> <td>2855             </td> <td>0           </td> <td>2855            </td> <td>1980             </td> <td>144.2           </td> <td>2954            </td> <td>Tpop1d1908.pdf </td>\n",
       "        </tr>\n",
       "        <tr>\n",
       "            <td>2019</td> <td>9    </td> <td>VALLEY SP (MALE)  </td> <td>2856             </td> <td>0           </td> <td>2856            </td> <td>1980             </td> <td>144.2           </td> <td>2954            </td> <td>Tpop1d1909.pdf </td>\n",
       "        </tr>\n",
       "        <tr>\n",
       "            <td>2019</td> <td>10   </td> <td>VALLEY SP (MALE)  </td> <td>2867             </td> <td>0           </td> <td>2867            </td> <td>1980             </td> <td>144.8           </td> <td>2954            </td> <td>Tpop1d1910.pdf </td>\n",
       "        </tr>\n",
       "        <tr>\n",
       "            <td>2019</td> <td>11   </td> <td>VALLEY SP (MALE)  </td> <td>2904             </td> <td>0           </td> <td>2904            </td> <td>1980             </td> <td>146.7           </td> <td>2954            </td> <td>Tpop1d1911.pdf </td>\n",
       "        </tr>\n",
       "        <tr>\n",
       "            <td>2019</td> <td>12   </td> <td>VALLEY SP (MALE)  </td> <td>2951             </td> <td>0           </td> <td>2951            </td> <td>1980             </td> <td>149             </td> <td>2954            </td> <td>Tpop1d1912.pdf </td>\n",
       "        </tr>\n",
       "        <tr>\n",
       "            <td>2020</td> <td>1    </td> <td>VALLEY SP (MALE)  </td> <td>3005             </td> <td>0           </td> <td>3005            </td> <td>1980             </td> <td>151.8           </td> <td>2954            </td> <td>Tpop1d2001.pdf </td>\n",
       "        </tr>\n",
       "        <tr>\n",
       "            <td>2020</td> <td>2    </td> <td>VALLEY SP (MALE)  </td> <td>2986             </td> <td>0           </td> <td>2986            </td> <td>1980             </td> <td>150.8           </td> <td>2954            </td> <td>Tpop1d2002.pdf </td>\n",
       "        </tr>\n",
       "        <tr>\n",
       "            <td>2020</td> <td>3    </td> <td>VALLEY SP (MALE)  </td> <td>3024             </td> <td>0           </td> <td>3024            </td> <td>1980             </td> <td>152.7           </td> <td>2954            </td> <td>Tpop1d2003.pdf </td>\n",
       "        </tr>\n",
       "        <tr>\n",
       "            <td>2020</td> <td>4    </td> <td>VALLEY SP (MALE)  </td> <td>2971             </td> <td>0           </td> <td>2971            </td> <td>1980             </td> <td>150.1           </td> <td>2954            </td> <td>Tpop1d2004.pdf </td>\n",
       "        </tr>\n",
       "        <tr>\n",
       "            <td>2020</td> <td>5    </td> <td>VALLEY SP (MALE)  </td> <td>3025             </td> <td>0           </td> <td>3025            </td> <td>1980             </td> <td>152.8           </td> <td>2954            </td> <td>Tpop1d2005.pdf </td>\n",
       "        </tr>\n",
       "        <tr>\n",
       "            <td>2020</td> <td>6    </td> <td>VALLEY SP (MALE)  </td> <td>3021             </td> <td>0           </td> <td>3021            </td> <td>1980             </td> <td>152.6           </td> <td>2954            </td> <td>Tpop1d2006.pdf </td>\n",
       "        </tr>\n",
       "        <tr>\n",
       "            <td>2020</td> <td>7    </td> <td>VALLEY SP (MALE)  </td> <td>2919             </td> <td>0           </td> <td>2919            </td> <td>1980             </td> <td>147.4           </td> <td>2954            </td> <td>Tpop1d2007.pdf </td>\n",
       "        </tr>\n",
       "        <tr>\n",
       "            <td>2020</td> <td>8    </td> <td>VALLEY SP (MALE)  </td> <td>2813             </td> <td>0           </td> <td>2813            </td> <td>1980             </td> <td>142.1           </td> <td>2954            </td> <td>Tpop1d2008.pdf </td>\n",
       "        </tr>\n",
       "        <tr>\n",
       "            <td>2020</td> <td>9    </td> <td>VALLEY SP (MALE)  </td> <td>2766             </td> <td>0           </td> <td>2766            </td> <td>1980             </td> <td>139.7           </td> <td>2954            </td> <td>Tpop1d2009.pdf </td>\n",
       "        </tr>\n",
       "        <tr>\n",
       "            <td>2020</td> <td>10   </td> <td>VALLEY SP (MALE)  </td> <td>2763             </td> <td>0           </td> <td>2763            </td> <td>1980             </td> <td>139.5           </td> <td>3034            </td> <td>Tpop1d2010.pdf </td>\n",
       "        </tr>\n",
       "        <tr>\n",
       "            <td>2020</td> <td>11   </td> <td>VALLEY SP (MALE)  </td> <td>2779             </td> <td>0           </td> <td>2779            </td> <td>1980             </td> <td>140.4           </td> <td>3034            </td> <td>Tpop1d2011.pdf </td>\n",
       "        </tr>\n",
       "        <tr>\n",
       "            <td>2020</td> <td>12   </td> <td>VALLEY SP (MALE)  </td> <td>2733             </td> <td>0           </td> <td>2733            </td> <td>1980             </td> <td>138             </td> <td>3173            </td> <td>Tpop1d2012.pdf </td>\n",
       "        </tr>\n",
       "        <tr>\n",
       "            <td>2021</td> <td>1    </td> <td>VALLEY SP (MALE)  </td> <td>2661             </td> <td>0           </td> <td>2661            </td> <td>1980             </td> <td>134.4           </td> <td>3069            </td> <td>Tpop1d2101.pdf </td>\n",
       "        </tr>\n",
       "        <tr>\n",
       "            <td>2021</td> <td>2    </td> <td>VALLEY SP (MALE)  </td> <td>2753             </td> <td>0           </td> <td>2753            </td> <td>1980             </td> <td>139             </td> <td>3034            </td> <td>Tpop1d2102.pdf </td>\n",
       "        </tr>\n",
       "        <tr>\n",
       "            <td>2021</td> <td>3    </td> <td>VALLEY SP (MALE)  </td> <td>2761             </td> <td>0           </td> <td>2761            </td> <td>1980             </td> <td>139.4           </td> <td>3034            </td> <td>Tpop1d2103.pdf </td>\n",
       "        </tr>\n",
       "        <tr>\n",
       "            <td>2021</td> <td>4    </td> <td>VALLEY SP (MALE)  </td> <td>2884             </td> <td>0           </td> <td>2884            </td> <td>1980             </td> <td>145.7           </td> <td>3034            </td> <td>Tpop1d2104.pdf </td>\n",
       "        </tr>\n",
       "        <tr>\n",
       "            <td>2021</td> <td>5    </td> <td>VALLEY SP (MALE)  </td> <td>2946             </td> <td>0           </td> <td>2946            </td> <td>1980             </td> <td>148.8           </td> <td>3034            </td> <td>Tpop1d2105.pdf </td>\n",
       "        </tr>\n",
       "        <tr>\n",
       "            <td>2021</td> <td>6    </td> <td>VALLEY SP (MALE)  </td> <td>2938             </td> <td>0           </td> <td>2938            </td> <td>1980             </td> <td>148.4           </td> <td>3034            </td> <td>Tpop1d2106.pdf </td>\n",
       "        </tr>\n",
       "        <tr>\n",
       "            <td>2021</td> <td>7    </td> <td>VALLEY SP (MALE)  </td> <td>2956             </td> <td>0           </td> <td>2956            </td> <td>1961             </td> <td>150.7           </td> <td>2954            </td> <td>Tpop1d2107.pdf </td>\n",
       "        </tr>\n",
       "        <tr>\n",
       "            <td>2021</td> <td>8    </td> <td>VALLEY SP (MALE)  </td> <td>2980             </td> <td>0           </td> <td>2980            </td> <td>1961             </td> <td>152             </td> <td>2954            </td> <td>Tpop1d2108.pdf </td>\n",
       "        </tr>\n",
       "        <tr>\n",
       "            <td>2021</td> <td>9    </td> <td>VALLEY SP (MALE)  </td> <td>2972             </td> <td>0           </td> <td>2972            </td> <td>1961             </td> <td>151.6           </td> <td>2954            </td> <td>Tpop1d2109.pdf </td>\n",
       "        </tr>\n",
       "        <tr>\n",
       "            <td>2021</td> <td>10   </td> <td>VALLEY SP (MALE)  </td> <td>2975             </td> <td>0           </td> <td>2975            </td> <td>1961             </td> <td>151.7           </td> <td>2954            </td> <td>Tpop1d2110.pdf </td>\n",
       "        </tr>\n",
       "        <tr>\n",
       "            <td>2021</td> <td>11   </td> <td>VALLEY SP (MALE)  </td> <td>2987             </td> <td>0           </td> <td>2987            </td> <td>1961             </td> <td>152.3           </td> <td>2954            </td> <td>Tpop1d2111.pdf </td>\n",
       "        </tr>\n",
       "        <tr>\n",
       "            <td>2021</td> <td>12   </td> <td>VALLEY SP (MALE)  </td> <td>2963             </td> <td>0           </td> <td>2963            </td> <td>1961             </td> <td>151.1           </td> <td>2942            </td> <td>Tpop1d2112.pdf </td>\n",
       "        </tr>\n",
       "        <tr>\n",
       "            <td>2022</td> <td>1    </td> <td>VALLEY SP (MALE)  </td> <td>2902             </td> <td>0           </td> <td>2902            </td> <td>1961             </td> <td>148             </td> <td>2942            </td> <td>Tpop1d2201.pdf </td>\n",
       "        </tr>\n",
       "        <tr>\n",
       "            <td>2022</td> <td>2    </td> <td>VALLEY SP (MALE)  </td> <td>2908             </td> <td>0           </td> <td>2908            </td> <td>1961             </td> <td>148.3           </td> <td>2942            </td> <td>Tpop1d2202.pdf </td>\n",
       "        </tr>\n",
       "    </tbody>\n",
       "</table>"
      ],
      "text/plain": [
       "<IPython.core.display.HTML object>"
      ]
     },
     "metadata": {},
     "output_type": "display_data"
    }
   ],
   "source": [
    "# Here you can see that rows with institution_name \"VSP (VALLEY SP)\" have been relabeled \n",
    "# to represent whether they were a male or female prison during the given year. \n",
    "prisons_1.where('institution_name', are.containing(\"VALLEY SP (\")).show()"
   ]
  },
  {
   "cell_type": "markdown",
   "metadata": {
    "cell_id": "00041-531bb12e-986b-4ae6-be57-6eb24314ad04",
    "deepnote_cell_height": 177.984375,
    "deepnote_cell_type": "markdown",
    "tags": [
     "ignore"
    ]
   },
   "source": [
    "#### Sierra Conservation Center (SCC)\n",
    "\n",
    "For the Sierra Conservation Center, there were many double counts for each month. When we researched why there were separate counts for the same prison, it was unclear. One count had values in the thousands, while the other count was in the hundreds. Our best guess is that the prison counted the number of people within a fire camp nearby. We split and relabeled our data to show the difference between the smaller and larger population. We read this in as prisons_2."
   ]
  },
  {
   "cell_type": "code",
   "execution_count": 101,
   "metadata": {
    "cell_id": "ad4846558e9f4dc39b5cfdaffa567e2c",
    "deepnote_cell_height": 449,
    "deepnote_cell_type": "code",
    "deepnote_to_be_reexecuted": false,
    "execution_millis": 305,
    "execution_start": 1649660752670,
    "source_hash": "c02261b6",
    "tags": []
   },
   "outputs": [
    {
     "data": {
      "text/html": [
       "<table border=\"1\" class=\"dataframe\">\n",
       "    <thead>\n",
       "        <tr>\n",
       "            <th>year</th> <th>month</th> <th>institution_name</th> <th>population_felons</th> <th>civil_addict</th> <th>total_population</th> <th>designed_capacity</th> <th>percent_occupied</th> <th>staffed_capacity</th>\n",
       "        </tr>\n",
       "    </thead>\n",
       "    <tbody>\n",
       "        <tr>\n",
       "            <td>1996</td> <td>1    </td> <td>SIERRA CONSERVATION CENTER (PRISON)</td> <td>6010             </td> <td>0           </td> <td>6010            </td> <td>3606             </td> <td>166.7           </td> <td>5884            </td>\n",
       "        </tr>\n",
       "        <tr>\n",
       "            <td>1996</td> <td>2    </td> <td>SIERRA CONSERVATION CENTER (PRISON)</td> <td>5912             </td> <td>0           </td> <td>5912            </td> <td>3606             </td> <td>163.9           </td> <td>5884            </td>\n",
       "        </tr>\n",
       "        <tr>\n",
       "            <td>1996</td> <td>3    </td> <td>SIERRA CONSERVATION CENTER (PRISON)</td> <td>5912             </td> <td>0           </td> <td>5912            </td> <td>3606             </td> <td>163.9           </td> <td>5884            </td>\n",
       "        </tr>\n",
       "        <tr>\n",
       "            <td>1996</td> <td>4    </td> <td>SIERRA CONSERVATION CENTER (PRISON)</td> <td>5979             </td> <td>0           </td> <td>5979            </td> <td>3606             </td> <td>165.8           </td> <td>5884            </td>\n",
       "        </tr>\n",
       "        <tr>\n",
       "            <td>1996</td> <td>5    </td> <td>SIERRA CONSERVATION CENTER (PRISON)</td> <td>5884             </td> <td>0           </td> <td>5884            </td> <td>3606             </td> <td>163.2           </td> <td>5884            </td>\n",
       "        </tr>\n",
       "    </tbody>\n",
       "</table>\n",
       "<p>... (425 rows omitted)</p>"
      ],
      "text/plain": [
       "<IPython.core.display.HTML object>"
      ]
     },
     "metadata": {},
     "output_type": "display_data"
    }
   ],
   "source": [
    "#Just run this cell\n",
    "prisons_2= Table().read_table(\"data/prisons2.csv\")\n",
    "after_2018 = prisons.where('year', are.above_or_equal_to(2019)) #Updating data to contain 2019-2022\n",
    "prisons_2 = prisons_2.drop('Unnamed: 0') #Removes an unnecessary column\n",
    "prisons_2 = prisons_2.append(after_2018) #Connecting the 1996-2018 data to the 2019-2022 data\n",
    "#and calling it prisons_2\n",
    "prisons_2.where('institution_name', are.containing(\"SIERRA\")).show(5)\n",
    "\n",
    "#We can see that there are no longer duplicate entries for each months!"
   ]
  },
  {
   "cell_type": "markdown",
   "metadata": {
    "cell_id": "00043-a4b3b909-5925-4241-b162-20a83a97fa05",
    "deepnote_cell_height": 236.78125,
    "deepnote_cell_type": "markdown",
    "tags": [
     "include"
    ]
   },
   "source": [
    "#### Los Angeles County State Prison (LAC)\n",
    "\n",
    "In the case of Los Angeles County prison, we saw that from December 2005 to June 2006 there was a double count recorded for the prison population. Although we are unsure what caused the differences between the two groups, we noted that one group had a population size ranging in the four thousands while the other group was in the range of less than one thousand. We split and relabeled the data to show the difference between the smaller and larger population, and called this prisons_3.\n",
    "\n",
    "<!-- BEGIN QUESTION --> \n",
    "\n",
    "<font color = #d14d0f>**QUESTION 4**:</font> Why might we want to use the difference between the two populations instead of just replacing the population with either count?"
   ]
  },
  {
   "cell_type": "markdown",
   "metadata": {
    "cell_id": "00044-e9a5187f-992f-49ef-9d8f-1d845aa51f89",
    "deepnote_cell_height": 52.390625,
    "deepnote_cell_type": "markdown",
    "tags": [
     "include"
    ]
   },
   "source": [
    "*Replace this text with your response!*"
   ]
  },
  {
   "cell_type": "markdown",
   "metadata": {
    "cell_id": "00045-1e838b83-060e-438a-8ddd-c8a61b1472b6",
    "deepnote_cell_height": 46,
    "deepnote_cell_type": "markdown"
   },
   "source": [
    "<!-- END QUESTION --> "
   ]
  },
  {
   "cell_type": "code",
   "execution_count": 102,
   "metadata": {
    "cell_id": "00046-03fa30fc-5f3a-4ce1-9e9c-175ddbdf5346",
    "deepnote_cell_height": 431.1875,
    "deepnote_cell_type": "code",
    "deepnote_output_heights": [
     208.1875
    ],
    "deepnote_to_be_reexecuted": false,
    "execution_millis": 253,
    "execution_start": 1649660752984,
    "source_hash": "bf7fc971"
   },
   "outputs": [
    {
     "data": {
      "text/html": [
       "<table border=\"1\" class=\"dataframe\">\n",
       "    <thead>\n",
       "        <tr>\n",
       "            <th>year</th> <th>month</th> <th>institution_name</th> <th>population_felons</th> <th>civil_addict</th> <th>total_population</th> <th>designed_capacity</th> <th>percent_occupied</th> <th>staffed_capacity</th>\n",
       "        </tr>\n",
       "    </thead>\n",
       "    <tbody>\n",
       "        <tr>\n",
       "            <td>1996</td> <td>1    </td> <td>LOS ANGELES COUNTY (STATE PRISON)</td> <td>3978             </td> <td>0           </td> <td>3978            </td> <td>2200             </td> <td>180.8           </td> <td>4000            </td>\n",
       "        </tr>\n",
       "        <tr>\n",
       "            <td>1996</td> <td>2    </td> <td>LOS ANGELES COUNTY (STATE PRISON)</td> <td>3919             </td> <td>0           </td> <td>3919            </td> <td>2200             </td> <td>178.1           </td> <td>4000            </td>\n",
       "        </tr>\n",
       "        <tr>\n",
       "            <td>1996</td> <td>3    </td> <td>LOS ANGELES COUNTY (STATE PRISON)</td> <td>3975             </td> <td>0           </td> <td>3975            </td> <td>2200             </td> <td>180.7           </td> <td>4000            </td>\n",
       "        </tr>\n",
       "        <tr>\n",
       "            <td>1996</td> <td>4    </td> <td>LOS ANGELES COUNTY (STATE PRISON)</td> <td>4064             </td> <td>0           </td> <td>4064            </td> <td>2200             </td> <td>184.7           </td> <td>4000            </td>\n",
       "        </tr>\n",
       "        <tr>\n",
       "            <td>1996</td> <td>5    </td> <td>LOS ANGELES COUNTY (STATE PRISON)</td> <td>4012             </td> <td>0           </td> <td>4012            </td> <td>2200             </td> <td>182.4           </td> <td>4000            </td>\n",
       "        </tr>\n",
       "    </tbody>\n",
       "</table>\n",
       "<p>... (317 rows omitted)</p>"
      ],
      "text/plain": [
       "<IPython.core.display.HTML object>"
      ]
     },
     "metadata": {},
     "output_type": "display_data"
    }
   ],
   "source": [
    "# Just run this cell\n",
    "prisons_3 = Table().read_table(\"data/prisons3.csv\")\n",
    "post_2018 = prisons.where('year', are.above_or_equal_to(2019))\n",
    "prisons_3 = prisons_3.drop('Unnamed: 0') #Dropping unnecessary column\n",
    "prisons_3 = prisons_3.append(post_2018) #updating prisons_3 to contain up to Feb 2022\n",
    "prisons_3.where('institution_name', are.containing(\"LOS\")).show(5)\n",
    "\n",
    "#We can see that there are no longer duplicate entries for each months!"
   ]
  },
  {
   "cell_type": "markdown",
   "metadata": {
    "cell_id": "00047-1ccf9caf-a597-4966-859c-b1533c93f6ff",
    "deepnote_cell_height": 447.171875,
    "deepnote_cell_type": "markdown",
    "tags": [
     "ignore"
    ]
   },
   "source": [
    "### **General: Designed & Staffed Capacity** <a id='subsection3'> </a>\n",
    "\n",
    "#### Designed Capacity of California's Prisons Over Time\n",
    "\n",
    "**Context**: The Prison Industrial Complex has created our current issue with mass incarceration. Throughout the course, you have learned how prisons are designed to hold large numbers of people, and how creating these large institutions perpetuates the cycle of mass incarceration because these prisons are made with the intent to be filled.\n",
    "\n",
    "In this next section, we will break down how the designed capacity of prisons is related to the actual population within a given institution. We will later compare the total population with the number of people employed to sustain this system.\n",
    "\n",
    "**Data Cleaning**: We will be looking at the trends in prison population over time. For this purpose it is not necessary to view all the columns of our table so we will use another table function, `select()` to cut out the unnecessary columns. We will be keeping `year`, `institution_name`, and `designed_capacity`. In order to use this table in the future, we will assign it to a new variable called `year_and_design_capacity`.\n",
    "\n",
    "Before we continue, please note that for the remainder of this notebook, we will use an updated version of the `prisons` table that includes the changes we made above. We call this updated table `prisons_updated`."
   ]
  },
  {
   "cell_type": "code",
   "execution_count": 103,
   "metadata": {
    "cell_id": "00048-d2f0b51d-1368-4e4d-aac4-f1ae5c07548b",
    "deepnote_cell_height": 337.1875,
    "deepnote_cell_type": "code",
    "deepnote_output_heights": [
     150.1875
    ],
    "deepnote_to_be_reexecuted": false,
    "execution_millis": 21,
    "execution_start": 1649660753872,
    "source_hash": "d6722e62",
    "tags": [
     "ignore"
    ]
   },
   "outputs": [
    {
     "data": {
      "text/html": [
       "<table border=\"1\" class=\"dataframe\">\n",
       "    <thead>\n",
       "        <tr>\n",
       "            <th>year</th> <th>institution_name</th> <th>designed_capacity</th>\n",
       "        </tr>\n",
       "    </thead>\n",
       "    <tbody>\n",
       "        <tr>\n",
       "            <td>1996</td> <td>NCWF (NO CAL WOMEN'S FACIL)  </td> <td>400              </td>\n",
       "        </tr>\n",
       "        <tr>\n",
       "            <td>1996</td> <td>CCWF (CENTRAL CA WOMEN'S FAC)</td> <td>2004             </td>\n",
       "        </tr>\n",
       "        <tr>\n",
       "            <td>1996</td> <td>CRC (CAL REHAB CTR, WOMEN)   </td> <td>500              </td>\n",
       "        </tr>\n",
       "    </tbody>\n",
       "</table>\n",
       "<p>... (10847 rows omitted)</p>"
      ],
      "text/plain": [
       "<IPython.core.display.HTML object>"
      ]
     },
     "metadata": {},
     "output_type": "display_data"
    }
   ],
   "source": [
    "# Include the changes listed above\n",
    "prisons_updated = prisons_3\n",
    "\n",
    "# Select only the necessary columns and show the top 3\n",
    "year_and_design_capacity = prisons_updated.select(\"year\", \"institution_name\",'designed_capacity')\n",
    "year_and_design_capacity.show(3)"
   ]
  },
  {
   "cell_type": "markdown",
   "metadata": {
    "cell_id": "00049-cec1a154-b122-4f96-968c-a1c0925225f0",
    "deepnote_cell_height": 141.984375,
    "deepnote_cell_type": "markdown",
    "tags": [
     "ignore"
    ]
   },
   "source": [
    "Now we want to see what is the `designed_capacity` for ALL the prisons in a given year. Remember that nifty `group()` function? We achieve our goal by grouping by year using the function `group()` and summing over all the prisons in that year. Since we are only interested in looking at designed capacity for all prisons, we can create a new table that only includes the `designed_capacity` and `year` columns. We do this by selecting the necessary columns just as we did above!"
   ]
  },
  {
   "cell_type": "code",
   "execution_count": 104,
   "metadata": {
    "cell_id": "25b3597ee8d848eb986507a9629e17e5",
    "deepnote_cell_height": 265.1875,
    "deepnote_cell_type": "code",
    "deepnote_output_heights": [
     150.1875
    ],
    "deepnote_to_be_reexecuted": false,
    "execution_millis": 20,
    "execution_start": 1649660755181,
    "source_hash": "350942e1",
    "tags": []
   },
   "outputs": [
    {
     "data": {
      "text/html": [
       "<table border=\"1\" class=\"dataframe\">\n",
       "    <thead>\n",
       "        <tr>\n",
       "            <th>year</th> <th>designed_capacity</th>\n",
       "        </tr>\n",
       "    </thead>\n",
       "    <tbody>\n",
       "        <tr>\n",
       "            <td>1996</td> <td>400              </td>\n",
       "        </tr>\n",
       "        <tr>\n",
       "            <td>1996</td> <td>2004             </td>\n",
       "        </tr>\n",
       "        <tr>\n",
       "            <td>1996</td> <td>500              </td>\n",
       "        </tr>\n",
       "    </tbody>\n",
       "</table>\n",
       "<p>... (10847 rows omitted)</p>"
      ],
      "text/plain": [
       "<IPython.core.display.HTML object>"
      ]
     },
     "metadata": {},
     "output_type": "display_data"
    }
   ],
   "source": [
    "design_capacity_ca = year_and_design_capacity.select(\"year\", \"designed_capacity\")\n",
    "design_capacity_ca.show(3)"
   ]
  },
  {
   "cell_type": "markdown",
   "metadata": {
    "cell_id": "040c4e601b1941129f97b1c7127ab8ec",
    "deepnote_cell_height": 88.796875,
    "deepnote_cell_type": "markdown",
    "tags": []
   },
   "source": [
    "<!-- BEGIN QUESTION --> \n",
    "\n",
    "<font color = #d14d0f>**QUESTION 5**:</font> What should we fill in the two blanks of the group function based on the description above? \n",
    "\n",
    "We will answer this question as a class on PollEverywhere! **Click this link: [PollEv.com/skyep134](PollEv.com/skyep134)**"
   ]
  },
  {
   "cell_type": "code",
   "execution_count": 105,
   "metadata": {
    "cell_id": "00050-db1a1108-e2fe-4de8-86f9-e7ec9ae91083",
    "deepnote_cell_height": 162.1875,
    "deepnote_cell_type": "code",
    "deepnote_to_be_reexecuted": false,
    "execution_millis": 28,
    "execution_start": 1649660756872,
    "source_hash": "604b505",
    "tags": [
     "ignore"
    ]
   },
   "outputs": [
    {
     "ename": "TypeError",
     "evalue": "column functions must be callable",
     "output_type": "error",
     "traceback": [
      "\u001b[0;31m---------------------------------------------------------------------------\u001b[0m",
      "\u001b[0;31mTypeError\u001b[0m                                 Traceback (most recent call last)",
      "Input \u001b[0;32mIn [105]\u001b[0m, in \u001b[0;36m<cell line: 1>\u001b[0;34m()\u001b[0m\n\u001b[0;32m----> 1\u001b[0m design_capacity_ca \u001b[38;5;241m=\u001b[39m \u001b[43myear_and_design_capacity\u001b[49m\u001b[38;5;241;43m.\u001b[39;49m\u001b[43mselect\u001b[49m\u001b[43m(\u001b[49m\u001b[38;5;124;43m'\u001b[39;49m\u001b[38;5;124;43myear\u001b[39;49m\u001b[38;5;124;43m'\u001b[39;49m\u001b[43m,\u001b[49m\u001b[43m \u001b[49m\u001b[38;5;124;43m'\u001b[39;49m\u001b[38;5;124;43mdesigned_capacity\u001b[39;49m\u001b[38;5;124;43m'\u001b[39;49m\u001b[43m)\u001b[49m\u001b[38;5;241;43m.\u001b[39;49m\u001b[43mgroup\u001b[49m\u001b[43m(\u001b[49m\u001b[38;5;241;43m.\u001b[39;49m\u001b[38;5;241;43m.\u001b[39;49m\u001b[38;5;241;43m.\u001b[39;49m\u001b[43m,\u001b[49m\u001b[43m \u001b[49m\u001b[38;5;241;43m.\u001b[39;49m\u001b[38;5;241;43m.\u001b[39;49m\u001b[38;5;241;43m.\u001b[39;49m\u001b[43m)\u001b[49m\n\u001b[1;32m      2\u001b[0m design_capacity_ca\u001b[38;5;241m.\u001b[39mshow(\u001b[38;5;241m3\u001b[39m)\n",
      "File \u001b[0;32m/opt/conda/lib/python3.9/site-packages/datascience/tables.py:1488\u001b[0m, in \u001b[0;36mTable.group\u001b[0;34m(self, column_or_label, collect)\u001b[0m\n\u001b[1;32m   1485\u001b[0m     \u001b[38;5;28;01mreturn\u001b[39;00m \u001b[38;5;28mself\u001b[39m\u001b[38;5;241m.\u001b[39mgroups(column_or_label, collect)\n\u001b[1;32m   1487\u001b[0m \u001b[38;5;28mself\u001b[39m \u001b[38;5;241m=\u001b[39m \u001b[38;5;28mself\u001b[39m\u001b[38;5;241m.\u001b[39mcopy(shallow\u001b[38;5;241m=\u001b[39m\u001b[38;5;28;01mTrue\u001b[39;00m)\n\u001b[0;32m-> 1488\u001b[0m collect \u001b[38;5;241m=\u001b[39m \u001b[43m_zero_on_type_error\u001b[49m\u001b[43m(\u001b[49m\u001b[43mcollect\u001b[49m\u001b[43m)\u001b[49m\n\u001b[1;32m   1490\u001b[0m \u001b[38;5;66;03m# Remove column used for grouping\u001b[39;00m\n\u001b[1;32m   1491\u001b[0m column \u001b[38;5;241m=\u001b[39m \u001b[38;5;28mself\u001b[39m\u001b[38;5;241m.\u001b[39m_get_column(column_or_label)\n",
      "File \u001b[0;32m/opt/conda/lib/python3.9/site-packages/datascience/tables.py:5092\u001b[0m, in \u001b[0;36m_zero_on_type_error\u001b[0;34m(column_fn)\u001b[0m\n\u001b[1;32m   5090\u001b[0m     \u001b[38;5;28;01mreturn\u001b[39;00m column_fn\n\u001b[1;32m   5091\u001b[0m \u001b[38;5;28;01mif\u001b[39;00m \u001b[38;5;129;01mnot\u001b[39;00m callable(column_fn):\n\u001b[0;32m-> 5092\u001b[0m     \u001b[38;5;28;01mraise\u001b[39;00m \u001b[38;5;167;01mTypeError\u001b[39;00m(\u001b[38;5;124m'\u001b[39m\u001b[38;5;124mcolumn functions must be callable\u001b[39m\u001b[38;5;124m'\u001b[39m)\n\u001b[1;32m   5093\u001b[0m \u001b[38;5;129m@functools\u001b[39m\u001b[38;5;241m.\u001b[39mwraps(column_fn)\n\u001b[1;32m   5094\u001b[0m \u001b[38;5;28;01mdef\u001b[39;00m \u001b[38;5;21mwrapped\u001b[39m(column):\n\u001b[1;32m   5095\u001b[0m     \u001b[38;5;28;01mtry\u001b[39;00m:\n",
      "\u001b[0;31mTypeError\u001b[0m: column functions must be callable"
     ]
    }
   ],
   "source": [
    "design_capacity_ca = year_and_design_capacity.select('year', 'designed_capacity').group(..., ...)\n",
    "design_capacity_ca.show(3)"
   ]
  },
  {
   "cell_type": "markdown",
   "metadata": {
    "cell_id": "75c995713296424989634211801fb9cb",
    "deepnote_cell_height": 52.390625,
    "deepnote_cell_type": "markdown",
    "tags": []
   },
   "source": [
    "<!-- END QUESTION --> \n",
    "\n",
    "Your table should now look like this:"
   ]
  },
  {
   "cell_type": "markdown",
   "metadata": {
    "cell_id": "5dbfacdb0a474cbd8292dfa416c7cefb",
    "deepnote_cell_height": 372,
    "deepnote_cell_type": "markdown",
    "tags": []
   },
   "source": [
    "<img src=\"./data/designed_capacity_image.png\" alt= \"Your table should turn out like this\"/>"
   ]
  },
  {
   "cell_type": "markdown",
   "metadata": {
    "cell_id": "00051-5b6f6966-20f4-4995-acdf-b10f5b2906ff",
    "deepnote_cell_height": 363.171875,
    "deepnote_cell_type": "markdown",
    "tags": [
     "ignore"
    ]
   },
   "source": [
    "<!-- END QUESTION --> \n",
    "\n",
    "**Plotting**: Although it is possible to compare the values for designed capacity year by year and try to notice a pattern, often times it is more useful to visually inspect the information as it might reveal useful insights and provide a context for the data we are looking at.\n",
    "\n",
    "Below we drew a line plot to reflect the changes in design capacity of California's state prisons over time.\n",
    "\n",
    "In order to plot a trend of our data we will use a `plot()` function that takes in two inputs: `plot(x, y)`, where the `x` and `y` represent two column names that you would like to plot along the x and y axis respectively. We then append this to our table's name using dot notation. This tells the computer in which table to look for those columns.\n",
    "\n",
    "To appropriately label our plot we can use `plt.xlabel('x_axis_name')` and `plt.ylabel('y_axis_name')` to label our axes and `plt.title('plot_title')` for our plot's main title. Notice that we didn't attach any particular table's name via dot notation. These are not table functions but basic plot functionalities from another Python library we loaded at the start of this notebook! In order for them to work, however, they must be run *after* you have created a plot. Take a look below!"
   ]
  },
  {
   "cell_type": "code",
   "execution_count": 106,
   "metadata": {
    "cell_id": "00052-f4e1a0bc-cf77-428d-8b5b-7fed486dcebb",
    "deepnote_cell_height": 592,
    "deepnote_cell_type": "code",
    "deepnote_output_heights": [
     423
    ],
    "deepnote_to_be_reexecuted": true,
    "execution_millis": 403,
    "execution_start": 1649359069867,
    "source_hash": "272d5d0",
    "tags": [
     "ignore"
    ]
   },
   "outputs": [
    {
     "ename": "ValueError",
     "evalue": "The column \"designed_capacity sum\" is not in the table. The table contains these columns: year, designed_capacity",
     "output_type": "error",
     "traceback": [
      "\u001b[0;31m---------------------------------------------------------------------------\u001b[0m",
      "\u001b[0;31mValueError\u001b[0m                                Traceback (most recent call last)",
      "Input \u001b[0;32mIn [106]\u001b[0m, in \u001b[0;36m<cell line: 1>\u001b[0;34m()\u001b[0m\n\u001b[0;32m----> 1\u001b[0m \u001b[43mdesign_capacity_ca\u001b[49m\u001b[38;5;241;43m.\u001b[39;49m\u001b[43mplot\u001b[49m\u001b[43m(\u001b[49m\u001b[38;5;124;43m\"\u001b[39;49m\u001b[38;5;124;43myear\u001b[39;49m\u001b[38;5;124;43m\"\u001b[39;49m\u001b[43m,\u001b[49m\u001b[43m \u001b[49m\u001b[38;5;124;43m\"\u001b[39;49m\u001b[38;5;124;43mdesigned_capacity sum\u001b[39;49m\u001b[38;5;124;43m\"\u001b[39;49m\u001b[43m)\u001b[49m\n\u001b[1;32m      3\u001b[0m plt\u001b[38;5;241m.\u001b[39mxlabel(\u001b[38;5;124m\"\u001b[39m\u001b[38;5;124mYear\u001b[39m\u001b[38;5;124m\"\u001b[39m)\n\u001b[1;32m      4\u001b[0m plt\u001b[38;5;241m.\u001b[39mylabel(\u001b[38;5;124m\"\u001b[39m\u001b[38;5;124mPopulation\u001b[39m\u001b[38;5;124m\"\u001b[39m)\n",
      "File \u001b[0;32m/opt/conda/lib/python3.9/site-packages/datascience/tables.py:2850\u001b[0m, in \u001b[0;36mTable.plot\u001b[0;34m(self, column_for_xticks, select, overlay, width, height, **vargs)\u001b[0m\n\u001b[1;32m   2847\u001b[0m     \u001b[38;5;28;01melse\u001b[39;00m:\n\u001b[1;32m   2848\u001b[0m         axis\u001b[38;5;241m.\u001b[39mplot(x_data, \u001b[38;5;28mself\u001b[39m[label], color\u001b[38;5;241m=\u001b[39mcolor, \u001b[38;5;241m*\u001b[39m\u001b[38;5;241m*\u001b[39moptions)\n\u001b[0;32m-> 2850\u001b[0m \u001b[38;5;28;43mself\u001b[39;49m\u001b[38;5;241;43m.\u001b[39;49m\u001b[43m_visualize\u001b[49m\u001b[43m(\u001b[49m\u001b[43mx_label\u001b[49m\u001b[43m,\u001b[49m\u001b[43m \u001b[49m\u001b[43my_labels\u001b[49m\u001b[43m,\u001b[49m\u001b[43m \u001b[49m\u001b[38;5;28;43;01mNone\u001b[39;49;00m\u001b[43m,\u001b[49m\u001b[43m \u001b[49m\u001b[43moverlay\u001b[49m\u001b[43m,\u001b[49m\u001b[43m \u001b[49m\u001b[43mdraw\u001b[49m\u001b[43m,\u001b[49m\u001b[43m \u001b[49m\u001b[43m_vertical_x\u001b[49m\u001b[43m,\u001b[49m\u001b[43m \u001b[49m\u001b[43mwidth\u001b[49m\u001b[38;5;241;43m=\u001b[39;49m\u001b[43mwidth\u001b[49m\u001b[43m,\u001b[49m\u001b[43m \u001b[49m\u001b[43mheight\u001b[49m\u001b[38;5;241;43m=\u001b[39;49m\u001b[43mheight\u001b[49m\u001b[43m)\u001b[49m\n",
      "File \u001b[0;32m/opt/conda/lib/python3.9/site-packages/datascience/tables.py:4019\u001b[0m, in \u001b[0;36mTable._visualize\u001b[0;34m(self, x_label, y_labels, ticks, overlay, draw, annotate, width, height)\u001b[0m\n\u001b[1;32m   4012\u001b[0m \u001b[38;5;124;03m\"\"\"Generic visualization that overlays or separates the draw function.\u001b[39;00m\n\u001b[1;32m   4013\u001b[0m \n\u001b[1;32m   4014\u001b[0m \u001b[38;5;124;03mRaises:\u001b[39;00m\n\u001b[1;32m   4015\u001b[0m \u001b[38;5;124;03m    ValueError: The Table contains non-numerical values in columns\u001b[39;00m\n\u001b[1;32m   4016\u001b[0m \u001b[38;5;124;03m    other than `column_for_categories`\u001b[39;00m\n\u001b[1;32m   4017\u001b[0m \u001b[38;5;124;03m\"\"\"\u001b[39;00m\n\u001b[1;32m   4018\u001b[0m \u001b[38;5;28;01mfor\u001b[39;00m label \u001b[38;5;129;01min\u001b[39;00m y_labels:\n\u001b[0;32m-> 4019\u001b[0m     \u001b[38;5;28;01mif\u001b[39;00m \u001b[38;5;129;01mnot\u001b[39;00m \u001b[38;5;28mall\u001b[39m(\u001b[38;5;28misinstance\u001b[39m(x, numbers\u001b[38;5;241m.\u001b[39mReal) \u001b[38;5;28;01mfor\u001b[39;00m x \u001b[38;5;129;01min\u001b[39;00m \u001b[38;5;28;43mself\u001b[39;49m\u001b[43m[\u001b[49m\u001b[43mlabel\u001b[49m\u001b[43m]\u001b[49m):\n\u001b[1;32m   4020\u001b[0m         \u001b[38;5;28;01mraise\u001b[39;00m \u001b[38;5;167;01mValueError\u001b[39;00m(\u001b[38;5;124m\"\u001b[39m\u001b[38;5;124mThe column \u001b[39m\u001b[38;5;124m'\u001b[39m\u001b[38;5;132;01m{0}\u001b[39;00m\u001b[38;5;124m'\u001b[39m\u001b[38;5;124m contains non-numerical \u001b[39m\u001b[38;5;124m\"\u001b[39m\n\u001b[1;32m   4021\u001b[0m             \u001b[38;5;124m\"\u001b[39m\u001b[38;5;124mvalues. A plot cannot be drawn for this column.\u001b[39m\u001b[38;5;124m\"\u001b[39m\n\u001b[1;32m   4022\u001b[0m             \u001b[38;5;241m.\u001b[39mformat(label))\n\u001b[1;32m   4024\u001b[0m n \u001b[38;5;241m=\u001b[39m \u001b[38;5;28mlen\u001b[39m(y_labels)\n",
      "File \u001b[0;32m/opt/conda/lib/python3.9/site-packages/datascience/tables.py:198\u001b[0m, in \u001b[0;36mTable.__getitem__\u001b[0;34m(self, index_or_label)\u001b[0m\n\u001b[1;32m    197\u001b[0m \u001b[38;5;28;01mdef\u001b[39;00m \u001b[38;5;21m__getitem__\u001b[39m(\u001b[38;5;28mself\u001b[39m, index_or_label):\n\u001b[0;32m--> 198\u001b[0m     \u001b[38;5;28;01mreturn\u001b[39;00m \u001b[38;5;28;43mself\u001b[39;49m\u001b[38;5;241;43m.\u001b[39;49m\u001b[43mcolumn\u001b[49m\u001b[43m(\u001b[49m\u001b[43mindex_or_label\u001b[49m\u001b[43m)\u001b[49m\n",
      "File \u001b[0;32m/opt/conda/lib/python3.9/site-packages/datascience/tables.py:365\u001b[0m, in \u001b[0;36mTable.column\u001b[0;34m(self, index_or_label)\u001b[0m\n\u001b[1;32m    340\u001b[0m \u001b[38;5;124;03m\"\"\"Return the values of a column as an array.\u001b[39;00m\n\u001b[1;32m    341\u001b[0m \n\u001b[1;32m    342\u001b[0m \u001b[38;5;124;03mtable.column(label) is equivalent to table[label].\u001b[39;00m\n\u001b[0;32m   (...)\u001b[0m\n\u001b[1;32m    361\u001b[0m \u001b[38;5;124;03m    ``ValueError``: When the ``index_or_label`` is not in the table.\u001b[39;00m\n\u001b[1;32m    362\u001b[0m \u001b[38;5;124;03m\"\"\"\u001b[39;00m\n\u001b[1;32m    363\u001b[0m \u001b[38;5;28;01mif\u001b[39;00m (\u001b[38;5;28misinstance\u001b[39m(index_or_label, \u001b[38;5;28mstr\u001b[39m)\n\u001b[1;32m    364\u001b[0m         \u001b[38;5;129;01mand\u001b[39;00m index_or_label \u001b[38;5;129;01mnot\u001b[39;00m \u001b[38;5;129;01min\u001b[39;00m \u001b[38;5;28mself\u001b[39m\u001b[38;5;241m.\u001b[39mlabels):\n\u001b[0;32m--> 365\u001b[0m     \u001b[38;5;28;01mraise\u001b[39;00m \u001b[38;5;167;01mValueError\u001b[39;00m(\n\u001b[1;32m    366\u001b[0m         \u001b[38;5;124m'\u001b[39m\u001b[38;5;124mThe column \u001b[39m\u001b[38;5;124m\"\u001b[39m\u001b[38;5;132;01m{}\u001b[39;00m\u001b[38;5;124m\"\u001b[39m\u001b[38;5;124m is not in the table. The table contains \u001b[39m\u001b[38;5;124m'\u001b[39m\n\u001b[1;32m    367\u001b[0m         \u001b[38;5;124m'\u001b[39m\u001b[38;5;124mthese columns: \u001b[39m\u001b[38;5;132;01m{}\u001b[39;00m\u001b[38;5;124m'\u001b[39m\n\u001b[1;32m    368\u001b[0m         \u001b[38;5;241m.\u001b[39mformat(index_or_label, \u001b[38;5;124m'\u001b[39m\u001b[38;5;124m, \u001b[39m\u001b[38;5;124m'\u001b[39m\u001b[38;5;241m.\u001b[39mjoin(\u001b[38;5;28mself\u001b[39m\u001b[38;5;241m.\u001b[39mlabels))\n\u001b[1;32m    369\u001b[0m     )\n\u001b[1;32m    370\u001b[0m \u001b[38;5;28;01mif\u001b[39;00m (\u001b[38;5;28misinstance\u001b[39m(index_or_label, \u001b[38;5;28mint\u001b[39m)\n\u001b[1;32m    371\u001b[0m         \u001b[38;5;129;01mand\u001b[39;00m \u001b[38;5;129;01mnot\u001b[39;00m \u001b[38;5;241m0\u001b[39m \u001b[38;5;241m<\u001b[39m\u001b[38;5;241m=\u001b[39m index_or_label \u001b[38;5;241m<\u001b[39m \u001b[38;5;28mlen\u001b[39m(\u001b[38;5;28mself\u001b[39m\u001b[38;5;241m.\u001b[39mlabels)):\n\u001b[1;32m    372\u001b[0m     \u001b[38;5;28;01mraise\u001b[39;00m \u001b[38;5;167;01mValueError\u001b[39;00m(\n\u001b[1;32m    373\u001b[0m         \u001b[38;5;124m'\u001b[39m\u001b[38;5;124mThe index \u001b[39m\u001b[38;5;132;01m{}\u001b[39;00m\u001b[38;5;124m is not in the table. Only indices between \u001b[39m\u001b[38;5;124m'\u001b[39m\n\u001b[1;32m    374\u001b[0m         \u001b[38;5;124m'\u001b[39m\u001b[38;5;124m0 and \u001b[39m\u001b[38;5;132;01m{}\u001b[39;00m\u001b[38;5;124m are valid\u001b[39m\u001b[38;5;124m'\u001b[39m\n\u001b[1;32m    375\u001b[0m         \u001b[38;5;241m.\u001b[39mformat(index_or_label, \u001b[38;5;28mlen\u001b[39m(\u001b[38;5;28mself\u001b[39m\u001b[38;5;241m.\u001b[39mlabels) \u001b[38;5;241m-\u001b[39m \u001b[38;5;241m1\u001b[39m)\n\u001b[1;32m    376\u001b[0m     )\n",
      "\u001b[0;31mValueError\u001b[0m: The column \"designed_capacity sum\" is not in the table. The table contains these columns: year, designed_capacity"
     ]
    }
   ],
   "source": [
    "design_capacity_ca.plot(\"year\", \"designed_capacity sum\")\n",
    "\n",
    "plt.xlabel(\"Year\")\n",
    "plt.ylabel(\"Population\")\n",
    "plt.title(\"Designed Capacity over Time\"); # This semicolon is here for style purposes"
   ]
  },
  {
   "cell_type": "markdown",
   "metadata": {
    "cell_id": "00053-1eee7cd1-cd14-420e-9a5b-866f86020349",
    "deepnote_cell_height": 133.59375,
    "deepnote_cell_type": "markdown",
    "tags": [
     "ignore"
    ]
   },
   "source": [
    "We will focus on some years that mark important shifts as a result of realignment.\n",
    "\n",
    "Let's look at the year 2011. To do this we will employ a new table function to select data only **where** the year is equal to 2011. This function is appropriately named the `where()` function and takes in two inputs: a column name and a year (in that order)."
   ]
  },
  {
   "cell_type": "code",
   "execution_count": 107,
   "metadata": {
    "cell_id": "00054-cb241124-c7b8-4775-9613-9f0e451ffc75",
    "deepnote_cell_height": 176,
    "deepnote_cell_type": "code",
    "deepnote_output_heights": [
     61
    ],
    "deepnote_to_be_reexecuted": true,
    "execution_millis": 3,
    "execution_start": 1649356398281,
    "source_hash": "724cfe10"
   },
   "outputs": [
    {
     "data": {
      "text/html": [
       "<table border=\"1\" class=\"dataframe\">\n",
       "    <thead>\n",
       "        <tr>\n",
       "            <th>year</th> <th>designed_capacity</th>\n",
       "        </tr>\n",
       "    </thead>\n",
       "    <tbody>\n",
       "        <tr>\n",
       "            <td>2011</td> <td>2004             </td>\n",
       "        </tr>\n",
       "        <tr>\n",
       "            <td>2011</td> <td>1386             </td>\n",
       "        </tr>\n",
       "        <tr>\n",
       "            <td>2011</td> <td>2984             </td>\n",
       "        </tr>\n",
       "        <tr>\n",
       "            <td>2011</td> <td>2388             </td>\n",
       "        </tr>\n",
       "        <tr>\n",
       "            <td>2011</td> <td>2200             </td>\n",
       "        </tr>\n",
       "        <tr>\n",
       "            <td>2011</td> <td>2308             </td>\n",
       "        </tr>\n",
       "        <tr>\n",
       "            <td>2011</td> <td>2380             </td>\n",
       "        </tr>\n",
       "        <tr>\n",
       "            <td>2011</td> <td>2694             </td>\n",
       "        </tr>\n",
       "        <tr>\n",
       "            <td>2011</td> <td>1700             </td>\n",
       "        </tr>\n",
       "        <tr>\n",
       "            <td>2011</td> <td>2448             </td>\n",
       "        </tr>\n",
       "    </tbody>\n",
       "</table>\n",
       "<p>... (386 rows omitted)</p>"
      ],
      "text/plain": [
       "year | designed_capacity\n",
       "2011 | 2004\n",
       "2011 | 1386\n",
       "2011 | 2984\n",
       "2011 | 2388\n",
       "2011 | 2200\n",
       "2011 | 2308\n",
       "2011 | 2380\n",
       "2011 | 2694\n",
       "2011 | 1700\n",
       "2011 | 2448\n",
       "... (386 rows omitted)"
      ]
     },
     "execution_count": 107,
     "metadata": {},
     "output_type": "execute_result"
    }
   ],
   "source": [
    "design_capacity_2011 = design_capacity_ca.where(\"year\", 2011)\n",
    "design_capacity_2011"
   ]
  },
  {
   "cell_type": "markdown",
   "metadata": {
    "cell_id": "00055-109949c8-8648-4d7c-bdb7-769a8485bd2c",
    "deepnote_cell_height": 97.1875,
    "deepnote_cell_type": "markdown",
    "tags": [
     "ignore"
    ]
   },
   "source": [
    "To emphasize this year and visualize it more easily on our trend line, we will run some code that will create a dot where the year equals 2011. Don't worry about the code used, but feel free to read through it if you're interested in seeing how we created this marker."
   ]
  },
  {
   "cell_type": "code",
   "execution_count": 108,
   "metadata": {
    "cell_id": "00056-52ea73d9-0818-4e21-98c1-165d1932776f",
    "deepnote_cell_height": 736,
    "deepnote_cell_type": "code",
    "deepnote_output_heights": [
     423
    ],
    "deepnote_to_be_reexecuted": true,
    "execution_millis": 423,
    "execution_start": 1649356406586,
    "source_hash": "c7e57450",
    "tags": [
     "include"
    ]
   },
   "outputs": [
    {
     "ename": "ValueError",
     "evalue": "The column \"designed_capacity sum\" is not in the table. The table contains these columns: year, designed_capacity",
     "output_type": "error",
     "traceback": [
      "\u001b[0;31m---------------------------------------------------------------------------\u001b[0m",
      "\u001b[0;31mValueError\u001b[0m                                Traceback (most recent call last)",
      "Input \u001b[0;32mIn [108]\u001b[0m, in \u001b[0;36m<cell line: 5>\u001b[0;34m()\u001b[0m\n\u001b[1;32m      2\u001b[0m x_coordinate_2011 \u001b[38;5;241m=\u001b[39m design_capacity_2011\u001b[38;5;241m.\u001b[39mcolumn(\u001b[38;5;124m'\u001b[39m\u001b[38;5;124myear\u001b[39m\u001b[38;5;124m'\u001b[39m)\n\u001b[1;32m      4\u001b[0m \u001b[38;5;66;03m# Assign the designed capacity sum in the year 2011 as the y-coordinate\u001b[39;00m\n\u001b[0;32m----> 5\u001b[0m y_coordinate_2011 \u001b[38;5;241m=\u001b[39m \u001b[43mdesign_capacity_2011\u001b[49m\u001b[38;5;241;43m.\u001b[39;49m\u001b[43mcolumn\u001b[49m\u001b[43m(\u001b[49m\u001b[38;5;124;43m\"\u001b[39;49m\u001b[38;5;124;43mdesigned_capacity sum\u001b[39;49m\u001b[38;5;124;43m\"\u001b[39;49m\u001b[43m)\u001b[49m\n\u001b[1;32m      7\u001b[0m design_capacity_ca\u001b[38;5;241m.\u001b[39mplot(\u001b[38;5;124m\"\u001b[39m\u001b[38;5;124myear\u001b[39m\u001b[38;5;124m\"\u001b[39m, \u001b[38;5;124m\"\u001b[39m\u001b[38;5;124mdesigned_capacity sum\u001b[39m\u001b[38;5;124m\"\u001b[39m); \u001b[38;5;66;03m# Plot our trend\u001b[39;00m\n\u001b[1;32m      9\u001b[0m plt\u001b[38;5;241m.\u001b[39mxlabel(\u001b[38;5;124m\"\u001b[39m\u001b[38;5;124mYear\u001b[39m\u001b[38;5;124m\"\u001b[39m)\n",
      "File \u001b[0;32m/opt/conda/lib/python3.9/site-packages/datascience/tables.py:365\u001b[0m, in \u001b[0;36mTable.column\u001b[0;34m(self, index_or_label)\u001b[0m\n\u001b[1;32m    340\u001b[0m \u001b[38;5;124;03m\"\"\"Return the values of a column as an array.\u001b[39;00m\n\u001b[1;32m    341\u001b[0m \n\u001b[1;32m    342\u001b[0m \u001b[38;5;124;03mtable.column(label) is equivalent to table[label].\u001b[39;00m\n\u001b[0;32m   (...)\u001b[0m\n\u001b[1;32m    361\u001b[0m \u001b[38;5;124;03m    ``ValueError``: When the ``index_or_label`` is not in the table.\u001b[39;00m\n\u001b[1;32m    362\u001b[0m \u001b[38;5;124;03m\"\"\"\u001b[39;00m\n\u001b[1;32m    363\u001b[0m \u001b[38;5;28;01mif\u001b[39;00m (\u001b[38;5;28misinstance\u001b[39m(index_or_label, \u001b[38;5;28mstr\u001b[39m)\n\u001b[1;32m    364\u001b[0m         \u001b[38;5;129;01mand\u001b[39;00m index_or_label \u001b[38;5;129;01mnot\u001b[39;00m \u001b[38;5;129;01min\u001b[39;00m \u001b[38;5;28mself\u001b[39m\u001b[38;5;241m.\u001b[39mlabels):\n\u001b[0;32m--> 365\u001b[0m     \u001b[38;5;28;01mraise\u001b[39;00m \u001b[38;5;167;01mValueError\u001b[39;00m(\n\u001b[1;32m    366\u001b[0m         \u001b[38;5;124m'\u001b[39m\u001b[38;5;124mThe column \u001b[39m\u001b[38;5;124m\"\u001b[39m\u001b[38;5;132;01m{}\u001b[39;00m\u001b[38;5;124m\"\u001b[39m\u001b[38;5;124m is not in the table. The table contains \u001b[39m\u001b[38;5;124m'\u001b[39m\n\u001b[1;32m    367\u001b[0m         \u001b[38;5;124m'\u001b[39m\u001b[38;5;124mthese columns: \u001b[39m\u001b[38;5;132;01m{}\u001b[39;00m\u001b[38;5;124m'\u001b[39m\n\u001b[1;32m    368\u001b[0m         \u001b[38;5;241m.\u001b[39mformat(index_or_label, \u001b[38;5;124m'\u001b[39m\u001b[38;5;124m, \u001b[39m\u001b[38;5;124m'\u001b[39m\u001b[38;5;241m.\u001b[39mjoin(\u001b[38;5;28mself\u001b[39m\u001b[38;5;241m.\u001b[39mlabels))\n\u001b[1;32m    369\u001b[0m     )\n\u001b[1;32m    370\u001b[0m \u001b[38;5;28;01mif\u001b[39;00m (\u001b[38;5;28misinstance\u001b[39m(index_or_label, \u001b[38;5;28mint\u001b[39m)\n\u001b[1;32m    371\u001b[0m         \u001b[38;5;129;01mand\u001b[39;00m \u001b[38;5;129;01mnot\u001b[39;00m \u001b[38;5;241m0\u001b[39m \u001b[38;5;241m<\u001b[39m\u001b[38;5;241m=\u001b[39m index_or_label \u001b[38;5;241m<\u001b[39m \u001b[38;5;28mlen\u001b[39m(\u001b[38;5;28mself\u001b[39m\u001b[38;5;241m.\u001b[39mlabels)):\n\u001b[1;32m    372\u001b[0m     \u001b[38;5;28;01mraise\u001b[39;00m \u001b[38;5;167;01mValueError\u001b[39;00m(\n\u001b[1;32m    373\u001b[0m         \u001b[38;5;124m'\u001b[39m\u001b[38;5;124mThe index \u001b[39m\u001b[38;5;132;01m{}\u001b[39;00m\u001b[38;5;124m is not in the table. Only indices between \u001b[39m\u001b[38;5;124m'\u001b[39m\n\u001b[1;32m    374\u001b[0m         \u001b[38;5;124m'\u001b[39m\u001b[38;5;124m0 and \u001b[39m\u001b[38;5;132;01m{}\u001b[39;00m\u001b[38;5;124m are valid\u001b[39m\u001b[38;5;124m'\u001b[39m\n\u001b[1;32m    375\u001b[0m         \u001b[38;5;241m.\u001b[39mformat(index_or_label, \u001b[38;5;28mlen\u001b[39m(\u001b[38;5;28mself\u001b[39m\u001b[38;5;241m.\u001b[39mlabels) \u001b[38;5;241m-\u001b[39m \u001b[38;5;241m1\u001b[39m)\n\u001b[1;32m    376\u001b[0m     )\n",
      "\u001b[0;31mValueError\u001b[0m: The column \"designed_capacity sum\" is not in the table. The table contains these columns: year, designed_capacity"
     ]
    }
   ],
   "source": [
    "# Assign the year 2011 as the x-coordinate\n",
    "x_coordinate_2011 = design_capacity_2011.column('year')\n",
    "\n",
    "# Assign the designed capacity sum in the year 2011 as the y-coordinate\n",
    "y_coordinate_2011 = design_capacity_2011.column(\"designed_capacity sum\")\n",
    "\n",
    "design_capacity_ca.plot(\"year\", \"designed_capacity sum\"); # Plot our trend\n",
    "\n",
    "plt.xlabel(\"Year\")\n",
    "plt.ylabel(\"Population\")\n",
    "plt.title(\"Design Capacity over time\")\n",
    "\n",
    "plt.plot(x_coordinate_2011, y_coordinate_2011, 'ro'); # Plot a single x,y coordinate"
   ]
  },
  {
   "cell_type": "markdown",
   "metadata": {
    "cell_id": "00057-bfb2d095-cb6c-42b8-9e01-4289a22c85b0",
    "deepnote_cell_height": 74.796875,
    "deepnote_cell_type": "markdown",
    "tags": [
     "include"
    ]
   },
   "source": [
    "<!-- BEGIN QUESTION --> \n",
    "\n",
    "<font color = #d14d0f>**QUESTION 6**:</font> In looking at the graph produced, how does it reflect the systematic changes in California's potential prison population? In particular, name a court case that is related to the red marker in our graph."
   ]
  },
  {
   "cell_type": "markdown",
   "metadata": {
    "cell_id": "00058-2ef65e15-8b2a-4c56-8164-8fb07af58274",
    "deepnote_cell_height": 52.390625,
    "deepnote_cell_type": "markdown",
    "tags": [
     "include"
    ]
   },
   "source": [
    "*Replace this text with your response!*"
   ]
  },
  {
   "cell_type": "markdown",
   "metadata": {
    "cell_id": "00059-bf7b37b5-1c20-4062-9eb4-3220903853a9",
    "deepnote_cell_height": 74.796875,
    "deepnote_cell_type": "markdown",
    "tags": [
     "include"
    ]
   },
   "source": [
    "<!-- END QUESTION --> \n",
    "<!-- BEGIN QUESTION --> \n",
    "\n",
    "<font color = #d14d0f>**QUESTION 7**:</font> Let's analyze our graph further; what do you think happened in 2006 that caused the spike we see?\n",
    "\n",
    "*Hint: Remember it is plotting the **sum**.*"
   ]
  },
  {
   "cell_type": "markdown",
   "metadata": {
    "cell_id": "00060-17597fc3-5c1f-4ccb-8e96-267ed7e43c28",
    "deepnote_cell_height": 52.390625,
    "deepnote_cell_type": "markdown",
    "tags": [
     "include"
    ]
   },
   "source": [
    "*Replace this text with your response!*"
   ]
  },
  {
   "cell_type": "markdown",
   "metadata": {
    "cell_id": "00061-0672360d-ea1c-4847-a51a-31796b4df01b",
    "deepnote_cell_height": 236.78125,
    "deepnote_cell_type": "markdown",
    "tags": [
     "ignore"
    ]
   },
   "source": [
    "<!-- END QUESTION --> \n",
    "\n",
    "#### Total Population in California's Prisons Over Time\n",
    "\n",
    "**Context**: In the last section, we observed the change in the number of people California's prisons are designed to hold. Given this change over time, we wanted to compare it with the actual number of people within California's prisons and see how the two quantities correlated. To do this, we will calculate the percent for how full prisons were based on *how many people each prison is designed to hold*.\n",
    "\n",
    "**Data Cleaning**: Once again, since we are interested in calculating prison population percentage based on design capacity, we need only a few columns from our `prisons_updated` table. We will select only `year`, `total_population`, and `designed_capacity`. We will call this new table `total_pop_and_design`."
   ]
  },
  {
   "cell_type": "code",
   "execution_count": 109,
   "metadata": {
    "cell_id": "00062-d79f7aac-5e78-40bd-873e-ae0f10993137",
    "deepnote_cell_height": 323.1875,
    "deepnote_cell_type": "code",
    "deepnote_output_heights": [
     208.1875
    ],
    "deepnote_to_be_reexecuted": true,
    "execution_millis": 10,
    "execution_start": 1649356762170,
    "source_hash": "734dd10b"
   },
   "outputs": [
    {
     "data": {
      "text/html": [
       "<table border=\"1\" class=\"dataframe\">\n",
       "    <thead>\n",
       "        <tr>\n",
       "            <th>year</th> <th>total_population</th> <th>designed_capacity</th>\n",
       "        </tr>\n",
       "    </thead>\n",
       "    <tbody>\n",
       "        <tr>\n",
       "            <td>1996</td> <td>790             </td> <td>400              </td>\n",
       "        </tr>\n",
       "        <tr>\n",
       "            <td>1996</td> <td>2859            </td> <td>2004             </td>\n",
       "        </tr>\n",
       "        <tr>\n",
       "            <td>1996</td> <td>794             </td> <td>500              </td>\n",
       "        </tr>\n",
       "        <tr>\n",
       "            <td>1996</td> <td>1726            </td> <td>1026             </td>\n",
       "        </tr>\n",
       "        <tr>\n",
       "            <td>1996</td> <td>4537            </td> <td>2484             </td>\n",
       "        </tr>\n",
       "    </tbody>\n",
       "</table>\n",
       "<p>... (10845 rows omitted)</p>"
      ],
      "text/plain": [
       "<IPython.core.display.HTML object>"
      ]
     },
     "metadata": {},
     "output_type": "display_data"
    }
   ],
   "source": [
    "total_pop_and_design = prisons_updated.select(\"year\", \"total_population\", \"designed_capacity\")\n",
    "total_pop_and_design.show(5)"
   ]
  },
  {
   "cell_type": "markdown",
   "metadata": {
    "cell_id": "00063-bc8502f9-92de-4b4e-86de-09752de0b7b4",
    "deepnote_cell_height": 74.796875,
    "deepnote_cell_type": "markdown",
    "tags": [
     "ignore"
    ]
   },
   "source": [
    "Similar to our last investigation, we will want to group by year and sum both `total_population` and `designed_capacity` for all prisons given a year."
   ]
  },
  {
   "cell_type": "code",
   "execution_count": 110,
   "metadata": {
    "cell_id": "00064-6b3577fa-7970-428a-98fb-f50d6269dc88",
    "deepnote_cell_height": 323.1875,
    "deepnote_cell_type": "code",
    "deepnote_output_heights": [
     208.1875
    ],
    "deepnote_to_be_reexecuted": true,
    "execution_millis": 925,
    "execution_start": 1649356782956,
    "source_hash": "1a8d63e9"
   },
   "outputs": [
    {
     "data": {
      "text/html": [
       "<table border=\"1\" class=\"dataframe\">\n",
       "    <thead>\n",
       "        <tr>\n",
       "            <th>year</th> <th>total_population sum</th> <th>designed_capacity sum</th>\n",
       "        </tr>\n",
       "    </thead>\n",
       "    <tbody>\n",
       "        <tr>\n",
       "            <td>1996</td> <td>1623806             </td> <td>873676               </td>\n",
       "        </tr>\n",
       "        <tr>\n",
       "            <td>1997</td> <td>1739423             </td> <td>910797               </td>\n",
       "        </tr>\n",
       "        <tr>\n",
       "            <td>1998</td> <td>1788142             </td> <td>956740               </td>\n",
       "        </tr>\n",
       "        <tr>\n",
       "            <td>1999</td> <td>1818019             </td> <td>958881               </td>\n",
       "        </tr>\n",
       "        <tr>\n",
       "            <td>2000</td> <td>1820519             </td> <td>965721               </td>\n",
       "        </tr>\n",
       "    </tbody>\n",
       "</table>\n",
       "<p>... (22 rows omitted)</p>"
      ],
      "text/plain": [
       "<IPython.core.display.HTML object>"
      ]
     },
     "metadata": {},
     "output_type": "display_data"
    }
   ],
   "source": [
    "sum_total_and_design = total_pop_and_design.group(\"year\", sum)\n",
    "sum_total_and_design.show(5)"
   ]
  },
  {
   "cell_type": "markdown",
   "metadata": {
    "cell_id": "00065-b69c0deb-9393-4635-8bf8-2525bc960866",
    "deepnote_cell_height": 119.59375,
    "deepnote_cell_type": "markdown",
    "tags": [
     "ignore"
    ]
   },
   "source": [
    "Now that we have our information grouped by year and summed over all the prisons, we can begin calculating our percentage. To get this percentage we must first assign all of our `total_population` values to a variable and do the same for `designed_capacity`. Then we will divide the `total_population` values by their corresponding `designed_capacity` and multiply by 100 to get the population percentage."
   ]
  },
  {
   "cell_type": "code",
   "execution_count": 111,
   "metadata": {
    "cell_id": "00066-61193cb8-b03a-4148-9487-790eee1b64a4",
    "deepnote_cell_height": 305.359375,
    "deepnote_cell_type": "code",
    "deepnote_output_heights": [
     136.359375
    ],
    "deepnote_to_be_reexecuted": true,
    "execution_millis": 12,
    "execution_start": 1649356816370,
    "source_hash": "c3c8494c"
   },
   "outputs": [
    {
     "data": {
      "text/plain": [
       "array([185.85905988, 190.97812136, 186.89947112, 189.59797931,\n",
       "       188.51397039, 186.46297264, 186.17592316, 188.84950734,\n",
       "       192.63564133, 190.09189001, 188.49532912, 195.52605312,\n",
       "       190.30095205, 183.36618572, 178.73669545, 173.23535445,\n",
       "       149.88321645, 144.95077023, 138.83530151, 132.72696534,\n",
       "       131.7232109 , 132.02795138, 131.94811151, 127.05008201,\n",
       "       116.88005829, 104.20563843, 109.3709892 ])"
      ]
     },
     "execution_count": 111,
     "metadata": {},
     "output_type": "execute_result"
    }
   ],
   "source": [
    "total_population = sum_total_and_design.column(\"total_population sum\") \n",
    "designed_sum = sum_total_and_design.column(\"designed_capacity sum\")\n",
    "\n",
    "capacity_percentage = (total_population / designed_sum) * 100\n",
    "capacity_percentage"
   ]
  },
  {
   "cell_type": "markdown",
   "metadata": {
    "cell_id": "00067-44c8b1a0-7132-4dc3-86ad-5dc8c3d35199",
    "deepnote_cell_height": 119.59375,
    "deepnote_cell_type": "markdown",
    "tags": [
     "ignore"
    ]
   },
   "source": [
    "Note that our output seems to be a list of numbers, separated by commas. This is because for every row, this percentage was calculated, meaning we should have a list (or in Python, this is called an **array**) that is the same length as the number of rows in our table! The code that follows will add this list of percentages back into our table so that we may plot them. Do not worry about the code below, but feel free to take a look!"
   ]
  },
  {
   "cell_type": "code",
   "execution_count": 112,
   "metadata": {
    "cell_id": "00068-04205b06-abc2-4043-a919-01db03bd11f2",
    "deepnote_cell_height": 301.1875,
    "deepnote_cell_type": "code",
    "deepnote_output_heights": [
     150.1875
    ],
    "deepnote_to_be_reexecuted": true,
    "execution_millis": 14,
    "execution_start": 1649356826893,
    "source_hash": "3269f9b7"
   },
   "outputs": [
    {
     "data": {
      "text/html": [
       "<table border=\"1\" class=\"dataframe\">\n",
       "    <thead>\n",
       "        <tr>\n",
       "            <th>year</th> <th>total_population sum</th> <th>designed_capacity sum</th> <th>Design Percent</th>\n",
       "        </tr>\n",
       "    </thead>\n",
       "    <tbody>\n",
       "        <tr>\n",
       "            <td>1996</td> <td>1623806             </td> <td>873676               </td> <td>185.859       </td>\n",
       "        </tr>\n",
       "        <tr>\n",
       "            <td>1997</td> <td>1739423             </td> <td>910797               </td> <td>190.978       </td>\n",
       "        </tr>\n",
       "        <tr>\n",
       "            <td>1998</td> <td>1788142             </td> <td>956740               </td> <td>186.899       </td>\n",
       "        </tr>\n",
       "    </tbody>\n",
       "</table>\n",
       "<p>... (24 rows omitted)</p>"
      ],
      "text/plain": [
       "<IPython.core.display.HTML object>"
      ]
     },
     "metadata": {},
     "output_type": "display_data"
    }
   ],
   "source": [
    "# Use .with_column() to add a new column with the percentages calculated above!\n",
    "total_and_design_and_percentages_table = sum_total_and_design.with_column(\"Design Percent\", capacity_percentage)\n",
    "\n",
    "total_and_design_and_percentages_table.show(3)"
   ]
  },
  {
   "cell_type": "markdown",
   "metadata": {
    "cell_id": "00069-a8feb1d8-20d5-4a65-83e9-26a1d044f59f",
    "deepnote_cell_height": 74.796875,
    "deepnote_cell_type": "markdown",
    "tags": [
     "include"
    ]
   },
   "source": [
    "<!-- BEGIN QUESTION --> \n",
    "\n",
    "<font color = #d14d0f>**QUESTION 8**:</font> What can you immediately comment on by looking at the top three percentage values in our new column?"
   ]
  },
  {
   "cell_type": "markdown",
   "metadata": {
    "cell_id": "00070-31734dc0-bdb2-428b-9261-9c7ca41a058c",
    "deepnote_cell_height": 52.390625,
    "deepnote_cell_type": "markdown",
    "tags": [
     "include"
    ]
   },
   "source": [
    "*Replace this text with your response!*"
   ]
  },
  {
   "cell_type": "markdown",
   "metadata": {
    "cell_id": "00071-7f41a56e-1b37-4aec-b22b-1d8879c655c8",
    "deepnote_cell_height": 183.984375,
    "deepnote_cell_type": "markdown",
    "tags": [
     "ignore"
    ]
   },
   "source": [
    "<!-- END QUESTION --> \n",
    "\n",
    "Now that we have our table set up correctly, we can plot how overcrowding has changed over time.\n",
    "\n",
    "**Plotting**: Using the same methods as before, we will draw a line plot to reflect the trend in overcrowding in California state prisons over time (plotting the percentage over time).\n",
    "<!-- BEGIN QUESTION --> \n",
    "\n",
    "<font color = #d14d0f>**QUESTION 9**:</font> Fill in the blank in the plot function below.\n",
    "\n",
    "*Hint: Remember that the format of this function is table.plot('column_on_x_axis', 'column_on_y_axis')*"
   ]
  },
  {
   "cell_type": "code",
   "execution_count": 113,
   "metadata": {
    "cell_id": "00072-8424877c-e666-4bd5-a399-bfd3ee783afd",
    "deepnote_cell_height": 216.1875,
    "deepnote_cell_type": "code",
    "deepnote_to_be_reexecuted": true,
    "execution_millis": 97,
    "execution_start": 1649356990420,
    "source_hash": "50dda8b7",
    "tags": [
     "include"
    ]
   },
   "outputs": [
    {
     "data": {
      "image/png": "[encoded data removed]",
      "text/plain": [
       "<Figure size 432x432 with 1 Axes>"
      ]
     },
     "metadata": {},
     "output_type": "display_data"
    }
   ],
   "source": [
    "total_and_design_and_percentages_table.plot(\"year\", 'Design Percent')\n",
    "\n",
    "plt.xlabel(\"Year\")\n",
    "plt.ylabel(\"Design Percent Occupied (%)\")\n",
    "plt.title(\"Overcrowding According to Designed Capacity\");"
   ]
  },
  {
   "cell_type": "markdown",
   "metadata": {
    "cell_id": "00073-118b8003-e40a-4bb3-8823-53a0f6f9a6f4",
    "deepnote_cell_height": 52.390625,
    "deepnote_cell_type": "markdown",
    "tags": [
     "include"
    ]
   },
   "source": [
    "<!-- END QUESTION --> \n",
    "<!-- BEGIN QUESTION --> \n",
    "\n",
    "<font color = #d14d0f>**QUESTION 10**:</font> What do you notice about this trend over time?"
   ]
  },
  {
   "cell_type": "markdown",
   "metadata": {
    "cell_id": "00074-0a53a075-073f-4bc8-a577-2c6c205309a9",
    "deepnote_cell_height": 52.390625,
    "deepnote_cell_type": "markdown",
    "tags": [
     "include"
    ]
   },
   "source": [
    "*Replace this text with your response!*"
   ]
  },
  {
   "cell_type": "markdown",
   "metadata": {
    "cell_id": "00075-6e48e710-a393-479d-a63c-6196023aa1b6",
    "deepnote_cell_height": 191.984375,
    "deepnote_cell_type": "markdown",
    "tags": [
     "ignore"
    ]
   },
   "source": [
    "<!-- END QUESTION --> \n",
    "\n",
    "#### Staffed Capacity\n",
    "\n",
    "We have now seen how prisons exceed the number of people allowed per designated space. Given the amount of overcrowding present in prisons, another key aspect we might want to investigate is the number of people employed to maintain this system. To visualize this, we will calculate the percentage of people within prisons given the amount of staff employed to maintain the prison.\n",
    "\n",
    "Using the same methods as before, we will select and graph this information."
   ]
  },
  {
   "cell_type": "code",
   "execution_count": 114,
   "metadata": {
    "cell_id": "00076-827533c8-ea3a-4154-a34c-90b6b7809377",
    "deepnote_cell_height": 481.1875,
    "deepnote_cell_type": "code",
    "deepnote_output_heights": [
     150.1875
    ],
    "deepnote_to_be_reexecuted": true,
    "execution_millis": 1016,
    "execution_start": 1649357100986,
    "source_hash": "3adfcf87"
   },
   "outputs": [
    {
     "data": {
      "text/html": [
       "<table border=\"1\" class=\"dataframe\">\n",
       "    <thead>\n",
       "        <tr>\n",
       "            <th>year</th> <th>total_population sum</th> <th>staffed_capacity sum</th> <th>Staff Percent</th>\n",
       "        </tr>\n",
       "    </thead>\n",
       "    <tbody>\n",
       "        <tr>\n",
       "            <td>1996</td> <td>1623806             </td> <td>1603264             </td> <td>101.281      </td>\n",
       "        </tr>\n",
       "        <tr>\n",
       "            <td>1997</td> <td>1739423             </td> <td>1713086             </td> <td>101.537      </td>\n",
       "        </tr>\n",
       "        <tr>\n",
       "            <td>1998</td> <td>1788142             </td> <td>1788475             </td> <td>99.9814      </td>\n",
       "        </tr>\n",
       "    </tbody>\n",
       "</table>\n",
       "<p>... (24 rows omitted)</p>"
      ],
      "text/plain": [
       "<IPython.core.display.HTML object>"
      ]
     },
     "metadata": {},
     "output_type": "display_data"
    }
   ],
   "source": [
    "# Select only the necessary columns\n",
    "total_pop_and_staff = prisons_updated.select(\"year\", \"total_population\", \"staffed_capacity\")\n",
    "\n",
    "# Group by year and sum all values for that year\n",
    "pop_and_staff_sum = total_pop_and_staff.group(\"year\", sum)\n",
    "\n",
    "population_column = pop_and_staff_sum.column(\"total_population sum\")\n",
    "staff_capacity_column = pop_and_staff_sum.column(\"staffed_capacity sum\")\n",
    "\n",
    "staff_capacity_percentage = (population_column / staff_capacity_column)* 100\n",
    "\n",
    "# Add a new column with our percentages\n",
    "staff_and_total_percent_table = pop_and_staff_sum.with_column(\"Staff Percent\", staff_capacity_percentage)\n",
    "staff_and_total_percent_table.show(3)"
   ]
  },
  {
   "cell_type": "markdown",
   "metadata": {
    "cell_id": "00077-15ea17db-d03c-43de-9de3-9d4e46ea65ff",
    "deepnote_cell_height": 52.390625,
    "deepnote_cell_type": "markdown",
    "tags": [
     "ignore"
    ]
   },
   "source": [
    "Now that we have our table set up nicely, we can begin the plotting process:"
   ]
  },
  {
   "cell_type": "code",
   "execution_count": 115,
   "metadata": {
    "cell_id": "00078-3439b67c-050d-41fb-a65c-158960d6fc11",
    "deepnote_cell_height": 592,
    "deepnote_cell_type": "code",
    "deepnote_output_heights": [
     423
    ],
    "deepnote_to_be_reexecuted": true,
    "execution_millis": 468,
    "execution_start": 1649357110305,
    "source_hash": "df8e40d6",
    "tags": [
     "include"
    ]
   },
   "outputs": [
    {
     "data": {
      "image/png": "[encoded data removed]",
      "text/plain": [
       "<Figure size 432x432 with 1 Axes>"
      ]
     },
     "metadata": {},
     "output_type": "display_data"
    }
   ],
   "source": [
    "staff_and_total_percent_table.plot(\"year\", \"Staff Percent\")\n",
    "\n",
    "plt.xlabel(\"Year\") \n",
    "plt.ylabel(\"Staff Percent Occupied (%)\")\n",
    "plt.title(\"Overcrowding according to Staffed Capacity\");"
   ]
  },
  {
   "cell_type": "markdown",
   "metadata": {
    "cell_id": "00079-ccaae74d-2d32-46be-9f38-ac4148a5304d",
    "deepnote_cell_height": 52.390625,
    "deepnote_cell_type": "markdown",
    "tags": [
     "include"
    ]
   },
   "source": [
    "<!-- BEGIN QUESTION --> \n",
    "\n",
    "<font color = #d14d0f>**QUESTION 11**:</font> What trends do you notice within the line plot?"
   ]
  },
  {
   "cell_type": "markdown",
   "metadata": {
    "cell_id": "00080-aa648d8f-cdfd-4fbe-a8f0-0d62fdfbfa31",
    "deepnote_cell_height": 52.390625,
    "deepnote_cell_type": "markdown",
    "tags": [
     "include"
    ]
   },
   "source": [
    "*Replace this text with your response!*"
   ]
  },
  {
   "cell_type": "markdown",
   "metadata": {
    "cell_id": "00081-7022a088-6ac1-441c-9945-ca537cd0dd65",
    "deepnote_cell_height": 54,
    "deepnote_cell_type": "markdown",
    "tags": [
     "ignore"
    ]
   },
   "source": [
    "<!-- END QUESTION --> \n",
    "\n",
    "#### Designed Capacity Versus Staff Capacity"
   ]
  },
  {
   "cell_type": "markdown",
   "metadata": {
    "cell_id": "00082-8f2cc3e1-3304-4fef-a508-8e20cb7d7d35",
    "deepnote_cell_height": 279.578125,
    "deepnote_cell_type": "markdown",
    "tags": [
     "ignore"
    ]
   },
   "source": [
    "In the last two examples, we saw how crowded prisons have been over time by looking at their designed capacity and staffed capacity. However, it is still unclear what the relationship between the two percentages is. The solution? Make another plot! This time we will include both of the percentages we calculated.\n",
    "\n",
    "To do this, we will create a new table with three columns, namely \n",
    "* Year\n",
    "* Design Percentage\n",
    "* Staff Percentage\n",
    "\n",
    "The code used to create this new table is shown below, however you are not required to know how to do this! But feel free to take a look."
   ]
  },
  {
   "cell_type": "code",
   "execution_count": 117,
   "metadata": {
    "cell_id": "00083-58e0a4e7-4e59-49c5-bfaa-5118148d3db0",
    "deepnote_cell_height": 775,
    "deepnote_cell_type": "code",
    "deepnote_output_heights": [
     426
    ],
    "deepnote_to_be_reexecuted": true,
    "execution_millis": 655,
    "execution_start": 1649357170026,
    "source_hash": "efc27e19",
    "tags": [
     "include"
    ]
   },
   "outputs": [
    {
     "data": {
      "image/png": "[encoded data removed]",
      "text/plain": [
       "<Figure size 432x432 with 1 Axes>"
      ]
     },
     "metadata": {},
     "output_type": "display_data"
    }
   ],
   "source": [
    "# Create a list/array of all the years we have data for\n",
    "years = np.arange(1996, 2022 + 1) # We add 1 to include 2022\n",
    "\n",
    "# Use our new years variable and capacity_percentage and staff_capacity_percentage\n",
    "# from before as new columns in a new table called compare_table_design_and_staff\n",
    "compare_table_design_and_staff = Table().with_columns([\"year\", years,\n",
    "                                    \"Design Percentage\", capacity_percentage,\n",
    "                                    \"Staff Percentage\", staff_capacity_percentage])\n",
    "\n",
    "# Create a plot as before!\n",
    "compare_table_design_and_staff.plot(\"year\") # Notice that we only include one column\n",
    "\n",
    "plt.xlabel(\"Year\")\n",
    "plt.ylabel(\"Percent Occupied\")\n",
    "plt.title(\"Designed Capacity versus Staff Capacity\");"
   ]
  },
  {
   "cell_type": "markdown",
   "metadata": {
    "cell_id": "00084-c52e1726-cdaf-469a-abf7-ccb5a439626d",
    "deepnote_cell_height": 74.796875,
    "deepnote_cell_type": "markdown",
    "tags": [
     "include"
    ]
   },
   "source": [
    "<!-- BEGIN QUESTION --> \n",
    "\n",
    "<font color = #d14d0f>**QUESTION 12:**</font> Consider the large gap between the two lines. Why is staff capacity much closer to 100% than designed capacity?"
   ]
  },
  {
   "cell_type": "markdown",
   "metadata": {
    "cell_id": "00085-e4fb7abf-9091-4484-80d4-45571a3a4dfb",
    "deepnote_cell_height": 52.390625,
    "deepnote_cell_type": "markdown",
    "tags": [
     "include"
    ]
   },
   "source": [
    "*Replace this text with your response!*"
   ]
  },
  {
   "cell_type": "markdown",
   "metadata": {
    "cell_id": "00086-f32b68b4-dab2-4218-8f11-d886b5415fdb",
    "deepnote_cell_height": 54,
    "deepnote_cell_type": "markdown",
    "tags": [
     "ignore"
    ]
   },
   "source": [
    "<!-- END QUESTION --> \n",
    "\n",
    "#### Interactive Widget"
   ]
  },
  {
   "cell_type": "markdown",
   "metadata": {
    "cell_id": "00087-142658ce-a218-4d5b-911c-e2c06310b580",
    "deepnote_cell_height": 97.1875,
    "deepnote_cell_type": "markdown",
    "tags": [
     "ignore"
    ]
   },
   "source": [
    "We have created an interactive widget for you in this section. In this example, you will be able to scroll through all of the prisons in California (numbered from 0 to 39, and you will see how the designed capacity versus population has changed over time.\n",
    "<font color = #d14d0f>**Run the following cell to load the widget!**</font>"
   ]
  },
  {
   "cell_type": "code",
   "execution_count": 118,
   "metadata": {
    "cell_id": "00088-eebe5900-ca1e-4e01-9476-0d293d42b016",
    "deepnote_cell_height": 198.1875,
    "deepnote_cell_type": "code",
    "deepnote_to_be_reexecuted": true,
    "execution_millis": 72,
    "execution_start": 1649357199907,
    "source_hash": "ba4bfdd4",
    "tags": [
     "ignore"
    ]
   },
   "outputs": [
    {
     "data": {
      "application/vnd.jupyter.widget-view+json": {
       "model_id": "859007fea04c43f382846b151eeb66a8",
       "version_major": 2,
       "version_minor": 0
      },
      "text/plain": [
       "VBox(children=(VBox(children=(IntSlider(value=0, description='Institution:', max=39),)), Output()))"
      ]
     },
     "metadata": {},
     "output_type": "display_data"
    },
    {
     "data": {
      "text/plain": [
       "<Figure size 432x288 with 0 Axes>"
      ]
     },
     "metadata": {},
     "output_type": "display_data"
    }
   ],
   "source": [
    "import warnings\n",
    "warnings.filterwarnings('ignore')\n",
    "%run -i scripts.py\n",
    "widgets.VBox([widgets.VBox([inp]), out])"
   ]
  },
  {
   "cell_type": "markdown",
   "metadata": {
    "cell_id": "00089-d00b9fdb-adf1-485f-94de-89f3db86e4ff",
    "deepnote_cell_height": 97.1875,
    "deepnote_cell_type": "markdown",
    "tags": [
     "include"
    ]
   },
   "source": [
    "<!-- BEGIN QUESTION --> \n",
    "\n",
    "<font color = #d14d0f>**On your own, QUESTION 13**:</font> Select any institution from the widget and analyze how that institution's designed capacity changed over time using the three highlighted points. Predict how the design capacity would compare with the staff capacity of that specific institution."
   ]
  },
  {
   "cell_type": "markdown",
   "metadata": {
    "cell_id": "00090-107ac6f3-894b-492a-a1fa-5c959ed8c2da",
    "deepnote_cell_height": 52.390625,
    "deepnote_cell_type": "markdown",
    "tags": [
     "include"
    ]
   },
   "source": [
    "*Replace this text with your response!*"
   ]
  },
  {
   "cell_type": "markdown",
   "metadata": {
    "cell_id": "00091-8f80f69e-4333-4dd2-93f8-100227441b3e",
    "deepnote_cell_height": 248.78125,
    "deepnote_cell_type": "markdown",
    "tags": [
     "ignore"
    ]
   },
   "source": [
    "<!-- END QUESTION --> \n",
    "\n",
    "### **Gender Division** <a id='subsection4'></a>\n",
    "\n",
    "**Context:** The system in place reinforces the idea that the average inmate holds certain characteristics. Since we have limited data sets we cannot investigate many aspects of this claim. However, in order to get a better understanding of the population that the prison industrial complex was made to hold, we will investigate a few variables such as gender divisions, design capacity, and staff capacity. \n",
    "\n",
    "Let's begin by looking at all the **unique** institutions on our dataset. To do this, we will use the `group()` function once again. The counts of the table below represent the number of months for which we have data given an institution. The maximum counts that any of the institutions *should* have is 324."
   ]
  },
  {
   "cell_type": "code",
   "execution_count": null,
   "metadata": {
    "cell_id": "00092-767133ed-f90d-474f-ba9e-da7a68d680ce",
    "deepnote_cell_height": 305.1875,
    "deepnote_cell_type": "code",
    "deepnote_output_heights": [
     208.1875
    ],
    "deepnote_to_be_reexecuted": true,
    "execution_millis": 1630,
    "execution_start": 1649357467818,
    "source_hash": "7c131b79"
   },
   "outputs": [],
   "source": [
    "prisons_updated.group(\"institution_name\").show(5)"
   ]
  },
  {
   "cell_type": "markdown",
   "metadata": {
    "cell_id": "00093-e58b9505-7bee-48eb-9ce3-a606bd72e383",
    "deepnote_cell_height": 385.578125,
    "deepnote_cell_type": "markdown",
    "tags": [
     "ignore"
    ]
   },
   "source": [
    "Since the data is made up of both male and female prisons, we will have to sort these prisons into separate groups before we can analyze them separately. However, we cannot ascertain whether a given institution is male or female-only given just the name. We had to double check whether an institution was male or female using sources outside of this notebook. \n",
    "\n",
    "One of the institutions that we found to be particularly interesting when looking at outside information was **VSP (VALLEY SP)**.\n",
    "\n",
    "The California Department of Corrections and Rehabilitation began converting Valley State Prison into a facility for low-risk male inmates in October 2012, and it was completed by January 2013. Click [HERE](https://web.archive.org/web/20120111104018/http://cdcrtoday.blogspot.com/2011/12/cdcr-announces-plan-to-convert-female.html) or [HERE](https://www.cdcr.ca.gov/Facilities_Locator/VSP.html) to learn more. \n",
    "\n",
    "From these links you will learn that this conversion came as a result of realignment policies. We can noted earlier that the monthly count for this institution was above 324, which could indicate monthly counts for male and female inmates, leading to a double count. Though we addressed this issue before we began working with the data at the beginning of the notebook, running these sanity checks is important in order to not obtain misleading results."
   ]
  },
  {
   "cell_type": "markdown",
   "metadata": {
    "cell_id": "00094-5bc5303a-fcf9-4db0-8980-6582178b17aa",
    "deepnote_cell_height": 54,
    "deepnote_cell_type": "markdown",
    "tags": [
     "ignore"
    ]
   },
   "source": [
    "#### Unique Female Prisons"
   ]
  },
  {
   "cell_type": "markdown",
   "metadata": {
    "cell_id": "00095-9e607d58-fd30-495c-9801-a0f3a77f229c",
    "deepnote_cell_height": 133.59375,
    "deepnote_cell_type": "markdown",
    "tags": [
     "ignore"
    ]
   },
   "source": [
    "In this section, we will organize the data corresponding to female institutions. In the cell below, we look only at the prisons which we know are strictly female. The following code creates a list or array of all the institutions we know to be strictly female.\n",
    "\n",
    "Note that our now separated \"Valley SP\" institution is included."
   ]
  },
  {
   "cell_type": "code",
   "execution_count": null,
   "metadata": {
    "cell_id": "00096-fdda2605-7ec3-479c-91ba-3e0daa2bf72a",
    "deepnote_cell_height": 117,
    "deepnote_cell_type": "code",
    "deepnote_to_be_reexecuted": true,
    "execution_millis": 8,
    "execution_start": 1649357476442,
    "source_hash": "9a0b1000"
   },
   "outputs": [],
   "source": [
    "female_institutions = make_array(\"CCWF (CENTRAL CA WOMEN'S FAC)\", 'CIW (CA INSTITUTION FOR WOMEN)',\n",
    "       'CRC (CAL REHAB CTR, WOMEN)', 'FOL (FOLSOM SP) (FEMALE)',\n",
    "       'FRCC (FRCCC BAKERSFIELD)', \"NCWF (NO CAL WOMEN'S FACIL)\", \"VALLEY SP (FEMALE)\")"
   ]
  },
  {
   "cell_type": "markdown",
   "metadata": {
    "cell_id": "00097-90f748cf-4e7a-45c3-a2d9-6222280fefc6",
    "deepnote_cell_height": 97.1875,
    "deepnote_cell_type": "markdown",
    "tags": [
     "ignore"
    ]
   },
   "source": [
    "**Filtering:** Now that we have a list of only the female serving institutions, we will create a new table in which only these select institutions are included. To do so, we will use a new table function for which you are not responsible. Take a look below!"
   ]
  },
  {
   "cell_type": "code",
   "execution_count": null,
   "metadata": {
    "cell_id": "00098-ad8b6a7e-26c1-4ef2-a634-ff5f4c6e1fa2",
    "deepnote_cell_height": 283.1875,
    "deepnote_cell_type": "code",
    "deepnote_output_heights": [
     150.1875
    ],
    "deepnote_to_be_reexecuted": true,
    "execution_millis": 209,
    "execution_start": 1649357478362,
    "source_hash": "3a692f14"
   },
   "outputs": [],
   "source": [
    "# Keep only the institutions in our list\n",
    "female_data = prisons_updated.where(\"institution_name\", are.contained_in(female_institutions))\n",
    "female_data.show(3)"
   ]
  },
  {
   "cell_type": "markdown",
   "metadata": {
    "cell_id": "00099-9dbf74b0-cecb-4bca-bde8-e8be622b800e",
    "deepnote_cell_height": 74.796875,
    "deepnote_cell_type": "markdown",
    "tags": [
     "ignore"
    ]
   },
   "source": [
    "Now we will group by institution to learn about the number of times a given institution appears in our data set. Again this should be *at most* 324."
   ]
  },
  {
   "cell_type": "code",
   "execution_count": null,
   "metadata": {
    "cell_id": "00100-2f663dc7-405a-4dc6-b0a7-d07adcb6b027",
    "deepnote_cell_height": 350,
    "deepnote_cell_type": "code",
    "deepnote_output_heights": [
     235
    ],
    "deepnote_to_be_reexecuted": true,
    "execution_millis": 201,
    "execution_start": 1649357481926,
    "source_hash": "bbfd99f7"
   },
   "outputs": [],
   "source": [
    "female_prisons = female_data.group(\"institution_name\")\n",
    "female_prisons"
   ]
  },
  {
   "cell_type": "markdown",
   "metadata": {
    "cell_id": "00101-ce9863bc-9d42-4b7b-b642-34fb24229c59",
    "deepnote_cell_height": 54,
    "deepnote_cell_type": "markdown",
    "tags": [
     "ignore"
    ]
   },
   "source": [
    "#### Design Capacity Versus Staff Capacity for Female Institutions"
   ]
  },
  {
   "cell_type": "markdown",
   "metadata": {
    "cell_id": "00102-668a62ad-e74e-442b-9cb0-7cb68104ec11",
    "deepnote_cell_height": 74.796875,
    "deepnote_cell_type": "markdown",
    "tags": [
     "ignore"
    ]
   },
   "source": [
    "Similar to the last sections, we will use the `select()` function to select necessary data in order to calculate the design versus staff capacities using our new `female_data` table."
   ]
  },
  {
   "cell_type": "code",
   "execution_count": null,
   "metadata": {
    "cell_id": "00103-9300e793-aec6-4881-b320-473adc037a97",
    "deepnote_cell_height": 265.1875,
    "deepnote_cell_type": "code",
    "deepnote_output_heights": [
     150.1875
    ],
    "deepnote_to_be_reexecuted": true,
    "execution_millis": 33,
    "execution_start": 1649357484184,
    "source_hash": "e4a14f5b"
   },
   "outputs": [],
   "source": [
    "fem_year_pop_capacities = female_data.select(\"year\", \"total_population\", \"designed_capacity\", \"staffed_capacity\")\n",
    "fem_year_pop_capacities.show(3)"
   ]
  },
  {
   "cell_type": "markdown",
   "metadata": {
    "cell_id": "00104-4ca482f9-4c80-4b79-97f8-b3436bdc6106",
    "deepnote_cell_height": 74.796875,
    "deepnote_cell_type": "markdown",
    "tags": [
     "ignore"
    ]
   },
   "source": [
    "We want to combine all the values within the same year across all institutions, so we will use the `group()` function and sum."
   ]
  },
  {
   "cell_type": "code",
   "execution_count": null,
   "metadata": {
    "cell_id": "00105-83cd0f96-eb45-47dc-8b64-8dea28ad7e3d",
    "deepnote_cell_height": 265.1875,
    "deepnote_cell_type": "code",
    "deepnote_output_heights": [
     150.1875
    ],
    "deepnote_to_be_reexecuted": true,
    "execution_millis": 160,
    "execution_start": 1649357487968,
    "source_hash": "53334a6d"
   },
   "outputs": [],
   "source": [
    "fem_year_groups = fem_year_pop_capacities.group(\"year\", sum)\n",
    "fem_year_groups.show(3)"
   ]
  },
  {
   "cell_type": "markdown",
   "metadata": {
    "cell_id": "00106-a9bdcfe3-f88a-4b8f-885e-c7c9f9da70ad",
    "deepnote_cell_height": 74.796875,
    "deepnote_cell_type": "markdown",
    "tags": [
     "ignore"
    ]
   },
   "source": [
    "Using the same techniques as in previous examples, we will calculate the designed capacity and staff capacity percentages."
   ]
  },
  {
   "cell_type": "code",
   "execution_count": null,
   "metadata": {
    "cell_id": "00107-0b8031b0-f744-4950-8f08-e42961c3c093",
    "deepnote_cell_height": 243,
    "deepnote_cell_type": "code",
    "deepnote_to_be_reexecuted": true,
    "execution_millis": 4,
    "execution_start": 1649357493176,
    "source_hash": "2c8df69f"
   },
   "outputs": [],
   "source": [
    "# Create a new variable with all the total population values\n",
    "fem_total_population = fem_year_groups.column(\"total_population sum\") \n",
    "\n",
    "# Calculate designed capacity percentages\n",
    "fem_design_capacity = fem_year_groups.column(\"designed_capacity sum\")\n",
    "fem_design_percentage = (fem_total_population / fem_design_capacity) *100\n",
    "\n",
    "# Calculate staff capacity percentages\n",
    "fem_staff_capacity = fem_year_groups.column(\"staffed_capacity sum\")\n",
    "fem_staff_percentage =(fem_total_population / fem_staff_capacity)*100"
   ]
  },
  {
   "cell_type": "markdown",
   "metadata": {
    "cell_id": "00108-ed035d24-49ea-4830-8d4f-cbb0dfaef7c3",
    "deepnote_cell_height": 119.59375,
    "deepnote_cell_type": "markdown",
    "tags": [
     "ignore"
    ]
   },
   "source": [
    "In order to compare these two values with each other as we did before, we will want to add the percentages to a table. We could either create a new table, or add the percentages to our existing table and select only the necessary columns. Neither approach is more correct, but for readability's sake, we will create a new table below."
   ]
  },
  {
   "cell_type": "code",
   "execution_count": null,
   "metadata": {
    "cell_id": "00109-4cc0d746-68fb-4b03-bee8-65e76656c09d",
    "deepnote_cell_height": 319.1875,
    "deepnote_cell_type": "code",
    "deepnote_output_heights": [
     150.1875
    ],
    "deepnote_to_be_reexecuted": true,
    "execution_millis": 11,
    "execution_start": 1649357523968,
    "source_hash": "8e850c78"
   },
   "outputs": [],
   "source": [
    "fem_plot_table = Table().with_columns(\n",
    "    \"year\", np.arange(1996, 2022+1),\n",
    "    \"Design Percent Occupied\", fem_design_percentage,\n",
    "    \"Staff Percent Occupied\", fem_staff_percentage)\n",
    "fem_plot_table.show(3)"
   ]
  },
  {
   "cell_type": "markdown",
   "metadata": {
    "cell_id": "00110-b64b95b7-c9e9-49ff-9669-ed8e8f644fb2",
    "deepnote_cell_height": 52.390625,
    "deepnote_cell_type": "markdown",
    "tags": [
     "ignore"
    ]
   },
   "source": [
    "To plot both the Designed Percentage and the Staff Percentage, we will use the `plot()` function."
   ]
  },
  {
   "cell_type": "code",
   "execution_count": null,
   "metadata": {
    "cell_id": "00111-75c8dbb8-e27d-4886-b8ab-c57e73d1133e",
    "deepnote_cell_height": 589.953125,
    "deepnote_cell_type": "code",
    "deepnote_output_heights": [
     420.953125
    ],
    "deepnote_to_be_reexecuted": true,
    "execution_millis": 1357,
    "execution_start": 1649357545073,
    "source_hash": "612b3429",
    "tags": [
     "ignore"
    ]
   },
   "outputs": [],
   "source": [
    "fem_plot_table.plot(\"year\")\n",
    "\n",
    "plt.xlabel(\"Year\")\n",
    "plt.ylabel(\"Percent Occupied\")\n",
    "plt.title(\"Designed Capacity versus Staff Capacity for FEMALE Prisons\");"
   ]
  },
  {
   "cell_type": "markdown",
   "metadata": {
    "cell_id": "00112-2885ef41-4f32-4fc2-bb7c-82a539da01bd",
    "deepnote_cell_height": 54,
    "deepnote_cell_type": "markdown",
    "tags": [
     "ignore"
    ]
   },
   "source": [
    "#### Unique Male Prisons"
   ]
  },
  {
   "cell_type": "markdown",
   "metadata": {
    "cell_id": "00113-0dfdad48-32d5-42a9-a2e8-8019545942cd",
    "deepnote_cell_height": 155.984375,
    "deepnote_cell_type": "markdown",
    "tags": [
     "ignore"
    ]
   },
   "source": [
    "Similar to our process in selecting only the female serving institutions, we will now repeat our analysis for male serving institutions. Another way to think about the filtering process is that we are excluding rows with female institutions.\n",
    "\n",
    "Notice how instead of using a function called `are.contained_in()` we are using a function called `are.not_contained_in()`. In this way we skip the step where we make a list/array of only male serving prisons."
   ]
  },
  {
   "cell_type": "code",
   "execution_count": null,
   "metadata": {
    "cell_id": "00114-013d9ef3-b892-4d24-808e-7dda3f220558",
    "deepnote_cell_height": 265.1875,
    "deepnote_cell_type": "code",
    "deepnote_output_heights": [
     150.1875
    ],
    "deepnote_to_be_reexecuted": true,
    "execution_millis": 266,
    "execution_start": 1649357555264,
    "source_hash": "9287d733"
   },
   "outputs": [],
   "source": [
    "male_data = prisons_updated.where(\"institution_name\", are.not_contained_in(female_institutions))\n",
    "male_data.show(3)"
   ]
  },
  {
   "cell_type": "markdown",
   "metadata": {
    "cell_id": "00115-1b8759da-dc6f-4dba-a9d3-9009efc36ffe",
    "deepnote_cell_height": 54,
    "deepnote_cell_type": "markdown",
    "tags": [
     "ignore"
    ]
   },
   "source": [
    "#### Design Capacity Versus Staff Capacity for Male Institutions"
   ]
  },
  {
   "cell_type": "markdown",
   "metadata": {
    "cell_id": "00116-b5306dd6-0638-4680-ab87-8bdc837e8606",
    "deepnote_cell_height": 74.796875,
    "deepnote_cell_type": "markdown",
    "tags": [
     "ignore"
    ]
   },
   "source": [
    "We want to analyze the designed and staff capacities over time, so we will once again use the `select()` function to get relevant data and group by year."
   ]
  },
  {
   "cell_type": "code",
   "execution_count": null,
   "metadata": {
    "cell_id": "00117-e82ef9cc-48f2-48fd-93ac-3d06d233c418",
    "deepnote_cell_height": 265.1875,
    "deepnote_cell_type": "code",
    "deepnote_output_heights": [
     150.1875
    ],
    "deepnote_to_be_reexecuted": true,
    "execution_millis": 1063,
    "execution_start": 1649357559905,
    "source_hash": "e123e8dd"
   },
   "outputs": [],
   "source": [
    "male_grouped_year = male_data.select(\"year\", \"total_population\", \"designed_capacity\", \"staffed_capacity\").group('year', sum)\n",
    "male_grouped_year.show(3)"
   ]
  },
  {
   "cell_type": "markdown",
   "metadata": {
    "cell_id": "00118-5b00ba73-cde6-41e3-8dda-313e3c1da67f",
    "deepnote_cell_height": 111.1875,
    "deepnote_cell_type": "markdown",
    "tags": [
     "ignore"
    ]
   },
   "source": [
    "Let's repeat the same process as before, but with our male only data. If you would like to challenge yourself, try to recreate this process yourself! Feel free to create a new code cell below.\n",
    "\n",
    "Otherwise, run the cell below."
   ]
  },
  {
   "cell_type": "code",
   "execution_count": null,
   "metadata": {
    "cell_id": "00119-8fda333b-5bf0-4cc8-87fe-675acd89d85c",
    "deepnote_cell_height": 243,
    "deepnote_cell_type": "code",
    "deepnote_to_be_reexecuted": true,
    "execution_millis": 14,
    "execution_start": 1649357564632,
    "source_hash": "7f58c61b"
   },
   "outputs": [],
   "source": [
    "# Save total male population as new variable\n",
    "male_total_population = male_grouped_year.column(\"total_population sum\")\n",
    "\n",
    "# Calculate design capacity percentage\n",
    "male_design_capacity =  male_grouped_year.column(\"designed_capacity sum\")\n",
    "male_design_percentage = (male_total_population / male_design_capacity)* 100\n",
    "\n",
    "# Calculate staff capacity percentage\n",
    "male_staff_capacity =  male_grouped_year.column(\"staffed_capacity sum\")\n",
    "male_staff_percentage = (male_total_population / male_staff_capacity) *100"
   ]
  },
  {
   "cell_type": "markdown",
   "metadata": {
    "cell_id": "00120-b87456ae-5457-41b2-b2e9-82e26e940d61",
    "deepnote_cell_height": 52.390625,
    "deepnote_cell_type": "markdown",
    "tags": [
     "ignore"
    ]
   },
   "source": [
    "Just as in the female institution example, now we are adding both of these percentages to a new table."
   ]
  },
  {
   "cell_type": "code",
   "execution_count": null,
   "metadata": {
    "cell_id": "00121-6ac3c6c4-a5dc-4411-bc06-089cff6313fa",
    "deepnote_cell_height": 319.1875,
    "deepnote_cell_type": "code",
    "deepnote_output_heights": [
     150.1875
    ],
    "deepnote_to_be_reexecuted": true,
    "execution_millis": 0,
    "execution_start": 1649357575337,
    "source_hash": "44138add"
   },
   "outputs": [],
   "source": [
    "male_plot_table = Table().with_columns(\n",
    "    \"year\", np.arange(1996, 2022+1),\n",
    "    \"Design Percent Occupied\", male_design_percentage,\n",
    "    \"Staff Percent Occupied\", male_staff_percentage)\n",
    "male_plot_table.show(3)"
   ]
  },
  {
   "cell_type": "markdown",
   "metadata": {
    "cell_id": "00122-9683bed3-5d31-4072-860c-94590d03ec58",
    "deepnote_cell_height": 52.390625,
    "deepnote_cell_type": "markdown",
    "tags": [
     "ignore"
    ]
   },
   "source": [
    "Now let's plot it! You're starting to get the hang of this right?"
   ]
  },
  {
   "cell_type": "code",
   "execution_count": null,
   "metadata": {
    "cell_id": "00123-90e0a8b0-0c85-4beb-a10f-eb29aabf73ae",
    "deepnote_cell_height": 595,
    "deepnote_cell_type": "code",
    "deepnote_output_heights": [
     426
    ],
    "deepnote_to_be_reexecuted": true,
    "execution_millis": 825,
    "execution_start": 1649358294354,
    "source_hash": "2d2e4a32"
   },
   "outputs": [],
   "source": [
    "male_plot_table.plot(\"year\")\n",
    "\n",
    "plt.xlabel(\"Year\")\n",
    "plt.ylabel(\"Percent Occupied\")\n",
    "plt.title(\"Designed Capacity versus Staff Capacity for MALE Prisons\");"
   ]
  },
  {
   "cell_type": "markdown",
   "metadata": {
    "cell_id": "00124-8cd4c637-2cc6-4bd3-b86b-ae8f8fbb7483",
    "deepnote_cell_height": 54,
    "deepnote_cell_type": "markdown",
    "tags": [
     "ignore"
    ]
   },
   "source": [
    "#### Female vs Male Prisons: Designed and Staffed Capacities"
   ]
  },
  {
   "cell_type": "markdown",
   "metadata": {
    "cell_id": "00125-dc00a8fe-1670-4ea2-ba3d-9e3b1122d2d3",
    "deepnote_cell_height": 97.1875,
    "deepnote_cell_type": "markdown",
    "tags": [
     "ignore"
    ]
   },
   "source": [
    "Although we could compare the two plots side by side to contrast male and female institutions, it would be better to look at them on the same graph. We will set up the table to plot them together. Here are the two tables we used to draw the plots above."
   ]
  },
  {
   "cell_type": "code",
   "execution_count": null,
   "metadata": {
    "cell_id": "00126-65afb1b2-15e9-4fe4-8a18-58e670bfa09b",
    "deepnote_cell_height": 247.1875,
    "deepnote_cell_type": "code",
    "deepnote_output_heights": [
     150.1875
    ],
    "deepnote_to_be_reexecuted": true,
    "execution_millis": 33,
    "execution_start": 1649358302916,
    "source_hash": "2b31574c"
   },
   "outputs": [],
   "source": [
    "fem_plot_table.show(3)"
   ]
  },
  {
   "cell_type": "code",
   "execution_count": null,
   "metadata": {
    "cell_id": "00127-ff827c3f-65f0-44ef-956d-bbd45ca24831",
    "deepnote_cell_height": 247.1875,
    "deepnote_cell_type": "code",
    "deepnote_output_heights": [
     150.1875
    ],
    "deepnote_to_be_reexecuted": true,
    "execution_millis": 0,
    "execution_start": 1649358302961,
    "source_hash": "4a7e23c8"
   },
   "outputs": [],
   "source": [
    "male_plot_table.show(3)"
   ]
  },
  {
   "cell_type": "markdown",
   "metadata": {
    "cell_id": "00128-03024ea4-2754-4b69-bf2c-2efa335edb72",
    "deepnote_cell_height": 119.59375,
    "deepnote_cell_type": "markdown",
    "tags": [
     "ignore"
    ]
   },
   "source": [
    "Before we merge the two tables, we will want to differentiate between the `Design Percent Occupied` column in the female table versus in the male table. Same with the staff percentage column. To do this, we will relabel the column names. The function that will relabel to the column names is called `relabel()`. The function takes in two inputs: the old column name and a new column name."
   ]
  },
  {
   "cell_type": "code",
   "execution_count": null,
   "metadata": {
    "cell_id": "00129-91818a19-d0e2-481d-9ea6-f237e543246e",
    "deepnote_cell_height": 301.1875,
    "deepnote_cell_type": "code",
    "deepnote_output_heights": [
     150.1875
    ],
    "deepnote_to_be_reexecuted": true,
    "execution_millis": 14,
    "execution_start": 1649358305514,
    "source_hash": "1a335c95"
   },
   "outputs": [],
   "source": [
    "male_design_relabeled = male_plot_table.relabeled(\"Design Percent Occupied\", \"Male Designed Percentage\")\n",
    "male_relabeled = male_design_relabeled.relabeled(\"Staff Percent Occupied\", \"Male Staffed Percentage\")\n",
    "\n",
    "male_relabeled.show(3)"
   ]
  },
  {
   "cell_type": "code",
   "execution_count": null,
   "metadata": {
    "cell_id": "00130-7c968ef7-cd0c-462d-9999-ed5d35678e61",
    "deepnote_cell_height": 301.1875,
    "deepnote_cell_type": "code",
    "deepnote_output_heights": [
     150.1875
    ],
    "deepnote_to_be_reexecuted": true,
    "execution_millis": 6,
    "execution_start": 1649358305536,
    "source_hash": "29038dfa"
   },
   "outputs": [],
   "source": [
    "fem_design_relabeled = fem_plot_table.relabeled(\"Design Percent Occupied\", \"Female Designed Percentage\")\n",
    "fem_relabeled = fem_design_relabeled.relabeled(\"Staff Percent Occupied\", \"Female Staffed Percentage\")\n",
    "\n",
    "fem_relabeled.show(3)"
   ]
  },
  {
   "cell_type": "markdown",
   "metadata": {
    "cell_id": "00131-e11fd91c-bd93-4c5f-9705-0cc680a01092",
    "deepnote_cell_height": 169.984375,
    "deepnote_cell_type": "markdown",
    "tags": [
     "ignore"
    ]
   },
   "source": [
    "Now that we have distinct design and staff capacities for male and female groups, we can match the values by year. They contain information over the same years. To combine tables, we use a function called `join()`. The format for the function is:\n",
    "- *data_table_one*`.join(` *same_column*, *data_table_two*`)` where same_column is the name of the column that appears in both tables."
   ]
  },
  {
   "cell_type": "code",
   "execution_count": null,
   "metadata": {
    "cell_id": "00132-d3d34e41-f6cb-4314-9a92-99e0219a5482",
    "deepnote_cell_height": 265.1875,
    "deepnote_cell_type": "code",
    "deepnote_output_heights": [
     150.1875
    ],
    "deepnote_to_be_reexecuted": true,
    "execution_millis": 15,
    "execution_start": 1649358308679,
    "source_hash": "f97d4d49"
   },
   "outputs": [],
   "source": [
    "male_and_female_table = male_relabeled.join(\"year\", fem_relabeled)\n",
    "male_and_female_table.show(3)"
   ]
  },
  {
   "cell_type": "markdown",
   "metadata": {
    "cell_id": "00133-bfff558e-d624-4386-b724-35ff5236a3db",
    "deepnote_cell_height": 97.1875,
    "deepnote_cell_type": "markdown",
    "tags": [
     "ignore"
    ]
   },
   "source": [
    "Amazing! Now we can begin to do some comparative analysis on the two types of institutions. In the cells below we will generate some graphs to compare designed capacity between male and female prisons as well as staff capacity between the two."
   ]
  },
  {
   "cell_type": "markdown",
   "metadata": {
    "cell_id": "00134-f0d377a1-fb1a-4adc-87e9-d366a0ea7e76",
    "deepnote_cell_height": 54,
    "deepnote_cell_type": "markdown",
    "tags": [
     "ignore"
    ]
   },
   "source": [
    "#### Designed Capacity: Male vs Female"
   ]
  },
  {
   "cell_type": "code",
   "execution_count": null,
   "metadata": {
    "cell_id": "00135-2de33885-9665-4726-87de-9589cd0599ab",
    "deepnote_cell_height": 649,
    "deepnote_cell_type": "code",
    "deepnote_output_heights": [
     426
    ],
    "deepnote_to_be_reexecuted": true,
    "execution_millis": 548,
    "execution_start": 1649358313071,
    "source_hash": "32db77e0",
    "tags": [
     "ignore"
    ]
   },
   "outputs": [],
   "source": [
    "# Select only the design capacity columns from our previous table\n",
    "select_design = male_and_female_table.select(\"year\", \"Male Designed Percentage\", \"Female Designed Percentage\")\n",
    "\n",
    "select_design.plot(\"year\")\n",
    "\n",
    "plt.xlabel(\"Year\")\n",
    "plt.ylabel(\"Percent Occupied\")\n",
    "plt.title(\"Male versus Female Designed Capacity\");"
   ]
  },
  {
   "cell_type": "markdown",
   "metadata": {
    "cell_id": "00136-127fb51d-4061-48b1-b8af-38c22b7847ac",
    "deepnote_cell_height": 54,
    "deepnote_cell_type": "markdown",
    "tags": [
     "ignore"
    ]
   },
   "source": [
    "#### Staffed Capacity: Male vs Female"
   ]
  },
  {
   "cell_type": "code",
   "execution_count": null,
   "metadata": {
    "cell_id": "00137-dbf59a49-24e1-46bf-8fae-4bf654d2ff53",
    "deepnote_cell_height": 649,
    "deepnote_cell_type": "code",
    "deepnote_output_heights": [
     426
    ],
    "deepnote_to_be_reexecuted": true,
    "execution_millis": 585,
    "execution_start": 1649358318381,
    "scrolled": true,
    "source_hash": "d0b37e33",
    "tags": [
     "ignore"
    ]
   },
   "outputs": [],
   "source": [
    "# Select only the staff capacity related columns from our table\n",
    "select_staff = male_and_female_table.select(\"year\", \"Male Staffed Percentage\", \"Female Staffed Percentage\")\n",
    "\n",
    "select_staff.plot(\"year\")\n",
    "\n",
    "plt.xlabel(\"Year\")\n",
    "plt.ylabel(\"Percent Occupied\")\n",
    "plt.title(\"Male versus Female Staffed Capacity\");"
   ]
  },
  {
   "cell_type": "markdown",
   "metadata": {
    "cell_id": "00138-5fd08135-7c5a-4805-bb34-ae9c57dce634",
    "deepnote_cell_height": 199.59375,
    "deepnote_cell_type": "markdown",
    "tags": [
     "ignore"
    ]
   },
   "source": [
    "### Male Prisons vs Female Prisons in both Staff and Designed Capacity\n",
    "Perhaps we'd like to view the differences in both staff and designed capacity between male and female prisons in the same graph. We do this in the cell below. Notice that the staff capacity graph seems to compress and the differences between the male and female prisons in staff capacity don't seem as great anymore. This has to do with the scale of our new graph."
   ]
  },
  {
   "cell_type": "code",
   "execution_count": null,
   "metadata": {
    "cell_id": "00139-6a1945a7-704a-4419-871f-731048b705b3",
    "deepnote_cell_height": 595,
    "deepnote_cell_type": "code",
    "deepnote_output_heights": [
     426
    ],
    "deepnote_to_be_reexecuted": true,
    "execution_millis": 825,
    "execution_start": 1649358319415,
    "source_hash": "5c23d40f",
    "tags": [
     "ignore"
    ]
   },
   "outputs": [],
   "source": [
    "male_and_female_table.plot(\"year\")\n",
    "\n",
    "plt.xlabel(\"Year\")\n",
    "plt.ylabel(\"Percent Occupied\")\n",
    "plt.title(\"Male Prisons versus Female Prisons\");"
   ]
  },
  {
   "cell_type": "markdown",
   "metadata": {
    "cell_id": "00140-ebf31fd2-167e-4036-9cff-d47e11c1acb1",
    "deepnote_cell_height": 119.59375,
    "deepnote_cell_type": "markdown",
    "tags": [
     "ignore"
    ]
   },
   "source": [
    "How does the combination of male and female institutions compare with the institutions overall (not separated between male and female)? To answer this question, let's look back towards the beginning of this notebook where we defined the table called `compare_table_design_and_staff` that compared designed and staff percentages by year that included both male and female institutions."
   ]
  },
  {
   "cell_type": "code",
   "execution_count": null,
   "metadata": {
    "cell_id": "00141-a56d09d7-2c96-4e32-ae24-01647a15f9ba",
    "deepnote_cell_height": 247.1875,
    "deepnote_cell_type": "code",
    "deepnote_output_heights": [
     150.1875
    ],
    "deepnote_to_be_reexecuted": true,
    "execution_millis": 27,
    "execution_start": 1649358321522,
    "source_hash": "1354fcd1"
   },
   "outputs": [],
   "source": [
    "compare_table_design_and_staff.show(3)"
   ]
  },
  {
   "cell_type": "markdown",
   "metadata": {
    "cell_id": "00142-d19a6aec-37c4-46b7-be1d-a002eeccf96a",
    "deepnote_cell_height": 74.796875,
    "deepnote_cell_type": "markdown",
    "tags": [
     "ignore"
    ]
   },
   "source": [
    "We want to combine the total percentages table above with the table that contains the percentages for male and female prisons separately. To combine the two tables, we will use the `join()` function again."
   ]
  },
  {
   "cell_type": "code",
   "execution_count": null,
   "metadata": {
    "cell_id": "00143-67570dad-6015-4feb-ba3e-bd7aec665873",
    "deepnote_cell_height": 265.1875,
    "deepnote_cell_type": "code",
    "deepnote_output_heights": [
     150.1875
    ],
    "deepnote_to_be_reexecuted": true,
    "execution_millis": 12,
    "execution_start": 1649358323109,
    "source_hash": "3380cad3"
   },
   "outputs": [],
   "source": [
    "all_joined = compare_table_design_and_staff.join(\"year\", male_and_female_table)\n",
    "all_joined.show(3)"
   ]
  },
  {
   "cell_type": "markdown",
   "metadata": {
    "cell_id": "00144-2ff7b2c2-7748-4c8e-a497-79c453f608e7",
    "deepnote_cell_height": 97.1875,
    "deepnote_cell_type": "markdown",
    "tags": [
     "ignore"
    ]
   },
   "source": [
    "In the following cell, we will select only the columns having to do with designed capacity percentages and plot them against each other. In the generated plot you should see both a total designed capacity percentage and both male and female designed capacity percentages."
   ]
  },
  {
   "cell_type": "code",
   "execution_count": null,
   "metadata": {
    "cell_id": "00145-98dc9c2e-cd40-45a2-8773-64b02f52de3f",
    "deepnote_cell_height": 607.40625,
    "deepnote_cell_type": "code",
    "deepnote_output_heights": [
     420.40625
    ],
    "deepnote_to_be_reexecuted": true,
    "execution_millis": 565,
    "execution_start": 1649358324753,
    "source_hash": "c91c42c9",
    "tags": [
     "ignore"
    ]
   },
   "outputs": [],
   "source": [
    "design_all = all_joined.select(\"year\", \"Design Percentage\", \"Male Designed Percentage\", \"Female Designed Percentage\")\n",
    "design_all.plot(\"year\")\n",
    "\n",
    "plt.xlabel(\"Year\")\n",
    "plt.ylabel(\"Percent Occupied\")\n",
    "plt.title(\"Male Prisons versus Female Prisons Designed Capacity\");"
   ]
  },
  {
   "cell_type": "markdown",
   "metadata": {
    "cell_id": "00146-4321c694-c977-432e-a716-d73a20c8f8ef",
    "deepnote_cell_height": 52.390625,
    "deepnote_cell_type": "markdown",
    "tags": [
     "ignore"
    ]
   },
   "source": [
    "Now we will repeat this process but for staff capacity percentages:"
   ]
  },
  {
   "cell_type": "code",
   "execution_count": null,
   "metadata": {
    "cell_id": "00147-21aabcb3-0d7c-4735-b5bb-ba86b04b41f7",
    "deepnote_cell_height": 613,
    "deepnote_cell_type": "code",
    "deepnote_output_heights": [
     426
    ],
    "deepnote_to_be_reexecuted": true,
    "execution_millis": 554,
    "execution_start": 1649358327748,
    "source_hash": "66492e49",
    "tags": [
     "ignore"
    ]
   },
   "outputs": [],
   "source": [
    "staff_all = all_joined.select(\"year\", \"Staff Percentage\", \"Male Staffed Percentage\", \"Female Staffed Percentage\")\n",
    "staff_all.plot(\"year\")\n",
    "\n",
    "plt.xlabel(\"Year\")\n",
    "plt.ylabel(\"Percent Occupied\")\n",
    "plt.title(\"Male Prisons versus Female Prisons Staffed Capacity\");"
   ]
  },
  {
   "cell_type": "markdown",
   "metadata": {
    "cell_id": "00148-58dab26b-7d91-40c7-b9e4-aa8dbfd9d93e",
    "deepnote_cell_height": 52.390625,
    "deepnote_cell_type": "markdown",
    "tags": [
     "ignore"
    ]
   },
   "source": [
    "We're almost done! Now to view all this information on one graph."
   ]
  },
  {
   "cell_type": "code",
   "execution_count": null,
   "metadata": {
    "cell_id": "00149-c518636e-d387-48f1-9698-83bec4e52085",
    "deepnote_cell_height": 595,
    "deepnote_cell_type": "code",
    "deepnote_output_heights": [
     426
    ],
    "deepnote_to_be_reexecuted": true,
    "execution_millis": 788,
    "execution_start": 1649358330044,
    "source_hash": "acbc63ad",
    "tags": [
     "include"
    ]
   },
   "outputs": [],
   "source": [
    "all_joined.plot(\"year\")\n",
    "\n",
    "plt.xlabel(\"Year\")\n",
    "plt.ylabel(\"Percent Occupied\")\n",
    "plt.title(\"Male Prisons versus Female Prisons\");"
   ]
  },
  {
   "cell_type": "markdown",
   "metadata": {
    "cell_id": "00150-998d6ed1-d52b-4ec1-bd48-7eb0945e84bc",
    "deepnote_cell_height": 97.1875,
    "deepnote_cell_type": "markdown",
    "tags": [
     "include"
    ]
   },
   "source": [
    "<!-- BEGIN QUESTION --> \n",
    "\n",
    "<font color = #d14d0f>**QUESTION 14:**</font> \n",
    "Comment on the plot above. What are the differences between designed and staffed capacity? What are some patterns unique to female institutions? Why does the total population look almost identical to the male prisons percentages?"
   ]
  },
  {
   "cell_type": "markdown",
   "metadata": {
    "cell_id": "00151-bb051e37-61f6-446c-b70a-9a0ab258898b",
    "deepnote_cell_height": 52.390625,
    "deepnote_cell_type": "markdown",
    "tags": [
     "include"
    ]
   },
   "source": [
    "*Replace this text with your response!*"
   ]
  },
  {
   "cell_type": "markdown",
   "metadata": {
    "cell_id": "00152-b16aee29-73e4-4418-8158-92bca733dd3d",
    "deepnote_cell_height": 155.984375,
    "deepnote_cell_type": "markdown",
    "tags": [
     "ignore"
    ]
   },
   "source": [
    "<!-- END QUESTION --> \n",
    "\n",
    "Thank you for taking the time to complete the first notebook! We hope you found it insightful. Lastly, run the cell below to output your responses as a pdf. There is no need to edit any of the code in the cell below, but make sure that you've run and completed your notebook!\n",
    "\n",
    "**First, run all your cells by clicking \"Cell\" > \"Run All\" and save by either clicking \"File\" > \"Save and checkpoint\"!**\n",
    "***Then, run the next cell!***"
   ]
  },
  {
   "cell_type": "code",
   "execution_count": null,
   "metadata": {
    "cell_id": "00153-21e2fd8c-54bc-41ce-98db-6814a854a9ca",
    "deepnote_cell_height": 261.1875,
    "deepnote_cell_type": "code",
    "deepnote_to_be_reexecuted": true,
    "execution_millis": 11,
    "execution_start": 1649358060508,
    "owner_user_id": "f002be3a-ffea-4f50-b514-adb6f2c4b8ee",
    "source_hash": "31fef228"
   },
   "outputs": [],
   "source": [
    "#This may take a few extra seconds.\n",
    "from otter.export import export_notebook\n",
    "from IPython.display import display, HTML\n",
    "export_notebook(\"Lecture_1.ipynb\", filtering=True, pagebreaks=True)\n",
    "display(HTML(\"Save this notebook, then click <a href='Lecture_1.pdf' download>here</a> to open the pdf.\"))"
   ]
  },
  {
   "cell_type": "markdown",
   "metadata": {
    "cell_id": "00154-17b87b74-bb28-4c61-b7c8-923f5bcbb3ce",
    "deepnote_cell_height": 111.1875,
    "deepnote_cell_type": "markdown",
    "tags": [
     "ignore"
    ]
   },
   "source": [
    "If clicking the link above doesn't work for you, don't worry! Simply right click and choose \"Save Link As...\" to save a copy of your pdf onto your computer.\n",
    "\n",
    "**--> Submit completed Lecture 1 notebook to your corresponding bCourses assignment**"
   ]
  },
  {
   "cell_type": "markdown",
   "metadata": {
    "cell_id": "00155-0313aa65-ba71-4089-8aaa-68a2b1411480",
    "deepnote_cell_height": 126.1875,
    "deepnote_cell_type": "markdown",
    "owner_user_id": "6461a15d-c525-4c0f-afd6-f07313cda3f0",
    "tags": [
     "ignore"
    ]
   },
   "source": [
    "---\n",
    "Notebook developed by: Ashley Quiterio, Shalini Kunapuli, Alma Pineda, and William McEachen\n",
    "\n",
    "Notebook renovated by: Skye Pickett and Caitlin Yee\n",
    "\n",
    "Data Science Modules: http://data.berkeley.edu/education/modules"
   ]
  }
 ],
 "metadata": {
  "deepnote": {},
  "deepnote_execution_queue": [],
  "deepnote_notebook_id": "f44222c7-b070-4d9f-a8bc-bde7a18c6a08",
  "kernelspec": {
   "display_name": "Python 3 (ipykernel)",
   "language": "python",
   "name": "python3"
  },
  "language_info": {
   "codemirror_mode": {
    "name": "ipython",
    "version": 3
   },
   "file_extension": ".py",
   "mimetype": "text/x-python",
   "name": "python",
   "nbconvert_exporter": "python",
   "pygments_lexer": "ipython3",
   "version": "3.9.12"
  }
 },
 "nbformat": 4,
 "nbformat_minor": 2
}
